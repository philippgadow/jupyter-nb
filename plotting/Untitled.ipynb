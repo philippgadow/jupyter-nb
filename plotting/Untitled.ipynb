{
 "cells": [
  {
   "cell_type": "code",
   "execution_count": 2,
   "metadata": {},
   "outputs": [],
   "source": [
    "%matplotlib inline"
   ]
  },
  {
   "cell_type": "code",
   "execution_count": 8,
   "metadata": {},
   "outputs": [
    {
     "data": {
      "image/png": "[encoded data removed]",
      "text/plain": [
       "<matplotlib.figure.Figure at 0x7f458d2327f0>"
      ]
     },
     "metadata": {},
     "output_type": "display_data"
    }
   ],
   "source": [
    "import numpy as np\n",
    "from pyjet import cluster, DTYPE_PTEPM\n",
    "from pyjet.testdata import get_event\n",
    "import matplotlib.pyplot as plt\n",
    "from matplotlib.pyplot import cm\n",
    "from matplotlib.colors import LinearSegmentedColormap\n",
    "\n",
    "# define eta and phi ranges and number of bins along each axis\n",
    "eta_min, eta_max = -4., 4.\n",
    "extent = eta_min, eta_max, -np.pi, np.pi\n",
    "bins = 200\n",
    "\n",
    "event = get_event()\n",
    "\n",
    "# create regular grid of ghosts\n",
    "eta_edges = np.linspace(eta_min, eta_max, bins + 1)\n",
    "phi_edges = np.linspace(-np.pi, np.pi, bins + 1)\n",
    "eta = np.linspace(eta_min, eta_max, bins + 1)[:-1] + (eta_max - eta_min) / (2 * bins)\n",
    "phi = np.linspace(-np.pi, np.pi, bins + 1)[:-1] + (np.pi / bins)\n",
    "X, Y = np.meshgrid(eta, phi)\n",
    "ghosts = np.zeros(eta.shape[0] * phi.shape[0], dtype=DTYPE_PTEPM)\n",
    "ghosts['pT'] = 1e-8\n",
    "ghosts['eta'] = X.ravel()\n",
    "ghosts['phi'] = Y.ravel()\n",
    "\n",
    "# add ghosts to the event\n",
    "event = np.concatenate([event, ghosts], axis=0)\n",
    "\n",
    "fig = plt.figure(figsize=(9, 3))\n",
    "\n",
    "ax = None\n",
    "for p, label in zip((-1, 0, 1), (r'anti-$k_t$', 'Cam/Aachen', '$k_t$')):\n",
    "    # cluster\n",
    "    sequence = cluster(event, R=1.0, p=p)\n",
    "    jets = sequence.inclusive_jets(ptmin=10)\n",
    "\n",
    "    # pick a different color for each jet\n",
    "    colors = cm.rainbow(np.linspace(0, 1, len(jets)))\n",
    "    cmap = LinearSegmentedColormap.from_list('cmap', colors, len(colors))\n",
    "    ax = fig.add_subplot(1, 3, p + 2, sharey=ax)\n",
    "    area = np.zeros((eta_edges.shape[0] - 1, phi_edges.shape[0] - 1),\n",
    "                    dtype=np.float64)\n",
    "    for ijet, jet in enumerate(jets):\n",
    "        constit = jet.constituents_array()\n",
    "        jetarea, _, _ = np.histogram2d(constit['eta'], constit['phi'],\n",
    "                                       bins=(eta_edges, phi_edges))\n",
    "        area += (jetarea > 0) * (ijet + 1)\n",
    "\n",
    "    # plot all areas\n",
    "    ax.imshow(np.ma.masked_where(area == 0, area).T, cmap=cmap,\n",
    "              extent=extent, aspect=(eta_max - eta_min) / (2*np.pi),\n",
    "              interpolation='none', origin='lower')\n",
    "\n",
    "    # overlay original event\n",
    "    particles = get_event()\n",
    "    ax.scatter(particles['eta'], particles['phi'],\n",
    "               s=30 * particles['pT'] / particles['pT'].max())\n",
    "    ax.set_xlim(extent[:2])\n",
    "    ax.set_ylim(extent[2:])\n",
    "    if p == -1:\n",
    "        ax.set_ylabel(r'$\\phi$')\n",
    "        ax.set_xlabel(r'$\\eta$')\n",
    "\n",
    "    ax.text(0.95, 0.05, label,\n",
    "        verticalalignment='bottom', horizontalalignment='right',\n",
    "        transform=ax.transAxes,\n",
    "        fontsize=12)\n",
    "\n",
    "fig.subplots_adjust(hspace=0)\n",
    "plt.setp([a.get_yticklabels() for a in fig.axes[1:]], visible=False)\n",
    "fig.tight_layout()"
   ]
  },
  {
   "cell_type": "code",
   "execution_count": 43,
   "metadata": {},
   "outputs": [],
   "source": [
    "# check if number of jobs in array is larger than maximum number of jobs running at the same time\n",
    "def chunks(l, n):\n",
    "    \"\"\"Yield successive n-sized chunks from l.\"\"\"\n",
    "    for i in range(0, len(l), n):\n",
    "        yield l[i:i + n]"
   ]
  },
  {
   "cell_type": "code",
   "execution_count": 46,
   "metadata": {},
   "outputs": [],
   "source": [
    "arrays = list(chunks(range(12), 5))"
   ]
  },
  {
   "cell_type": "code",
   "execution_count": 53,
   "metadata": {},
   "outputs": [
    {
     "name": "stdout",
     "output_type": "stream",
     "text": [
      "10\n",
      "2\n",
      "5\n",
      "5\n",
      "0\n",
      "5\n"
     ]
    }
   ],
   "source": [
    "for i, array in reversed(list(enumerate(arrays))):\n",
    "    print(array[0])\n",
    "    print(len(array))"
   ]
  },
  {
   "cell_type": "code",
   "execution_count": 49,
   "metadata": {},
   "outputs": [
    {
     "name": "stdout",
     "output_type": "stream",
     "text": [
      "5\n"
     ]
    }
   ],
   "source": [
    "print(arrays[1][0])"
   ]
  },
  {
   "cell_type": "code",
   "execution_count": 36,
   "metadata": {},
   "outputs": [
    {
     "data": {
      "text/plain": [
       "2"
      ]
     },
     "execution_count": 36,
     "metadata": {},
     "output_type": "execute_result"
    }
   ],
   "source": [
    "sum(1 for x in arrays)"
   ]
  },
  {
   "cell_type": "code",
   "execution_count": null,
   "metadata": {},
   "outputs": [],
   "source": []
  }
 ],
 "metadata": {
  "kernelspec": {
   "display_name": "Python 3",
   "language": "python",
   "name": "python3"
  },
  "language_info": {
   "codemirror_mode": {
    "name": "ipython",
    "version": 3
   },
   "file_extension": ".py",
   "mimetype": "text/x-python",
   "name": "python",
   "nbconvert_exporter": "python",
   "pygments_lexer": "ipython3",
   "version": "3.5.2"
  }
 },
 "nbformat": 4,
 "nbformat_minor": 2
}
