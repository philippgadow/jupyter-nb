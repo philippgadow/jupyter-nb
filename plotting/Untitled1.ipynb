{
 "cells": [
  {
   "cell_type": "markdown",
   "metadata": {},
   "source": [
    "## Example usage of numpythia and fastjet"
   ]
  },
  {
   "cell_type": "code",
   "execution_count": 18,
   "metadata": {},
   "outputs": [],
   "source": [
    "import numpy as np\n",
    "from numpythia import Pythia, STATUS, HAS_END_VERTEX, ABS_PDG_ID\n",
    "from pyjet import cluster, DTYPE_PTEPM\n",
    "from pyjet.testdata import get_event\n",
    "import matplotlib.pyplot as plt\n",
    "from matplotlib.pyplot import cm\n",
    "from matplotlib.colors import LinearSegmentedColormap\n",
    "from histbook import *\n",
    "from vega import VegaLite as canvas"
   ]
  },
  {
   "cell_type": "code",
   "execution_count": 19,
   "metadata": {},
   "outputs": [],
   "source": [
    "selection = ((STATUS == 1) & ~HAS_END_VERTEX &\n",
    "             (ABS_PDG_ID != 12) & (ABS_PDG_ID != 14) & (ABS_PDG_ID != 16))\n",
    "params_QCD = {\n",
    "    \"HardQCD:all\": \"on\",\n",
    "    \"Beams:eCM\": 13000,\n",
    "    \"PhaseSpace:pTHatMin\": 100,\n",
    "}\n",
    "\n",
    "params_Higgs = {\n",
    "    \"HiggsSM:all\": \"on\",\n",
    "    \"Beams:eCM\": 13000,\n",
    "}\n",
    "\n",
    "params_Top = {\n",
    "    \"Top:gg2ttbar\": \"on\",\n",
    "    \"Top:qqbar2ttbar\": \"on\",\n",
    "    \"Beams:eCM\": 13000,\n",
    "}\n",
    "\n",
    "# define eta and phi ranges and number of bins along each axis\n",
    "eta_min, eta_max = -4., 4.\n",
    "extent = eta_min, eta_max, -np.pi, np.pi\n",
    "bins = 200"
   ]
  },
  {
   "cell_type": "code",
   "execution_count": null,
   "metadata": {},
   "outputs": [],
   "source": [
    "masses_QCD = []\n",
    "for event in Pythia(params=params_QCD):\n",
    "    jets = cluster(event.all(selection),R=1,p=-1,ep=True).inclusive_jets()\n",
    "    if jets:\n",
    "        # print(jets[0].pt, jets[0].eta, jets[0].phi, jets[0].mass)\n",
    "        masses_QCD.append(jets[0].mass)\n",
    "        if len(masses_QCD) > 5: break\n",
    "array = np.array(masses_QCD)\n",
    "histogram = Hist(bin(\"data\", 30, 0, 300))\n",
    "histogram.fill(data=array)\n",
    "histogram.step(\"data\")"
   ]
  },
  {
   "cell_type": "code",
   "execution_count": null,
   "metadata": {},
   "outputs": [],
   "source": [
    "masses_Higgs = []\n",
    "for event in Pythia(params=params_Higgs):\n",
    "    ev = event.all(selection)\n",
    "    jets = cluster(ev,R=0.4,p=-1,ep=True).inclusive_jets()\n",
    "    if jets:\n",
    "        masses_Higgs.append(jets[0].mass + jets[1].mass)\n",
    "\n",
    "array = np.array(masses_Higgs)\n",
    "histogram = Hist(bin(\"data\", 30, 0, 300))\n",
    "histogram.fill(data=array)\n",
    "histogram.step(\"data\")"
   ]
  },
  {
   "cell_type": "code",
   "execution_count": 10,
   "metadata": {},
   "outputs": [
    {
     "data": {
      "application/vnd.vegalite.v2+json": {
       "$schema": "https://vega.github.io/schema/vega-lite/v2.json",
       "data": {
        "values": [
         {
          "a0": 0,
          "a1": 0
         },
         {
          "a0": 3.0000000000000004e-08,
          "a1": 5
         },
         {
          "a0": 10,
          "a1": 30
         },
         {
          "a0": 20,
          "a1": 114
         },
         {
          "a0": 30,
          "a1": 163
         },
         {
          "a0": 40,
          "a1": 125
         },
         {
          "a0": 50,
          "a1": 117
         },
         {
          "a0": 60,
          "a1": 112
         },
         {
          "a0": 70,
          "a1": 71
         },
         {
          "a0": 80,
          "a1": 70
         },
         {
          "a0": 90,
          "a1": 69
         },
         {
          "a0": 100,
          "a1": 40
         },
         {
          "a0": 109.99999999999999,
          "a1": 25
         },
         {
          "a0": 120,
          "a1": 11
         },
         {
          "a0": 130,
          "a1": 9
         },
         {
          "a0": 140,
          "a1": 4
         },
         {
          "a0": 150,
          "a1": 8
         },
         {
          "a0": 160,
          "a1": 5
         },
         {
          "a0": 170,
          "a1": 7
         },
         {
          "a0": 180,
          "a1": 6
         },
         {
          "a0": 190,
          "a1": 5
         },
         {
          "a0": 200,
          "a1": 2
         },
         {
          "a0": 210,
          "a1": 3
         },
         {
          "a0": 219.99999999999997,
          "a1": 0
         },
         {
          "a0": 230.00000000000003,
          "a1": 0
         },
         {
          "a0": 240,
          "a1": 0
         },
         {
          "a0": 250,
          "a1": 0
         },
         {
          "a0": 260,
          "a1": 0
         },
         {
          "a0": 270,
          "a1": 0
         },
         {
          "a0": 280,
          "a1": 0
         },
         {
          "a0": 290,
          "a1": 0
         },
         {
          "a0": 300,
          "a1": 0
         }
        ]
       },
       "encoding": {
        "x": {
         "axis": {
          "title": "data"
         },
         "field": "a0",
         "scale": {
          "zero": false
         },
         "type": "quantitative"
        },
        "y": {
         "axis": {
          "title": "entries per bin"
         },
         "field": "a1",
         "type": "quantitative"
        }
       },
       "mark": {
        "clip": true,
        "interpolate": "step-before",
        "type": "line"
       },
       "transform": []
      },
      "image/png": "[encoded data removed]",
      "text/plain": [
       "Hist(bin('data', 30, 0.0, 300.0)).step(bin('data', 30, 0.0, 300.0))"
      ]
     },
     "execution_count": 10,
     "metadata": {},
     "output_type": "execute_result"
    }
   ],
   "source": [
    "masses_Top = []\n",
    "for event in Pythia(params=params_Top):\n",
    "    jets = cluster(event.all(selection),R=1,p=-1,ep=True).inclusive_jets()\n",
    "    if jets:\n",
    "        # print(jets[0].pt, jets[0].eta, jets[0].phi, jets[0].mass)\n",
    "        masses_Top.append(jets[0].mass)\n",
    "        if len(masses_Top) > 1000: break\n",
    "array = np.array(masses_Top)\n",
    "histogram = Hist(bin(\"data\", 30, 0, 300))\n",
    "histogram.fill(data=array)\n",
    "histogram.step(\"data\")"
   ]
  },
  {
   "cell_type": "code",
   "execution_count": 6,
   "metadata": {},
   "outputs": [
    {
     "name": "stdout",
     "output_type": "stream",
     "text": [
      "[-1.1164676   1.29934981 -0.23772859 ... -0.59719042 -0.77865977\n",
      "  1.45044657]\n"
     ]
    }
   ],
   "source": []
  },
  {
   "cell_type": "code",
   "execution_count": null,
   "metadata": {},
   "outputs": [],
   "source": []
  }
 ],
 "metadata": {
  "kernelspec": {
   "display_name": "Python 3",
   "language": "python",
   "name": "python3"
  },
  "language_info": {
   "codemirror_mode": {
    "name": "ipython",
    "version": 3
   },
   "file_extension": ".py",
   "mimetype": "text/x-python",
   "name": "python",
   "nbconvert_exporter": "python",
   "pygments_lexer": "ipython3",
   "version": "3.5.2"
  }
 },
 "nbformat": 4,
 "nbformat_minor": 2
}
