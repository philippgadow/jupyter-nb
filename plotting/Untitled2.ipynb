{
 "cells": [
  {
   "cell_type": "markdown",
   "metadata": {},
   "source": [
    "## Rotation curve of our solar system\n",
    "\n",
    "To play around with some numbers, we plot the rotation curve of our solar system and try to fit it with the virial theorem prediction."
   ]
  },
  {
   "cell_type": "raw",
   "metadata": {},
   "source": [
    "Planetary Fact Sheet - Metric\n",
    "source: https://nssdc.gsfc.nasa.gov/planetary/factsheet/\n",
    "  \t MERCURY  \t VENUS  \t EARTH  \t MOON  \t MARS  \t JUPITER  \t SATURN  \t URANUS  \t NEPTUNE  \t PLUTO \n",
    "Mass (1024kg) \t0.330 \t4.87 \t5.97 \t0.073 \t0.642 \t1898 \t568 \t86.8 \t102 \t0.0146\n",
    "Diameter (km) \t4879 \t12,104 \t12,756 \t3475 \t6792 \t142,984 \t120,536 \t51,118 \t49,528 \t2370\n",
    "Density (kg/m3) \t5427 \t5243 \t5514 \t3340 \t3933 \t1326 \t687 \t1271 \t1638 \t2095\n",
    "Gravity (m/s2) \t3.7 \t8.9 \t9.8 \t1.6 \t3.7 \t23.1 \t9.0 \t8.7 \t11.0 \t0.7\n",
    "Escape Velocity (km/s) \t4.3 \t10.4 \t11.2 \t2.4 \t5.0 \t59.5 \t35.5 \t21.3 \t23.5 \t1.3\n",
    "Rotation Period (hours) \t1407.6 \t-5832.5 \t23.9 \t655.7 \t24.6 \t9.9 \t10.7 \t-17.2 \t16.1 \t-153.3\n",
    "Length of Day (hours) \t4222.6 \t2802.0 \t24.0 \t708.7 \t24.7 \t9.9 \t10.7 \t17.2 \t16.1 \t153.3\n",
    "Distance from Sun (106 km) \t57.9 \t108.2 \t149.6 \t0.384* \t227.9 \t778.6 \t1433.5 \t2872.5 \t4495.1 \t5906.4\n",
    "Perihelion (106 km) \t46.0 \t107.5 \t147.1 \t0.363* \t206.6 \t740.5 \t1352.6 \t2741.3 \t4444.5 \t4436.8\n",
    "Aphelion (106 km) \t69.8 \t108.9 \t152.1 \t0.406* \t249.2 \t816.6 \t1514.5 \t3003.6 \t4545.7 \t7375.9\n",
    "Orbital Period (days) \t88.0 \t224.7 \t365.2 \t27.3 \t687.0 \t4331 \t10,747 \t30,589 \t59,800 \t90,560\n",
    "Orbital Velocity (km/s) \t47.4 \t35.0 \t29.8 \t1.0 \t24.1 \t13.1 \t9.7 \t6.8 \t5.4 \t4.7\n",
    "Orbital Inclination (degrees) \t7.0 \t3.4 \t0.0 \t5.1 \t1.9 \t1.3 \t2.5 \t0.8 \t1.8 \t17.2\n",
    "Orbital Eccentricity \t0.205 \t0.007 \t0.017 \t0.055 \t0.094 \t0.049 \t0.057 \t0.046 \t0.011 \t0.244\n",
    "Obliquity to Orbit (degrees) \t0.034 \t177.4 \t23.4 \t6.7 \t25.2 \t3.1 \t26.7 \t97.8 \t28.3 \t122.5\n",
    "Mean Temperature (C) \t167 \t464 \t15 \t-20 \t-65 \t-110 \t-140 \t-195 \t-200 \t-225\n",
    "Surface Pressure (bars) \t0 \t92 \t1 \t0 \t0.01 \tUnknown* \tUnknown* \tUnknown* \tUnknown* \t0.00001\n",
    "Number of Moons \t0 \t0 \t1 \t0 \t2 \t79 \t62 \t27 \t14 \t5\n",
    "Ring System? \tNo \tNo \tNo \tNo \tNo \tYes \tYes \tYes \tYes \tNo\n",
    "Global Magnetic Field? \tYes \tNo \tYes \tNo \tNo \tYes \tYes \tYes \tYes \tUnknown"
   ]
  },
  {
   "cell_type": "code",
   "execution_count": 1,
   "metadata": {},
   "outputs": [],
   "source": [
    "%matplotlib inline"
   ]
  },
  {
   "cell_type": "code",
   "execution_count": 6,
   "metadata": {},
   "outputs": [],
   "source": [
    "import numpy as np\n",
    "import matplotlib.pyplot as plt"
   ]
  },
  {
   "cell_type": "code",
   "execution_count": 10,
   "metadata": {},
   "outputs": [],
   "source": [
    "# assemble the data\n",
    "velocity = np.array([47.4, 35.0, 29.8, 24.1, 13.1, 9.7, 6.8, 5.4, 4.7])\n",
    "distance = np.array([57.9, 108.2, 149.6, 227.9, 778.6, 1433.5, 2872.5, 4495.1, 5906.4])"
   ]
  },
  {
   "cell_type": "code",
   "execution_count": 12,
   "metadata": {},
   "outputs": [
    {
     "data": {
      "text/plain": [
       "<matplotlib.collections.PathCollection at 0x7f9e330374a8>"
      ]
     },
     "execution_count": 12,
     "metadata": {},
     "output_type": "execute_result"
    },
    {
     "data": {
      "image/png": "[encoded data removed]",
      "text/plain": [
       "<matplotlib.figure.Figure at 0x7f9e33037630>"
      ]
     },
     "metadata": {},
     "output_type": "display_data"
    }
   ],
   "source": [
    "# plot the data\n",
    "fig, ax = plt.subplots()\n",
    "ax.scatter(distance, velocity)"
   ]
  },
  {
   "cell_type": "code",
   "execution_count": null,
   "metadata": {},
   "outputs": [],
   "source": []
  }
 ],
 "metadata": {
  "kernelspec": {
   "display_name": "Python 3",
   "language": "python",
   "name": "python3"
  },
  "language_info": {
   "codemirror_mode": {
    "name": "ipython",
    "version": 3
   },
   "file_extension": ".py",
   "mimetype": "text/x-python",
   "name": "python",
   "nbconvert_exporter": "python",
   "pygments_lexer": "ipython3",
   "version": "3.5.2"
  }
 },
 "nbformat": 4,
 "nbformat_minor": 2
}
