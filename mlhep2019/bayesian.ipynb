{
 "cells": [
  {
   "cell_type": "markdown",
   "metadata": {},
   "source": [
    "## Practical session bayesian methods\n",
    "Excercise sheet of MLHEP2019 school"
   ]
  },
  {
   "cell_type": "markdown",
   "metadata": {},
   "source": [
    "### Excercise 1\n",
    "![title](./img1.png)"
   ]
  },
  {
   "cell_type": "code",
   "execution_count": 13,
   "metadata": {},
   "outputs": [
    {
     "name": "stdout",
     "output_type": "stream",
     "text": [
      "Probabiliy of examined person has disease: 0.009803921568627442\n"
     ]
    }
   ],
   "source": [
    "# x: test will be positive\n",
    "# y: person has disease\n",
    "p_x_bar_y = 0.99\n",
    "p_x_bar_nony = 1. - 0.99\n",
    "p_y =  1. / 10000.\n",
    "p_nony = 1. - p_y\n",
    "# use bayes rule, first need to compute evidence\n",
    "p_x = p_x_bar_y * p_y + p_x_bar_nony * p_nony\n",
    "p_y_bar_x = (p_x_bar_y * p_y) / (p_x)\n",
    "print(\"Probabiliy of examined person has disease: {p}\".format(p=p_y_bar_x))"
   ]
  },
  {
   "cell_type": "markdown",
   "metadata": {},
   "source": [
    "### Excercise 2\n",
    "![title](./img2.png)"
   ]
  },
  {
   "cell_type": "markdown",
   "metadata": {},
   "source": [
    "$$p(X | \\theta) = \\prod_{k=1}^{K} \\log \\theta_k^{N_k}$$\n",
    "\n",
    "Optimisation with constraint\n",
    "\n",
    "$$\\mathcal{L}(\\mu, \\lambda) = \\log p)X | \\exp \\mu) + \\lambda (\\sum_{k=1}^{K} \\exp \\mu_k -1) ...$$\n"
   ]
  },
  {
   "cell_type": "markdown",
   "metadata": {},
   "source": [
    "### Excercise 3\n",
    "![title](./img3.png)"
   ]
  },
  {
   "cell_type": "markdown",
   "metadata": {},
   "source": [
    "$$p(X | \\theta) = \\prod_{k=1}^{K} \\theta_k^{N_k}$$\n",
    "$$p(\\theta) =\\frac{1}{C} \\prod_{k=1}^{K} \\theta_k^{\\alpha_k -1}$$"
   ]
  },
  {
   "cell_type": "markdown",
   "metadata": {},
   "source": [
    "$$p(X | \\theta) = \\frac{1}{C} p(X | \\theta) p(\\theta) = \\frac{1}{C'} \\prod_{k=1}^{K} \\theta_k^{N_k} \\prod_{k=1}^{K} \\theta_k^{\\alpha_k -1}$$"
   ]
  },
  {
   "cell_type": "code",
   "execution_count": null,
   "metadata": {},
   "outputs": [],
   "source": []
  }
 ],
 "metadata": {
  "kernelspec": {
   "display_name": "Python 3",
   "language": "python",
   "name": "python3"
  },
  "language_info": {
   "codemirror_mode": {
    "name": "ipython",
    "version": 3
   },
   "file_extension": ".py",
   "mimetype": "text/x-python",
   "name": "python",
   "nbconvert_exporter": "python",
   "pygments_lexer": "ipython3",
   "version": "3.5.2"
  }
 },
 "nbformat": 4,
 "nbformat_minor": 2
}
