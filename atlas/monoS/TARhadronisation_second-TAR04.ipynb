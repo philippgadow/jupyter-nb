{
 "cells": [
  {
   "cell_type": "markdown",
   "metadata": {},
   "source": [
    "## plot signal efficiency with different hadronisation models using signal samples"
   ]
  },
  {
   "cell_type": "code",
   "execution_count": 36,
   "metadata": {},
   "outputs": [],
   "source": [
    "from io import StringIO\n",
    "import csv\n",
    "import matplotlib.pyplot as plt\n",
    "import pandas as pd"
   ]
  },
  {
   "cell_type": "markdown",
   "metadata": {},
   "source": [
    "# first the signal with mzp = 1 TeV, ms = 160 GeV"
   ]
  },
  {
   "cell_type": "code",
   "execution_count": 37,
   "metadata": {},
   "outputs": [],
   "source": [
    "data = \"\"\"\n",
    "pythia,SR_Preselection,met,3504.22537428,32.457195133\n",
    "pythia,SR_Intermediate,met,955.912668544,16.9313995203\n",
    "pythia,SR_Merged,met,107.388777794,5.69952849899\n",
    "herwig,SR_Preselection,met,3971.45626416,34.4171257453\n",
    "herwig,SR_Merged,met,137.039570297,6.36237857016\n",
    "herwig,SR_Intermediate,met,1127.11391286,18.3140366989\n",
    "\"\"\"\n",
    "f = StringIO(data)"
   ]
  },
  {
   "cell_type": "code",
   "execution_count": 39,
   "metadata": {},
   "outputs": [],
   "source": [
    "# uncertainty was evaluated by calling\n",
    "# https://gitlab.cern.ch/atlas-mpp-xampp/XAMPPmonoS/-/blob/master/XAMPPmonoS/python/various/studyCutEfficiency.py#L33\n",
    "df = pd.read_csv(f, names=['sample', 'region', 'variable', 'yield', 'uncertainty'])\n"
   ]
  },
  {
   "cell_type": "code",
   "execution_count": 40,
   "metadata": {},
   "outputs": [
    {
     "data": {
      "text/html": [
       "<div>\n",
       "<style scoped>\n",
       "    .dataframe tbody tr th:only-of-type {\n",
       "        vertical-align: middle;\n",
       "    }\n",
       "\n",
       "    .dataframe tbody tr th {\n",
       "        vertical-align: top;\n",
       "    }\n",
       "\n",
       "    .dataframe thead th {\n",
       "        text-align: right;\n",
       "    }\n",
       "</style>\n",
       "<table border=\"1\" class=\"dataframe\">\n",
       "  <thead>\n",
       "    <tr style=\"text-align: right;\">\n",
       "      <th></th>\n",
       "      <th>sample</th>\n",
       "      <th>region</th>\n",
       "      <th>variable</th>\n",
       "      <th>yield</th>\n",
       "      <th>uncertainty</th>\n",
       "    </tr>\n",
       "  </thead>\n",
       "  <tbody>\n",
       "    <tr>\n",
       "      <th>0</th>\n",
       "      <td>pythia</td>\n",
       "      <td>SR_Preselection</td>\n",
       "      <td>met</td>\n",
       "      <td>3504.225374</td>\n",
       "      <td>32.457195</td>\n",
       "    </tr>\n",
       "    <tr>\n",
       "      <th>1</th>\n",
       "      <td>pythia</td>\n",
       "      <td>SR_Intermediate</td>\n",
       "      <td>met</td>\n",
       "      <td>955.912669</td>\n",
       "      <td>16.931400</td>\n",
       "    </tr>\n",
       "    <tr>\n",
       "      <th>2</th>\n",
       "      <td>pythia</td>\n",
       "      <td>SR_Merged</td>\n",
       "      <td>met</td>\n",
       "      <td>107.388778</td>\n",
       "      <td>5.699528</td>\n",
       "    </tr>\n",
       "    <tr>\n",
       "      <th>3</th>\n",
       "      <td>herwig</td>\n",
       "      <td>SR_Preselection</td>\n",
       "      <td>met</td>\n",
       "      <td>3971.456264</td>\n",
       "      <td>34.417126</td>\n",
       "    </tr>\n",
       "    <tr>\n",
       "      <th>4</th>\n",
       "      <td>herwig</td>\n",
       "      <td>SR_Merged</td>\n",
       "      <td>met</td>\n",
       "      <td>137.039570</td>\n",
       "      <td>6.362379</td>\n",
       "    </tr>\n",
       "    <tr>\n",
       "      <th>5</th>\n",
       "      <td>herwig</td>\n",
       "      <td>SR_Intermediate</td>\n",
       "      <td>met</td>\n",
       "      <td>1127.113913</td>\n",
       "      <td>18.314037</td>\n",
       "    </tr>\n",
       "  </tbody>\n",
       "</table>\n",
       "</div>"
      ],
      "text/plain": [
       "   sample           region variable        yield  uncertainty\n",
       "0  pythia  SR_Preselection      met  3504.225374    32.457195\n",
       "1  pythia  SR_Intermediate      met   955.912669    16.931400\n",
       "2  pythia        SR_Merged      met   107.388778     5.699528\n",
       "3  herwig  SR_Preselection      met  3971.456264    34.417126\n",
       "4  herwig        SR_Merged      met   137.039570     6.362379\n",
       "5  herwig  SR_Intermediate      met  1127.113913    18.314037"
      ]
     },
     "execution_count": 40,
     "metadata": {},
     "output_type": "execute_result"
    }
   ],
   "source": [
    "df"
   ]
  },
  {
   "cell_type": "code",
   "execution_count": 41,
   "metadata": {},
   "outputs": [],
   "source": [
    "def calcRatioAndError(a, b, aError, bError):\n",
    "    \"\"\"Calculate ratio a/b and uncertainty on ratio a/b of two quantities a, b with uncertainties aError, bError\"\"\"\n",
    "    import math\n",
    "    return a / b, a / b * math.sqrt((aError / a)**2 + (bError / b)**2)\n",
    "\n",
    "\n",
    "\n",
    "line = \"\"\"\n",
    "\\\\begin{table}[htb]\n",
    "\\\\caption{Acceptance \\\\(\\\\times\\\\) efficiency (normalised to the preselection event yield) for signal samples (nominal and alternative) after full selection requirements in the respective regions.}\n",
    "\\\\label{tab:TARhadronisation-signal-cutefficiency}\n",
    "\\\\begin{tabular}{c r r}\n",
    "\\\\toprule\n",
    "region & \\\\(N_{\\\\text{region, nominal}} / N_{\\\\text{preselection, nominal}}\\\\)  & \\\\(N_{\\\\text{region, alternative}} / N_{\\\\text{preselection, alternative}}\\\\) \\\\\\\\\n",
    "\\\\midrule\n",
    "\"\"\"\n",
    "\n",
    "preselection_yield_nominal = df['yield'][(df['sample'] == 'pythia') & (df['region'] == \"SR_Preselection\")].values[0]\n",
    "preselection_uncer_nominal = df['uncertainty'][(df['sample'] == 'pythia') & (df['region'] == \"SR_Preselection\")].values[0]\n",
    "\n",
    "preselection_yield_alternative = df['yield'][(df['sample'] == 'herwig') & (df['region'] == \"SR_Preselection\")].values[0]\n",
    "preselection_uncer_alternative = df['uncertainty'][(df['sample'] == 'herwig') & (df['region'] == \"SR_Preselection\")].values[0]\n",
    "\n",
    "\n",
    "\n",
    "for region in sorted(df['region'].unique()):\n",
    "    yield_nominal = df['yield'][(df['sample'] == 'pythia') & (df['region'] == region)].values[0]\n",
    "    uncer_nominal = df['uncertainty'][(df['sample'] == 'pythia') & (df['region'] == region)].values[0]\n",
    "    # ratio to preselection\n",
    "    eff_nominal, unc_nominal = calcRatioAndError(yield_nominal, preselection_yield_nominal, uncer_nominal, preselection_uncer_nominal)\n",
    "    \n",
    "    yield_alternative = df['yield'][(df['sample'] == 'herwig') & (df['region'] == region)].values[0]\n",
    "    uncer_alternative = df['uncertainty'][(df['sample'] == 'herwig') & (df['region'] == region)].values[0]\n",
    "    # ratio to preselection\n",
    "    eff_alternative, unc_alternative = calcRatioAndError(yield_alternative, preselection_yield_alternative, uncer_alternative, preselection_uncer_alternative)\n",
    "    \n",
    "    line += \"{region} & \\({nominal:.5f} \\pm {uncnominal:.5f}\\) & \\({alternative:.5f} \\pm {uncalternative:.5f}\\) \\\\\\\\\\n\".format(region=region, nominal=eff_nominal, uncnominal=unc_nominal, alternative=eff_alternative, uncalternative=unc_alternative)\n",
    "line += \"\"\"\\\\bottomrule\n",
    "\\\\end{tabular}\n",
    "\\\\end{table}\n",
    "\"\"\""
   ]
  },
  {
   "cell_type": "code",
   "execution_count": 42,
   "metadata": {},
   "outputs": [
    {
     "name": "stdout",
     "output_type": "stream",
     "text": [
      "\n",
      "\\begin{table}[htb]\n",
      "\\caption{Acceptance \\(\\times\\) efficiency (normalised to the preselection event yield) for signal samples (nominal and alternative) after full selection requirements in the respective regions.}\n",
      "\\label{tab:TARhadronisation-signal-cutefficiency}\n",
      "\\begin{tabular}{c r r}\n",
      "\\toprule\n",
      "region & \\(N_{\\text{region, nominal}} / N_{\\text{preselection, nominal}}\\)  & \\(N_{\\text{region, alternative}} / N_{\\text{preselection, alternative}}\\) \\\\\n",
      "\\midrule\n",
      "SR_Intermediate & \\(0.27279 \\pm 0.00545\\) & \\(0.28380 \\pm 0.00523\\) \\\\\n",
      "SR_Merged & \\(0.03065 \\pm 0.00165\\) & \\(0.03451 \\pm 0.00163\\) \\\\\n",
      "SR_Preselection & \\(1.00000 \\pm 0.01310\\) & \\(1.00000 \\pm 0.01226\\) \\\\\n",
      "\\bottomrule\n",
      "\\end{tabular}\n",
      "\\end{table}\n",
      "\n"
     ]
    }
   ],
   "source": [
    "print(line)"
   ]
  },
  {
   "cell_type": "markdown",
   "metadata": {},
   "source": [
    "# now the signal with mzp = 1 TeV and ms = 310 GeV"
   ]
  },
  {
   "cell_type": "code",
   "execution_count": 43,
   "metadata": {},
   "outputs": [],
   "source": [
    "data = \"\"\"\n",
    "pythia,SR_Preselection,met,471.542983407,3.69670512234\n",
    "pythia,SR_Merged,met,9.27918529769,0.525277331544\n",
    "pythia,SR_Intermediate,met,138.060882602,1.98435478212\n",
    "herwig,SR_Preselection,met,516.653619477,3.86106943628\n",
    "herwig,SR_Merged,met,9.11599444802,0.510770445237\n",
    "herwig,SR_Intermediate,met,153.047318889,2.08189534425\n",
    "\"\"\"\n",
    "f = StringIO(data)"
   ]
  },
  {
   "cell_type": "code",
   "execution_count": 44,
   "metadata": {},
   "outputs": [],
   "source": [
    "# uncertainty was evaluated by calling\n",
    "# https://gitlab.cern.ch/atlas-mpp-xampp/XAMPPmonoS/-/blob/master/XAMPPmonoS/python/various/studyCutEfficiency.py#L33\n",
    "df = pd.read_csv(f, names=['sample', 'region', 'variable', 'yield', 'uncertainty'])\n"
   ]
  },
  {
   "cell_type": "code",
   "execution_count": 45,
   "metadata": {},
   "outputs": [
    {
     "data": {
      "text/html": [
       "<div>\n",
       "<style scoped>\n",
       "    .dataframe tbody tr th:only-of-type {\n",
       "        vertical-align: middle;\n",
       "    }\n",
       "\n",
       "    .dataframe tbody tr th {\n",
       "        vertical-align: top;\n",
       "    }\n",
       "\n",
       "    .dataframe thead th {\n",
       "        text-align: right;\n",
       "    }\n",
       "</style>\n",
       "<table border=\"1\" class=\"dataframe\">\n",
       "  <thead>\n",
       "    <tr style=\"text-align: right;\">\n",
       "      <th></th>\n",
       "      <th>sample</th>\n",
       "      <th>region</th>\n",
       "      <th>variable</th>\n",
       "      <th>yield</th>\n",
       "      <th>uncertainty</th>\n",
       "    </tr>\n",
       "  </thead>\n",
       "  <tbody>\n",
       "    <tr>\n",
       "      <th>0</th>\n",
       "      <td>pythia</td>\n",
       "      <td>SR_Preselection</td>\n",
       "      <td>met</td>\n",
       "      <td>471.542983</td>\n",
       "      <td>3.696705</td>\n",
       "    </tr>\n",
       "    <tr>\n",
       "      <th>1</th>\n",
       "      <td>pythia</td>\n",
       "      <td>SR_Merged</td>\n",
       "      <td>met</td>\n",
       "      <td>9.279185</td>\n",
       "      <td>0.525277</td>\n",
       "    </tr>\n",
       "    <tr>\n",
       "      <th>2</th>\n",
       "      <td>pythia</td>\n",
       "      <td>SR_Intermediate</td>\n",
       "      <td>met</td>\n",
       "      <td>138.060883</td>\n",
       "      <td>1.984355</td>\n",
       "    </tr>\n",
       "    <tr>\n",
       "      <th>3</th>\n",
       "      <td>herwig</td>\n",
       "      <td>SR_Preselection</td>\n",
       "      <td>met</td>\n",
       "      <td>516.653619</td>\n",
       "      <td>3.861069</td>\n",
       "    </tr>\n",
       "    <tr>\n",
       "      <th>4</th>\n",
       "      <td>herwig</td>\n",
       "      <td>SR_Merged</td>\n",
       "      <td>met</td>\n",
       "      <td>9.115994</td>\n",
       "      <td>0.510770</td>\n",
       "    </tr>\n",
       "    <tr>\n",
       "      <th>5</th>\n",
       "      <td>herwig</td>\n",
       "      <td>SR_Intermediate</td>\n",
       "      <td>met</td>\n",
       "      <td>153.047319</td>\n",
       "      <td>2.081895</td>\n",
       "    </tr>\n",
       "  </tbody>\n",
       "</table>\n",
       "</div>"
      ],
      "text/plain": [
       "   sample           region variable       yield  uncertainty\n",
       "0  pythia  SR_Preselection      met  471.542983     3.696705\n",
       "1  pythia        SR_Merged      met    9.279185     0.525277\n",
       "2  pythia  SR_Intermediate      met  138.060883     1.984355\n",
       "3  herwig  SR_Preselection      met  516.653619     3.861069\n",
       "4  herwig        SR_Merged      met    9.115994     0.510770\n",
       "5  herwig  SR_Intermediate      met  153.047319     2.081895"
      ]
     },
     "execution_count": 45,
     "metadata": {},
     "output_type": "execute_result"
    }
   ],
   "source": [
    "df"
   ]
  },
  {
   "cell_type": "code",
   "execution_count": 46,
   "metadata": {},
   "outputs": [],
   "source": [
    "def calcRatioAndError(a, b, aError, bError):\n",
    "    \"\"\"Calculate ratio a/b and uncertainty on ratio a/b of two quantities a, b with uncertainties aError, bError\"\"\"\n",
    "    import math\n",
    "    return a / b, a / b * math.sqrt((aError / a)**2 + (bError / b)**2)\n",
    "\n",
    "\n",
    "\n",
    "line = \"\"\"\n",
    "\\\\begin{table}[htb]\n",
    "\\\\caption{Acceptance \\\\(\\\\times\\\\) efficiency (normalised to the preselection event yield) for signal samples (nominal and alternative) after full selection requirements in the respective regions.}\n",
    "\\\\label{tab:TARhadronisation-signal-cutefficiency}\n",
    "\\\\begin{tabular}{c r r}\n",
    "\\\\toprule\n",
    "region & \\\\(N_{\\\\text{region, nominal}} / N_{\\\\text{preselection, nominal}}\\\\)  & \\\\(N_{\\\\text{region, alternative}} / N_{\\\\text{preselection, alternative}}\\\\) \\\\\\\\\n",
    "\\\\midrule\n",
    "\"\"\"\n",
    "\n",
    "preselection_yield_nominal = df['yield'][(df['sample'] == 'pythia') & (df['region'] == \"SR_Preselection\")].values[0]\n",
    "preselection_uncer_nominal = df['uncertainty'][(df['sample'] == 'pythia') & (df['region'] == \"SR_Preselection\")].values[0]\n",
    "\n",
    "preselection_yield_alternative = df['yield'][(df['sample'] == 'herwig') & (df['region'] == \"SR_Preselection\")].values[0]\n",
    "preselection_uncer_alternative = df['uncertainty'][(df['sample'] == 'herwig') & (df['region'] == \"SR_Preselection\")].values[0]\n",
    "\n",
    "\n",
    "\n",
    "for region in sorted(df['region'].unique()):\n",
    "    yield_nominal = df['yield'][(df['sample'] == 'pythia') & (df['region'] == region)].values[0]\n",
    "    uncer_nominal = df['uncertainty'][(df['sample'] == 'pythia') & (df['region'] == region)].values[0]\n",
    "    # ratio to preselection\n",
    "    eff_nominal, unc_nominal = calcRatioAndError(yield_nominal, preselection_yield_nominal, uncer_nominal, preselection_uncer_nominal)\n",
    "    \n",
    "    yield_alternative = df['yield'][(df['sample'] == 'herwig') & (df['region'] == region)].values[0]\n",
    "    uncer_alternative = df['uncertainty'][(df['sample'] == 'herwig') & (df['region'] == region)].values[0]\n",
    "    # ratio to preselection\n",
    "    eff_alternative, unc_alternative = calcRatioAndError(yield_alternative, preselection_yield_alternative, uncer_alternative, preselection_uncer_alternative)\n",
    "    \n",
    "    line += \"{region} & \\({nominal:.5f} \\pm {uncnominal:.5f}\\) & \\({alternative:.5f} \\pm {uncalternative:.5f}\\) \\\\\\\\\\n\".format(region=region, nominal=eff_nominal, uncnominal=unc_nominal, alternative=eff_alternative, uncalternative=unc_alternative)\n",
    "line += \"\"\"\\\\bottomrule\n",
    "\\\\end{tabular}\n",
    "\\\\end{table}\n",
    "\"\"\""
   ]
  },
  {
   "cell_type": "code",
   "execution_count": 47,
   "metadata": {},
   "outputs": [
    {
     "name": "stdout",
     "output_type": "stream",
     "text": [
      "\n",
      "\\begin{table}[htb]\n",
      "\\caption{Acceptance \\(\\times\\) efficiency (normalised to the preselection event yield) for signal samples (nominal and alternative) after full selection requirements in the respective regions.}\n",
      "\\label{tab:TARhadronisation-signal-cutefficiency}\n",
      "\\begin{tabular}{c r r}\n",
      "\\toprule\n",
      "region & \\(N_{\\text{region, nominal}} / N_{\\text{preselection, nominal}}\\)  & \\(N_{\\text{region, alternative}} / N_{\\text{preselection, alternative}}\\) \\\\\n",
      "\\midrule\n",
      "SR_Intermediate & \\(0.29279 \\pm 0.00479\\) & \\(0.29623 \\pm 0.00460\\) \\\\\n",
      "SR_Merged & \\(0.01968 \\pm 0.00112\\) & \\(0.01764 \\pm 0.00100\\) \\\\\n",
      "SR_Preselection & \\(1.00000 \\pm 0.01109\\) & \\(1.00000 \\pm 0.01057\\) \\\\\n",
      "\\bottomrule\n",
      "\\end{tabular}\n",
      "\\end{table}\n",
      "\n"
     ]
    }
   ],
   "source": [
    "print(line)"
   ]
  },
  {
   "cell_type": "markdown",
   "metadata": {},
   "source": [
    "# and now the signal with mzp = 2.5 TeV and ms = 160 GeV"
   ]
  },
  {
   "cell_type": "code",
   "execution_count": 48,
   "metadata": {},
   "outputs": [],
   "source": [
    "data = \"\"\"\n",
    "pythia,SR_Preselection,met,304.003211066,1.98929667902\n",
    "pythia,SR_Merged,met,18.1407905912,0.48468460761\n",
    "pythia,SR_Intermediate,met,118.191030179,1.23706954071\n",
    "herwig,SR_Preselection,met,318.025439738,2.03588645404\n",
    "herwig,SR_Merged,met,18.2162018488,0.4864985727\n",
    "herwig,SR_Intermediate,met,129.010776492,1.29297161452\n",
    "\"\"\"\n",
    "f = StringIO(data)"
   ]
  },
  {
   "cell_type": "code",
   "execution_count": 49,
   "metadata": {},
   "outputs": [],
   "source": [
    "# uncertainty was evaluated by calling\n",
    "# https://gitlab.cern.ch/atlas-mpp-xampp/XAMPPmonoS/-/blob/master/XAMPPmonoS/python/various/studyCutEfficiency.py#L33\n",
    "df = pd.read_csv(f, names=['sample', 'region', 'variable', 'yield', 'uncertainty'])"
   ]
  },
  {
   "cell_type": "code",
   "execution_count": 50,
   "metadata": {},
   "outputs": [
    {
     "data": {
      "text/html": [
       "<div>\n",
       "<style scoped>\n",
       "    .dataframe tbody tr th:only-of-type {\n",
       "        vertical-align: middle;\n",
       "    }\n",
       "\n",
       "    .dataframe tbody tr th {\n",
       "        vertical-align: top;\n",
       "    }\n",
       "\n",
       "    .dataframe thead th {\n",
       "        text-align: right;\n",
       "    }\n",
       "</style>\n",
       "<table border=\"1\" class=\"dataframe\">\n",
       "  <thead>\n",
       "    <tr style=\"text-align: right;\">\n",
       "      <th></th>\n",
       "      <th>sample</th>\n",
       "      <th>region</th>\n",
       "      <th>variable</th>\n",
       "      <th>yield</th>\n",
       "      <th>uncertainty</th>\n",
       "    </tr>\n",
       "  </thead>\n",
       "  <tbody>\n",
       "    <tr>\n",
       "      <th>0</th>\n",
       "      <td>pythia</td>\n",
       "      <td>SR_Preselection</td>\n",
       "      <td>met</td>\n",
       "      <td>304.003211</td>\n",
       "      <td>1.989297</td>\n",
       "    </tr>\n",
       "    <tr>\n",
       "      <th>1</th>\n",
       "      <td>pythia</td>\n",
       "      <td>SR_Merged</td>\n",
       "      <td>met</td>\n",
       "      <td>18.140791</td>\n",
       "      <td>0.484685</td>\n",
       "    </tr>\n",
       "    <tr>\n",
       "      <th>2</th>\n",
       "      <td>pythia</td>\n",
       "      <td>SR_Intermediate</td>\n",
       "      <td>met</td>\n",
       "      <td>118.191030</td>\n",
       "      <td>1.237070</td>\n",
       "    </tr>\n",
       "    <tr>\n",
       "      <th>3</th>\n",
       "      <td>herwig</td>\n",
       "      <td>SR_Preselection</td>\n",
       "      <td>met</td>\n",
       "      <td>318.025440</td>\n",
       "      <td>2.035886</td>\n",
       "    </tr>\n",
       "    <tr>\n",
       "      <th>4</th>\n",
       "      <td>herwig</td>\n",
       "      <td>SR_Merged</td>\n",
       "      <td>met</td>\n",
       "      <td>18.216202</td>\n",
       "      <td>0.486499</td>\n",
       "    </tr>\n",
       "    <tr>\n",
       "      <th>5</th>\n",
       "      <td>herwig</td>\n",
       "      <td>SR_Intermediate</td>\n",
       "      <td>met</td>\n",
       "      <td>129.010776</td>\n",
       "      <td>1.292972</td>\n",
       "    </tr>\n",
       "  </tbody>\n",
       "</table>\n",
       "</div>"
      ],
      "text/plain": [
       "   sample           region variable       yield  uncertainty\n",
       "0  pythia  SR_Preselection      met  304.003211     1.989297\n",
       "1  pythia        SR_Merged      met   18.140791     0.484685\n",
       "2  pythia  SR_Intermediate      met  118.191030     1.237070\n",
       "3  herwig  SR_Preselection      met  318.025440     2.035886\n",
       "4  herwig        SR_Merged      met   18.216202     0.486499\n",
       "5  herwig  SR_Intermediate      met  129.010776     1.292972"
      ]
     },
     "execution_count": 50,
     "metadata": {},
     "output_type": "execute_result"
    }
   ],
   "source": [
    "df"
   ]
  },
  {
   "cell_type": "code",
   "execution_count": 51,
   "metadata": {},
   "outputs": [],
   "source": [
    "def calcRatioAndError(a, b, aError, bError):\n",
    "    \"\"\"Calculate ratio a/b and uncertainty on ratio a/b of two quantities a, b with uncertainties aError, bError\"\"\"\n",
    "    import math\n",
    "    return a / b, a / b * math.sqrt((aError / a)**2 + (bError / b)**2)\n",
    "\n",
    "\n",
    "\n",
    "line = \"\"\"\n",
    "\\\\begin{table}[htb]\n",
    "\\\\caption{Acceptance \\\\(\\\\times\\\\) efficiency (normalised to the preselection event yield) for signal samples (nominal and alternative) after full selection requirements in the respective regions.}\n",
    "\\\\label{tab:TARhadronisation-signal-cutefficiency}\n",
    "\\\\begin{tabular}{c r r}\n",
    "\\\\toprule\n",
    "region & \\\\(N_{\\\\text{region, nominal}} / N_{\\\\text{preselection, nominal}}\\\\)  & \\\\(N_{\\\\text{region, alternative}} / N_{\\\\text{preselection, alternative}}\\\\) \\\\\\\\\n",
    "\\\\midrule\n",
    "\"\"\"\n",
    "\n",
    "preselection_yield_nominal = df['yield'][(df['sample'] == 'pythia') & (df['region'] == \"SR_Preselection\")].values[0]\n",
    "preselection_uncer_nominal = df['uncertainty'][(df['sample'] == 'pythia') & (df['region'] == \"SR_Preselection\")].values[0]\n",
    "\n",
    "preselection_yield_alternative = df['yield'][(df['sample'] == 'herwig') & (df['region'] == \"SR_Preselection\")].values[0]\n",
    "preselection_uncer_alternative = df['uncertainty'][(df['sample'] == 'herwig') & (df['region'] == \"SR_Preselection\")].values[0]\n",
    "\n",
    "\n",
    "\n",
    "for region in sorted(df['region'].unique()):\n",
    "    yield_nominal = df['yield'][(df['sample'] == 'pythia') & (df['region'] == region)].values[0]\n",
    "    uncer_nominal = df['uncertainty'][(df['sample'] == 'pythia') & (df['region'] == region)].values[0]\n",
    "    # ratio to preselection\n",
    "    eff_nominal, unc_nominal = calcRatioAndError(yield_nominal, preselection_yield_nominal, uncer_nominal, preselection_uncer_nominal)\n",
    "    \n",
    "    yield_alternative = df['yield'][(df['sample'] == 'herwig') & (df['region'] == region)].values[0]\n",
    "    uncer_alternative = df['uncertainty'][(df['sample'] == 'herwig') & (df['region'] == region)].values[0]\n",
    "    # ratio to preselection\n",
    "    eff_alternative, unc_alternative = calcRatioAndError(yield_alternative, preselection_yield_alternative, uncer_alternative, preselection_uncer_alternative)\n",
    "    \n",
    "    line += \"{region} & \\({nominal:.5f} \\pm {uncnominal:.5f}\\) & \\({alternative:.5f} \\pm {uncalternative:.5f}\\) \\\\\\\\\\n\".format(region=region, nominal=eff_nominal, uncnominal=unc_nominal, alternative=eff_alternative, uncalternative=unc_alternative)\n",
    "line += \"\"\"\\\\bottomrule\n",
    "\\\\end{tabular}\n",
    "\\\\end{table}\n",
    "\"\"\""
   ]
  },
  {
   "cell_type": "code",
   "execution_count": 52,
   "metadata": {},
   "outputs": [
    {
     "name": "stdout",
     "output_type": "stream",
     "text": [
      "\n",
      "\\begin{table}[htb]\n",
      "\\caption{Acceptance \\(\\times\\) efficiency (normalised to the preselection event yield) for signal samples (nominal and alternative) after full selection requirements in the respective regions.}\n",
      "\\label{tab:TARhadronisation-signal-cutefficiency}\n",
      "\\begin{tabular}{c r r}\n",
      "\\toprule\n",
      "region & \\(N_{\\text{region, nominal}} / N_{\\text{preselection, nominal}}\\)  & \\(N_{\\text{region, alternative}} / N_{\\text{preselection, alternative}}\\) \\\\\n",
      "\\midrule\n",
      "SR_Intermediate & \\(0.38878 \\pm 0.00480\\) & \\(0.40566 \\pm 0.00482\\) \\\\\n",
      "SR_Merged & \\(0.05967 \\pm 0.00164\\) & \\(0.05728 \\pm 0.00157\\) \\\\\n",
      "SR_Preselection & \\(1.00000 \\pm 0.00925\\) & \\(1.00000 \\pm 0.00905\\) \\\\\n",
      "\\bottomrule\n",
      "\\end{tabular}\n",
      "\\end{table}\n",
      "\n"
     ]
    }
   ],
   "source": [
    "print(line)"
   ]
  },
  {
   "cell_type": "code",
   "execution_count": null,
   "metadata": {},
   "outputs": [],
   "source": []
  }
 ],
 "metadata": {
  "kernelspec": {
   "display_name": "Python 3",
   "language": "python",
   "name": "python3"
  },
  "language_info": {
   "codemirror_mode": {
    "name": "ipython",
    "version": 3
   },
   "file_extension": ".py",
   "mimetype": "text/x-python",
   "name": "python",
   "nbconvert_exporter": "python",
   "pygments_lexer": "ipython3",
   "version": "3.5.2"
  }
 },
 "nbformat": 4,
 "nbformat_minor": 4
}
