{
 "cells": [
  {
   "cell_type": "code",
   "execution_count": 1,
   "metadata": {},
   "outputs": [],
   "source": [
    "import uproot"
   ]
  },
  {
   "cell_type": "code",
   "execution_count": 6,
   "metadata": {},
   "outputs": [],
   "source": [
    "tree = uproot.open(\"data/user.pgadow.mc16_13TeV.311289.monoSwwhadzp500dm200dh185.SWWnom0007_0.EXOT27.e7174_s3126_r10201_p3842.root\")[\"MonoS_Nominal\"]\n",
    "a_jet_pt = tree.array(\"Jet_pt\")\n",
    "a_jet_eta = tree.array(\"Jet_eta\")\n",
    "a_jet_phi = tree.array(\"Jet_phi\")\n",
    "a_jet_m = tree.array(\"Jet_m\")"
   ]
  },
  {
   "cell_type": "code",
   "execution_count": 7,
   "metadata": {},
   "outputs": [
    {
     "data": {
      "text/plain": [
       "jaggedarray([[23928.492   7958.531   9892.782   5941.1147  7780.725 ],\n",
       "             [45887.85   12051.42    7007.3564],\n",
       "             [10415.677   5450.35    4342.1494  6660.247   4785.3813],\n",
       "             ...,\n",
       "             [45046.477 10220.055  4029.668],\n",
       "             [9956.306  2928.2212 9433.674 ],\n",
       "             [8631.661  7109.5576 6132.681  4432.239 ]])"
      ]
     },
     "execution_count": 7,
     "metadata": {},
     "output_type": "execute_result"
    }
   ],
   "source": [
    "a_jet_m"
   ]
  },
  {
   "cell_type": "code",
   "execution_count": null,
   "metadata": {},
   "outputs": [],
   "source": []
  }
 ],
 "metadata": {
  "kernelspec": {
   "display_name": "Python 3",
   "language": "python",
   "name": "python3"
  },
  "language_info": {
   "codemirror_mode": {
    "name": "ipython",
    "version": 3
   },
   "file_extension": ".py",
   "mimetype": "text/x-python",
   "name": "python",
   "nbconvert_exporter": "python",
   "pygments_lexer": "ipython3",
   "version": "3.5.2"
  }
 },
 "nbformat": 4,
 "nbformat_minor": 2
}
