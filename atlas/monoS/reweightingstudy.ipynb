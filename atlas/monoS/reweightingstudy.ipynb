{
 "cells": [
  {
   "cell_type": "markdown",
   "metadata": {},
   "source": [
    "# Reweighting study for Mono-s(WW) search"
   ]
  },
  {
   "cell_type": "markdown",
   "metadata": {},
   "source": [
    "**Aim of the study**: Check if reweighting samples on particle level is possible.\n",
    "The basis for the study are three files with scale factors that were derived on parton level (i.e. just using MadGraph). They contain scale factors for reweighting samples with constant dark matter mass of 200 GeV, constant dark Higgs mass of 160 GeV and varied Z' mass of \n",
    "\n",
    "- 1500 GeV reweighted to 2000 GeV\n",
    "- 1500 GeV reweighted to 2500 GeV\n",
    "- 2000 GeV reweighted to 2500 GeV\n",
    "\n",
    "Then on particle level (i.e. MadGraph + Pythia) using samples generated with no real corrections (i.e. no additional jets from the matrix element), the reweighting based on missing transverse momentum is studied."
   ]
  },
  {
   "cell_type": "markdown",
   "metadata": {},
   "source": [
    "## General setup"
   ]
  },
  {
   "cell_type": "code",
   "execution_count": 1,
   "metadata": {},
   "outputs": [
    {
     "name": "stdout",
     "output_type": "stream",
     "text": [
      "Welcome to JupyROOT 6.12/06\n"
     ]
    }
   ],
   "source": [
    "import os\n",
    "import numpy as np\n",
    "from rootpy.io import root_open\n",
    "from root_numpy import root2array\n",
    "from histbook import *\n",
    "from vega import VegaLite as canvas\n",
    "from IPython.display import HTML"
   ]
  },
  {
   "cell_type": "code",
   "execution_count": 2,
   "metadata": {},
   "outputs": [
    {
     "data": {
      "text/html": [
       "<script>\n",
       "code_show=true; \n",
       "function code_toggle() {\n",
       " if (code_show){\n",
       " $('div.input').hide();\n",
       " } else {\n",
       " $('div.input').show();\n",
       " }\n",
       " code_show = !code_show\n",
       "} \n",
       "$( document ).ready(code_toggle);\n",
       "</script>\n",
       "The raw code for this IPython notebook is by default hidden for easier reading.\n",
       "To toggle on/off the raw code, click <a href=\"javascript:code_toggle()\">here</a>."
      ],
      "text/plain": [
       "<IPython.core.display.HTML object>"
      ]
     },
     "execution_count": 2,
     "metadata": {},
     "output_type": "execute_result"
    }
   ],
   "source": [
    "HTML('''<script>\n",
    "code_show=true; \n",
    "function code_toggle() {\n",
    " if (code_show){\n",
    " $('div.input').hide();\n",
    " } else {\n",
    " $('div.input').show();\n",
    " }\n",
    " code_show = !code_show\n",
    "} \n",
    "$( document ).ready(code_toggle);\n",
    "</script>\n",
    "The raw code for this IPython notebook is by default hidden for easier reading.\n",
    "To toggle on/off the raw code, click <a href=\"javascript:code_toggle()\">here</a>.''')"
   ]
  },
  {
   "cell_type": "code",
   "execution_count": 3,
   "metadata": {},
   "outputs": [
    {
     "name": "stdout",
     "output_type": "stream",
     "text": [
      "TFile**\t\tsig_reweight_MDM_200_Ms_160_MZp_1p5_to_2p0.root\t\n",
      " TFile*\t\tsig_reweight_MDM_200_Ms_160_MZp_1p5_to_2p0.root\t\n",
      "  KEY: TH1D\thMET_SF;1\t\n",
      "  KEY: TH1D\thJet1Pt_SF;1\t\n",
      "  KEY: TH1D\thJet2Pt_SF;1\t\n",
      "  KEY: TH2D\thMETvJet1Pt_SF;1\t\n",
      "  KEY: TH2D\thMETvJet2Pt_SF;1\t\n"
     ]
    }
   ],
   "source": [
    "# reweighting histogram files\n",
    "filepath_reweight_MZp_1p5_to_2p0 = os.path.join('sig_reweight_MDM_200_Ms_160_MZp_1p5_to_2p0.root')\n",
    "filepath_reweight_MZp_1p5_to_2p5 = os.path.join('sig_reweight_MDM_200_Ms_160_MZp_1p5_to_2p5.root')\n",
    "filepath_reweight_MZp_2p0_to_2p5 = os.path.join('sig_reweight_MDM_200_Ms_160_MZp_2p0_to_2p5.root')\n",
    "\n",
    "m_reweight_MZp_1p5_to_2p0 = root_open(filepath_reweight_MZp_1p5_to_2p0, 'read')\n",
    "m_reweight_MZp_1p5_to_2p5 = root_open(filepath_reweight_MZp_1p5_to_2p5, 'read')\n",
    "m_reweight_MZp_2p0_to_2p5 = root_open(filepath_reweight_MZp_2p0_to_2p5, 'read')\n",
    "\n",
    "def getSF(rwfile, histogram, value1, value2=0):\n",
    "    reweightingHisto = rwfile.Get(histogram)\n",
    "    return reweightingHisto.GetBinContent(reweightingHisto.FindBin(value1, value2))\n",
    "m_reweight_MZp_1p5_to_2p0.ls()"
   ]
  },
  {
   "cell_type": "code",
   "execution_count": 4,
   "metadata": {},
   "outputs": [],
   "source": [
    "# input files containing trees\n",
    "filepath_MZp_1p5_to_2p0 = os.path.join('MDM_200_Ms_160_MZp_1p5_to_2p0.root')\n",
    "filepath_MZp_1p5_to_2p5 = os.path.join('MDM_200_Ms_160_MZp_1p5_to_2p5.root')\n",
    "filepath_MZp_2p0_to_2p5 = os.path.join('MDM_200_Ms_160_MZp_2p0_to_2p5.root')\n",
    "filepath_MZp_2p5 = os.path.join('MDM_200_Ms_160_MZp_2p5.root')\n",
    "# convert trees to numpy arrays\n",
    "treename = 'TruthMonoS_Nominal'\n",
    "branches = ['TruthMET_met', 'LeadingJetPt']\n",
    "arr_MZp1p5 = root2array(filepath_MZp_1p5_to_2p0, treename, branches=branches)\n",
    "arr_MZp2p0 = root2array(filepath_MZp_2p0_to_2p5, treename, branches=branches)\n",
    "arr_MZp2p5 = root2array(filepath_MZp_2p5, treename, branches=branches)"
   ]
  },
  {
   "cell_type": "markdown",
   "metadata": {},
   "source": [
    "## MET based reweighting"
   ]
  },
  {
   "cell_type": "code",
   "execution_count": 5,
   "metadata": {},
   "outputs": [],
   "source": [
    "histogram = Hist(bin(\"MET\", 20, 0, 1000), groupby('type'))\n",
    "histogram.fill(MET=arr_MZp1p5['TruthMET_met']*0.001, type=\"MZP1500\")\n",
    "histogram.fill(MET=arr_MZp2p0['TruthMET_met']*0.001, type=\"MZP2000\")\n",
    "histogram.fill(MET=arr_MZp2p5['TruthMET_met']*0.001, type=\"MZP2500\")"
   ]
  },
  {
   "cell_type": "markdown",
   "metadata": {},
   "source": [
    "For each sample there are 10.000 events."
   ]
  },
  {
   "cell_type": "code",
   "execution_count": 6,
   "metadata": {},
   "outputs": [
    {
     "data": {
      "application/vnd.vegalite.v2+json": {
       "$schema": "https://vega.github.io/schema/vega-lite/v2.json",
       "data": {
        "values": [
         {
          "a0": "MZP1500",
          "a1": 10000
         },
         {
          "a0": "MZP2000",
          "a1": 10000
         },
         {
          "a0": "MZP2500",
          "a1": 10000
         }
        ]
       },
       "encoding": {
        "x": {
         "axis": {
          "title": "type"
         },
         "field": "a0",
         "scale": {
          "zero": false
         },
         "type": "nominal"
        },
        "y": {
         "axis": {
          "title": "entries per bin"
         },
         "field": "a1",
         "type": "quantitative"
        }
       },
       "mark": {
        "clip": true,
        "type": "bar"
       },
       "transform": []
      },
      "image/png": "[encoded data removed]",
      "text/plain": [
       "Hist(groupby('type'), bin('MET', 20, 0.0, 1000.0)).step(groupby('type'))"
      ]
     },
     "execution_count": 6,
     "metadata": {},
     "output_type": "execute_result"
    }
   ],
   "source": [
    "histogram.step(\"type\")"
   ]
  },
  {
   "cell_type": "markdown",
   "metadata": {},
   "source": [
    "These are the un-reweighted MET distributions:"
   ]
  },
  {
   "cell_type": "code",
   "execution_count": 7,
   "metadata": {},
   "outputs": [
    {
     "data": {
      "application/vnd.vegalite.v2+json": {
       "$schema": "https://vega.github.io/schema/vega-lite/v2.json",
       "data": {
        "values": [
         {
          "a0": "MZP1500",
          "a1": 0,
          "a1c": 0,
          "a2": 0,
          "a3": 0
         },
         {
          "a0": "MZP1500",
          "a1": 1.0000000000000001e-07,
          "a1c": 25,
          "a2": 471,
          "a3": 21.702534414210707
         },
         {
          "a0": "MZP1500",
          "a1": 50,
          "a1c": 75,
          "a2": 1272,
          "a3": 35.66510900025401
         },
         {
          "a0": "MZP1500",
          "a1": 100,
          "a1c": 125,
          "a2": 1476,
          "a3": 38.41874542459709
         },
         {
          "a0": "MZP1500",
          "a1": 150,
          "a1c": 175,
          "a2": 1534,
          "a3": 39.16631205513228
         },
         {
          "a0": "MZP1500",
          "a1": 200,
          "a1c": 225,
          "a2": 1279,
          "a3": 35.76310948449533
         },
         {
          "a0": "MZP1500",
          "a1": 250,
          "a1c": 275,
          "a2": 986,
          "a3": 31.400636936215164
         },
         {
          "a0": "MZP1500",
          "a1": 300,
          "a1c": 325,
          "a2": 817,
          "a3": 28.583211855912904
         },
         {
          "a0": "MZP1500",
          "a1": 350,
          "a1c": 375,
          "a2": 610,
          "a3": 24.698178070456937
         },
         {
          "a0": "MZP1500",
          "a1": 400,
          "a1c": 425,
          "a2": 454,
          "a3": 21.307275752662516
         },
         {
          "a0": "MZP1500",
          "a1": 450,
          "a1c": 475,
          "a2": 323,
          "a3": 17.97220075561143
         },
         {
          "a0": "MZP1500",
          "a1": 500,
          "a1c": 525,
          "a2": 241,
          "a3": 15.524174696260024
         },
         {
          "a0": "MZP1500",
          "a1": 550,
          "a1c": 575,
          "a2": 167,
          "a3": 12.922847983320086
         },
         {
          "a0": "MZP1500",
          "a1": 600,
          "a1c": 625,
          "a2": 118,
          "a3": 10.862780491200215
         },
         {
          "a0": "MZP1500",
          "a1": 650,
          "a1c": 675,
          "a2": 72,
          "a3": 8.48528137423857
         },
         {
          "a0": "MZP1500",
          "a1": 700,
          "a1c": 725,
          "a2": 43,
          "a3": 6.557438524302
         },
         {
          "a0": "MZP1500",
          "a1": 750,
          "a1c": 775,
          "a2": 36,
          "a3": 6
         },
         {
          "a0": "MZP1500",
          "a1": 800,
          "a1c": 825,
          "a2": 21,
          "a3": 4.58257569495584
         },
         {
          "a0": "MZP1500",
          "a1": 850,
          "a1c": 875,
          "a2": 26,
          "a3": 5.0990195135927845
         },
         {
          "a0": "MZP1500",
          "a1": 900,
          "a1c": 925,
          "a2": 10,
          "a3": 3.1622776601683795
         },
         {
          "a0": "MZP1500",
          "a1": 950,
          "a1c": 975,
          "a2": 12,
          "a3": 3.4641016151377544
         },
         {
          "a0": "MZP1500",
          "a1": 1000,
          "a1c": 1000,
          "a2": 0,
          "a3": 0
         },
         {
          "a0": "MZP2000",
          "a1": 0,
          "a1c": 0,
          "a2": 0,
          "a3": 0
         },
         {
          "a0": "MZP2000",
          "a1": 1.0000000000000001e-07,
          "a1c": 25,
          "a2": 401,
          "a3": 20.024984394500787
         },
         {
          "a0": "MZP2000",
          "a1": 50,
          "a1c": 75,
          "a2": 1012,
          "a3": 31.811947441173732
         },
         {
          "a0": "MZP2000",
          "a1": 100,
          "a1c": 125,
          "a2": 1246,
          "a3": 35.298725189445584
         },
         {
          "a0": "MZP2000",
          "a1": 150,
          "a1c": 175,
          "a2": 1270,
          "a3": 35.63705936241092
         },
         {
          "a0": "MZP2000",
          "a1": 200,
          "a1c": 225,
          "a2": 1206,
          "a3": 34.72751070837067
         },
         {
          "a0": "MZP2000",
          "a1": 250,
          "a1c": 275,
          "a2": 954,
          "a3": 30.886890422961002
         },
         {
          "a0": "MZP2000",
          "a1": 300,
          "a1c": 325,
          "a2": 846,
          "a3": 29.086079144497972
         },
         {
          "a0": "MZP2000",
          "a1": 350,
          "a1c": 375,
          "a2": 664,
          "a3": 25.768197453450252
         },
         {
          "a0": "MZP2000",
          "a1": 400,
          "a1c": 425,
          "a2": 569,
          "a3": 23.853720883753127
         },
         {
          "a0": "MZP2000",
          "a1": 450,
          "a1c": 475,
          "a2": 409,
          "a3": 20.223748416156685
         },
         {
          "a0": "MZP2000",
          "a1": 500,
          "a1c": 525,
          "a2": 331,
          "a3": 18.193405398660254
         },
         {
          "a0": "MZP2000",
          "a1": 550,
          "a1c": 575,
          "a2": 270,
          "a3": 16.431676725154983
         },
         {
          "a0": "MZP2000",
          "a1": 600,
          "a1c": 625,
          "a2": 211,
          "a3": 14.52583904633395
         },
         {
          "a0": "MZP2000",
          "a1": 650,
          "a1c": 675,
          "a2": 166,
          "a3": 12.884098726725126
         },
         {
          "a0": "MZP2000",
          "a1": 700,
          "a1c": 725,
          "a2": 114,
          "a3": 10.677078252031311
         },
         {
          "a0": "MZP2000",
          "a1": 750,
          "a1c": 775,
          "a2": 88,
          "a3": 9.38083151964686
         },
         {
          "a0": "MZP2000",
          "a1": 800,
          "a1c": 825,
          "a2": 73,
          "a3": 8.54400374531753
         },
         {
          "a0": "MZP2000",
          "a1": 850,
          "a1c": 875,
          "a2": 43,
          "a3": 6.557438524302
         },
         {
          "a0": "MZP2000",
          "a1": 900,
          "a1c": 925,
          "a2": 38,
          "a3": 6.164414002968976
         },
         {
          "a0": "MZP2000",
          "a1": 950,
          "a1c": 975,
          "a2": 17,
          "a3": 4.123105625617661
         },
         {
          "a0": "MZP2000",
          "a1": 1000,
          "a1c": 1000,
          "a2": 0,
          "a3": 0
         },
         {
          "a0": "MZP2500",
          "a1": 0,
          "a1c": 0,
          "a2": 0,
          "a3": 0
         },
         {
          "a0": "MZP2500",
          "a1": 1.0000000000000001e-07,
          "a1c": 25,
          "a2": 310,
          "a3": 17.60681686165901
         },
         {
          "a0": "MZP2500",
          "a1": 50,
          "a1c": 75,
          "a2": 817,
          "a3": 28.583211855912904
         },
         {
          "a0": "MZP2500",
          "a1": 100,
          "a1c": 125,
          "a2": 1101,
          "a3": 33.18132004607411
         },
         {
          "a0": "MZP2500",
          "a1": 150,
          "a1c": 175,
          "a2": 1165,
          "a3": 34.132096331752024
         },
         {
          "a0": "MZP2500",
          "a1": 200,
          "a1c": 225,
          "a2": 1073,
          "a3": 32.7566787083184
         },
         {
          "a0": "MZP2500",
          "a1": 250,
          "a1c": 275,
          "a2": 929,
          "a3": 30.479501308256342
         },
         {
          "a0": "MZP2500",
          "a1": 300,
          "a1c": 325,
          "a2": 788,
          "a3": 28.071337695236398
         },
         {
          "a0": "MZP2500",
          "a1": 350,
          "a1c": 375,
          "a2": 646,
          "a3": 25.41653005427767
         },
         {
          "a0": "MZP2500",
          "a1": 400,
          "a1c": 425,
          "a2": 612,
          "a3": 24.73863375370596
         },
         {
          "a0": "MZP2500",
          "a1": 450,
          "a1c": 475,
          "a2": 498,
          "a3": 22.315913604421397
         },
         {
          "a0": "MZP2500",
          "a1": 500,
          "a1c": 525,
          "a2": 393,
          "a3": 19.82422760159901
         },
         {
          "a0": "MZP2500",
          "a1": 550,
          "a1c": 575,
          "a2": 339,
          "a3": 18.411952639521967
         },
         {
          "a0": "MZP2500",
          "a1": 600,
          "a1c": 625,
          "a2": 277,
          "a3": 16.64331697709324
         },
         {
          "a0": "MZP2500",
          "a1": 650,
          "a1c": 675,
          "a2": 218,
          "a3": 14.7648230602334
         },
         {
          "a0": "MZP2500",
          "a1": 700,
          "a1c": 725,
          "a2": 167,
          "a3": 12.922847983320086
         },
         {
          "a0": "MZP2500",
          "a1": 750,
          "a1c": 775,
          "a2": 146,
          "a3": 12.083045973594572
         },
         {
          "a0": "MZP2500",
          "a1": 800,
          "a1c": 825,
          "a2": 117,
          "a3": 10.816653826391969
         },
         {
          "a0": "MZP2500",
          "a1": 850,
          "a1c": 875,
          "a2": 88,
          "a3": 9.38083151964686
         },
         {
          "a0": "MZP2500",
          "a1": 900,
          "a1c": 925,
          "a2": 79,
          "a3": 8.888194417315589
         },
         {
          "a0": "MZP2500",
          "a1": 950,
          "a1c": 975,
          "a2": 66,
          "a3": 8.12403840463596
         },
         {
          "a0": "MZP2500",
          "a1": 1000,
          "a1c": 1000,
          "a2": 0,
          "a3": 0
         }
        ]
       },
       "layer": [
        {
         "encoding": {
          "color": {
           "field": "a0",
           "legend": {
            "title": "type"
           },
           "scale": {
            "domain": [
             "MZP1500",
             "MZP2000",
             "MZP2500"
            ]
           },
           "type": "nominal"
          },
          "x": {
           "axis": {
            "title": "MET"
           },
           "field": "a1",
           "scale": {
            "zero": false
           },
           "type": "quantitative"
          },
          "y": {
           "axis": {
            "title": "entries per bin"
           },
           "field": "a2",
           "type": "quantitative"
          }
         },
         "mark": {
          "clip": true,
          "interpolate": "step-before",
          "type": "line"
         },
         "transform": []
        },
        {
         "encoding": {
          "x": {
           "field": "a1c",
           "type": "quantitative"
          },
          "y": {
           "field": "error-down",
           "type": "quantitative"
          },
          "y2": {
           "field": "error-up",
           "type": "quantitative"
          }
         },
         "mark": "rule",
         "transform": [
          {
           "as": "error-down",
           "calculate": "datum.a2 - datum.a3"
          },
          {
           "as": "error-up",
           "calculate": "datum.a2 + datum.a3"
          }
         ]
        }
       ]
      },
      "image/png": "[encoded data removed]",
      "text/plain": [
       "Hist(groupby('type'), bin('MET', 20, 0.0, 1000.0)).overlay(groupby('type')).step(bin('MET', 20, 0.0, 1000.0)error=True)"
      ]
     },
     "execution_count": 7,
     "metadata": {},
     "output_type": "execute_result"
    }
   ],
   "source": [
    "histogram.overlay(\"type\").step(\"MET\", error=True)"
   ]
  },
  {
   "cell_type": "markdown",
   "metadata": {},
   "source": [
    "### Reweighting from Z' mass of 1500 GeV to 2000 GeV \n",
    "Now we are trying to reweight the sample with Z' mass of 1500 GeV to Z' mass of 2000 GeV.\n",
    "We first plot the **MET** distributions (in GeV) for the 1500 \"start\" sample, the simulated 2000 \"target\" sample and the reweighted sample. \n",
    "\n",
    "Since by reweighting in MET by definition the simulated and the re-weighted distributions should agree, also the leading jet pt distribution **JETPT1** (in GeV) is shown for the three samples mentioned above.\n",
    "\n",
    "As excpected, the agreement between reweighted and simulated sample is quite good for the **MET** distribution. However for the **JETPT1** distribution there are smaller differences in the lower part around 100 GeV of the distribution. "
   ]
  },
  {
   "cell_type": "code",
   "execution_count": 8,
   "metadata": {},
   "outputs": [],
   "source": [
    "weights_MZp1500to2000 = np.array([getSF(m_reweight_MZp_1p5_to_2p0, 'hMET_SF', value) for value in arr_MZp1p5['TruthMET_met']*0.001])"
   ]
  },
  {
   "cell_type": "code",
   "execution_count": 9,
   "metadata": {},
   "outputs": [
    {
     "data": {
      "application/vnd.vegalite.v2+json": {
       "$schema": "https://vega.github.io/schema/vega-lite/v2.json",
       "data": {
        "values": [
         {
          "a0": "MZP1500",
          "a1": 0,
          "a1c": 0,
          "a2": 0,
          "a3": 0
         },
         {
          "a0": "MZP1500",
          "a1": 1.0000000000000001e-07,
          "a1c": 25,
          "a2": 471,
          "a3": 21.702534414210707
         },
         {
          "a0": "MZP1500",
          "a1": 50,
          "a1c": 75,
          "a2": 1272,
          "a3": 35.66510900025401
         },
         {
          "a0": "MZP1500",
          "a1": 100,
          "a1c": 125,
          "a2": 1476,
          "a3": 38.41874542459709
         },
         {
          "a0": "MZP1500",
          "a1": 150,
          "a1c": 175,
          "a2": 1534,
          "a3": 39.16631205513228
         },
         {
          "a0": "MZP1500",
          "a1": 200,
          "a1c": 225,
          "a2": 1279,
          "a3": 35.76310948449533
         },
         {
          "a0": "MZP1500",
          "a1": 250,
          "a1c": 275,
          "a2": 986,
          "a3": 31.400636936215164
         },
         {
          "a0": "MZP1500",
          "a1": 300,
          "a1c": 325,
          "a2": 817,
          "a3": 28.583211855912904
         },
         {
          "a0": "MZP1500",
          "a1": 350,
          "a1c": 375,
          "a2": 610,
          "a3": 24.698178070456937
         },
         {
          "a0": "MZP1500",
          "a1": 400,
          "a1c": 425,
          "a2": 454,
          "a3": 21.307275752662516
         },
         {
          "a0": "MZP1500",
          "a1": 450,
          "a1c": 475,
          "a2": 323,
          "a3": 17.97220075561143
         },
         {
          "a0": "MZP1500",
          "a1": 500,
          "a1c": 525,
          "a2": 241,
          "a3": 15.524174696260024
         },
         {
          "a0": "MZP1500",
          "a1": 550,
          "a1c": 575,
          "a2": 167,
          "a3": 12.922847983320086
         },
         {
          "a0": "MZP1500",
          "a1": 600,
          "a1c": 625,
          "a2": 118,
          "a3": 10.862780491200215
         },
         {
          "a0": "MZP1500",
          "a1": 650,
          "a1c": 675,
          "a2": 72,
          "a3": 8.48528137423857
         },
         {
          "a0": "MZP1500",
          "a1": 700,
          "a1c": 725,
          "a2": 43,
          "a3": 6.557438524302
         },
         {
          "a0": "MZP1500",
          "a1": 750,
          "a1c": 775,
          "a2": 36,
          "a3": 6
         },
         {
          "a0": "MZP1500",
          "a1": 800,
          "a1c": 825,
          "a2": 21,
          "a3": 4.58257569495584
         },
         {
          "a0": "MZP1500",
          "a1": 850,
          "a1c": 875,
          "a2": 26,
          "a3": 5.0990195135927845
         },
         {
          "a0": "MZP1500",
          "a1": 900,
          "a1c": 925,
          "a2": 10,
          "a3": 3.1622776601683795
         },
         {
          "a0": "MZP1500",
          "a1": 950,
          "a1c": 975,
          "a2": 12,
          "a3": 3.4641016151377544
         },
         {
          "a0": "MZP1500",
          "a1": 1000,
          "a1c": 1000,
          "a2": 0,
          "a3": 0
         },
         {
          "a0": "MZP2000",
          "a1": 0,
          "a1c": 0,
          "a2": 0,
          "a3": 0
         },
         {
          "a0": "MZP2000",
          "a1": 1.0000000000000001e-07,
          "a1c": 25,
          "a2": 401,
          "a3": 20.024984394500787
         },
         {
          "a0": "MZP2000",
          "a1": 50,
          "a1c": 75,
          "a2": 1012,
          "a3": 31.811947441173732
         },
         {
          "a0": "MZP2000",
          "a1": 100,
          "a1c": 125,
          "a2": 1246,
          "a3": 35.298725189445584
         },
         {
          "a0": "MZP2000",
          "a1": 150,
          "a1c": 175,
          "a2": 1270,
          "a3": 35.63705936241092
         },
         {
          "a0": "MZP2000",
          "a1": 200,
          "a1c": 225,
          "a2": 1206,
          "a3": 34.72751070837067
         },
         {
          "a0": "MZP2000",
          "a1": 250,
          "a1c": 275,
          "a2": 954,
          "a3": 30.886890422961002
         },
         {
          "a0": "MZP2000",
          "a1": 300,
          "a1c": 325,
          "a2": 846,
          "a3": 29.086079144497972
         },
         {
          "a0": "MZP2000",
          "a1": 350,
          "a1c": 375,
          "a2": 664,
          "a3": 25.768197453450252
         },
         {
          "a0": "MZP2000",
          "a1": 400,
          "a1c": 425,
          "a2": 569,
          "a3": 23.853720883753127
         },
         {
          "a0": "MZP2000",
          "a1": 450,
          "a1c": 475,
          "a2": 409,
          "a3": 20.223748416156685
         },
         {
          "a0": "MZP2000",
          "a1": 500,
          "a1c": 525,
          "a2": 331,
          "a3": 18.193405398660254
         },
         {
          "a0": "MZP2000",
          "a1": 550,
          "a1c": 575,
          "a2": 270,
          "a3": 16.431676725154983
         },
         {
          "a0": "MZP2000",
          "a1": 600,
          "a1c": 625,
          "a2": 211,
          "a3": 14.52583904633395
         },
         {
          "a0": "MZP2000",
          "a1": 650,
          "a1c": 675,
          "a2": 166,
          "a3": 12.884098726725126
         },
         {
          "a0": "MZP2000",
          "a1": 700,
          "a1c": 725,
          "a2": 114,
          "a3": 10.677078252031311
         },
         {
          "a0": "MZP2000",
          "a1": 750,
          "a1c": 775,
          "a2": 88,
          "a3": 9.38083151964686
         },
         {
          "a0": "MZP2000",
          "a1": 800,
          "a1c": 825,
          "a2": 73,
          "a3": 8.54400374531753
         },
         {
          "a0": "MZP2000",
          "a1": 850,
          "a1c": 875,
          "a2": 43,
          "a3": 6.557438524302
         },
         {
          "a0": "MZP2000",
          "a1": 900,
          "a1c": 925,
          "a2": 38,
          "a3": 6.164414002968976
         },
         {
          "a0": "MZP2000",
          "a1": 950,
          "a1c": 975,
          "a2": 17,
          "a3": 4.123105625617661
         },
         {
          "a0": "MZP2000",
          "a1": 1000,
          "a1c": 1000,
          "a2": 0,
          "a3": 0
         },
         {
          "a0": "MZP2000From1500",
          "a1": 0,
          "a1c": 0,
          "a2": 0,
          "a3": 0
         },
         {
          "a0": "MZP2000From1500",
          "a1": 1.0000000000000001e-07,
          "a1c": 25,
          "a2": 375.4576771323695,
          "a3": 17.308567599652964
         },
         {
          "a0": "MZP2000From1500",
          "a1": 50,
          "a1c": 75,
          "a2": 1019.3042454333155,
          "a3": 28.581899603586557
         },
         {
          "a0": "MZP2000From1500",
          "a1": 100,
          "a1c": 125,
          "a2": 1285.5353082225038,
          "a3": 33.465650289613016
         },
         {
          "a0": "MZP2000From1500",
          "a1": 150,
          "a1c": 175,
          "a2": 1386.23360509242,
          "a3": 35.39564047307284
         },
         {
          "a0": "MZP2000From1500",
          "a1": 200,
          "a1c": 225,
          "a2": 1204.9677801454573,
          "a3": 33.69350941298466
         },
         {
          "a0": "MZP2000From1500",
          "a1": 250,
          "a1c": 275,
          "a2": 954.830951660112,
          "a3": 30.41002005180552
         },
         {
          "a0": "MZP2000From1500",
          "a1": 300,
          "a1c": 325,
          "a2": 866.1596089056916,
          "a3": 30.30595454093225
         },
         {
          "a0": "MZP2000From1500",
          "a1": 350,
          "a1c": 375,
          "a2": 686.2798249436021,
          "a3": 27.797606859453555
         },
         {
          "a0": "MZP2000From1500",
          "a1": 400,
          "a1c": 425,
          "a2": 535.3496495966376,
          "a3": 25.13237754615508
         },
         {
          "a0": "MZP2000From1500",
          "a1": 450,
          "a1c": 475,
          "a2": 427.5435321364493,
          "a3": 23.845713705556214
         },
         {
          "a0": "MZP2000From1500",
          "a1": 500,
          "a1c": 525,
          "a2": 353.6304798105265,
          "a3": 22.835302060263462
         },
         {
          "a0": "MZP2000From1500",
          "a1": 550,
          "a1c": 575,
          "a2": 284.85221811005727,
          "a3": 22.048529211333268
         },
         {
          "a0": "MZP2000From1500",
          "a1": 600,
          "a1c": 625,
          "a2": 228.5366627595971,
          "a3": 21.17623752993427
         },
         {
          "a0": "MZP2000From1500",
          "a1": 650,
          "a1c": 675,
          "a2": 200.11887649270815,
          "a3": 23.62974846277686
         },
         {
          "a0": "MZP2000From1500",
          "a1": 700,
          "a1c": 725,
          "a2": 146.4574934426102,
          "a3": 22.348642371253682
         },
         {
          "a0": "MZP2000From1500",
          "a1": 750,
          "a1c": 775,
          "a2": 127.75228048626292,
          "a3": 21.324497308271614
         },
         {
          "a0": "MZP2000From1500",
          "a1": 800,
          "a1c": 825,
          "a2": 68.6006258234519,
          "a3": 15.093419687972704
         },
         {
          "a0": "MZP2000From1500",
          "a1": 850,
          "a1c": 875,
          "a2": 81.31481267345052,
          "a3": 16.26035155523583
         },
         {
          "a0": "MZP2000From1500",
          "a1": 900,
          "a1c": 925,
          "a2": 26.930769230769233,
          "a3": 8.681387513057677
         },
         {
          "a0": "MZP2000From1500",
          "a1": 950,
          "a1c": 975,
          "a2": 26.691304347826087,
          "a3": 7.7161615676691415
         },
         {
          "a0": "MZP2000From1500",
          "a1": 1000,
          "a1c": 1000,
          "a2": 0,
          "a3": 0
         }
        ]
       },
       "layer": [
        {
         "encoding": {
          "color": {
           "field": "a0",
           "legend": {
            "title": "type"
           },
           "scale": {
            "domain": [
             "MZP1500",
             "MZP2000",
             "MZP2000From1500"
            ]
           },
           "type": "nominal"
          },
          "x": {
           "axis": {
            "title": "MET"
           },
           "field": "a1",
           "scale": {
            "zero": false
           },
           "type": "quantitative"
          },
          "y": {
           "axis": {
            "title": "entries per bin"
           },
           "field": "a2",
           "type": "quantitative"
          }
         },
         "mark": {
          "clip": true,
          "interpolate": "step-before",
          "type": "line"
         },
         "transform": []
        },
        {
         "encoding": {
          "x": {
           "field": "a1c",
           "type": "quantitative"
          },
          "y": {
           "field": "error-down",
           "type": "quantitative"
          },
          "y2": {
           "field": "error-up",
           "type": "quantitative"
          }
         },
         "mark": "rule",
         "transform": [
          {
           "as": "error-down",
           "calculate": "datum.a2 - datum.a3"
          },
          {
           "as": "error-up",
           "calculate": "datum.a2 + datum.a3"
          }
         ]
        }
       ]
      },
      "image/png": "[encoded data removed]",
      "text/plain": [
       "Hist(groupby('type'), bin('MET', 20, 0.0, 1000.0), weight='w').overlay(groupby('type')).step(bin('MET', 20, 0.0, 1000.0)error=True)"
      ]
     },
     "execution_count": 9,
     "metadata": {},
     "output_type": "execute_result"
    }
   ],
   "source": [
    "variable = 'TruthMET_met'\n",
    "histogram = Hist(bin(\"MET\", 20, 0, 1000), groupby('type'), weight=\"w\")\n",
    "histogram.fill(MET=arr_MZp1p5[variable]*0.001, type=\"MZP1500\", w=np.ones(10000))\n",
    "histogram.fill(MET=arr_MZp2p0[variable]*0.001, type=\"MZP2000\", w=np.ones(10000))\n",
    "histogram.fill(MET=arr_MZp1p5[variable]*0.001, w=weights_MZp1500to2000, type=\"MZP2000From1500\")\n",
    "histogram.overlay(\"type\").step(\"MET\", error=True)"
   ]
  },
  {
   "cell_type": "code",
   "execution_count": 10,
   "metadata": {},
   "outputs": [
    {
     "data": {
      "application/vnd.vegalite.v2+json": {
       "$schema": "https://vega.github.io/schema/vega-lite/v2.json",
       "data": {
        "values": [
         {
          "a0": "MZP1500",
          "a1": 0,
          "a1c": 0,
          "a2": 0,
          "a3": 0
         },
         {
          "a0": "MZP1500",
          "a1": 5.0000000000000004e-08,
          "a1c": 12.5,
          "a2": 0,
          "a3": 0
         },
         {
          "a0": "MZP1500",
          "a1": 25,
          "a1c": 37.5,
          "a2": 659,
          "a3": 25.67099530598687
         },
         {
          "a0": "MZP1500",
          "a1": 50,
          "a1c": 62.5,
          "a2": 1518,
          "a3": 38.961519477556315
         },
         {
          "a0": "MZP1500",
          "a1": 75,
          "a1c": 87.5,
          "a2": 1386,
          "a3": 37.22902093797257
         },
         {
          "a0": "MZP1500",
          "a1": 100,
          "a1c": 112.5,
          "a2": 1074,
          "a3": 32.77193921634788
         },
         {
          "a0": "MZP1500",
          "a1": 125,
          "a1c": 137.5,
          "a2": 828,
          "a3": 28.77498913987632
         },
         {
          "a0": "MZP1500",
          "a1": 150,
          "a1c": 162.5,
          "a2": 710,
          "a3": 26.645825188948457
         },
         {
          "a0": "MZP1500",
          "a1": 175,
          "a1c": 187.5,
          "a2": 558,
          "a3": 23.62202362203543
         },
         {
          "a0": "MZP1500",
          "a1": 200,
          "a1c": 212.5,
          "a2": 504,
          "a3": 22.44994432064365
         },
         {
          "a0": "MZP1500",
          "a1": 225,
          "a1c": 237.5,
          "a2": 401,
          "a3": 20.024984394500787
         },
         {
          "a0": "MZP1500",
          "a1": 250,
          "a1c": 262.5,
          "a2": 400,
          "a3": 20
         },
         {
          "a0": "MZP1500",
          "a1": 275,
          "a1c": 287.5,
          "a2": 305,
          "a3": 17.46424919657298
         },
         {
          "a0": "MZP1500",
          "a1": 300,
          "a1c": 312.5,
          "a2": 282,
          "a3": 16.792855623746664
         },
         {
          "a0": "MZP1500",
          "a1": 325,
          "a1c": 337.5,
          "a2": 224,
          "a3": 14.966629547095765
         },
         {
          "a0": "MZP1500",
          "a1": 350,
          "a1c": 362.5,
          "a2": 166,
          "a3": 12.884098726725126
         },
         {
          "a0": "MZP1500",
          "a1": 375,
          "a1c": 387.5,
          "a2": 138,
          "a3": 11.74734012447073
         },
         {
          "a0": "MZP1500",
          "a1": 400,
          "a1c": 412.5,
          "a2": 124,
          "a3": 11.135528725660043
         },
         {
          "a0": "MZP1500",
          "a1": 425,
          "a1c": 437.5,
          "a2": 86,
          "a3": 9.273618495495704
         },
         {
          "a0": "MZP1500",
          "a1": 450,
          "a1c": 462.5,
          "a2": 67,
          "a3": 8.18535277187245
         },
         {
          "a0": "MZP1500",
          "a1": 475,
          "a1c": 487.5,
          "a2": 90,
          "a3": 9.486832980505138
         },
         {
          "a0": "MZP1500",
          "a1": 500,
          "a1c": 500,
          "a2": 0,
          "a3": 0
         },
         {
          "a0": "MZP2000",
          "a1": 0,
          "a1c": 0,
          "a2": 0,
          "a3": 0
         },
         {
          "a0": "MZP2000",
          "a1": 5.0000000000000004e-08,
          "a1c": 12.5,
          "a2": 0,
          "a3": 0
         },
         {
          "a0": "MZP2000",
          "a1": 25,
          "a1c": 37.5,
          "a2": 563,
          "a3": 23.727621035409346
         },
         {
          "a0": "MZP2000",
          "a1": 50,
          "a1c": 62.5,
          "a2": 1195,
          "a3": 34.56877203488721
         },
         {
          "a0": "MZP2000",
          "a1": 75,
          "a1c": 87.5,
          "a2": 1241,
          "a3": 35.22782990761707
         },
         {
          "a0": "MZP2000",
          "a1": 100,
          "a1c": 112.5,
          "a2": 949,
          "a3": 30.805843601498726
         },
         {
          "a0": "MZP2000",
          "a1": 125,
          "a1c": 137.5,
          "a2": 808,
          "a3": 28.42534080710379
         },
         {
          "a0": "MZP2000",
          "a1": 150,
          "a1c": 162.5,
          "a2": 627,
          "a3": 25.03996805109783
         },
         {
          "a0": "MZP2000",
          "a1": 175,
          "a1c": 187.5,
          "a2": 554,
          "a3": 23.53720459187964
         },
         {
          "a0": "MZP2000",
          "a1": 200,
          "a1c": 212.5,
          "a2": 526,
          "a3": 22.93468988235943
         },
         {
          "a0": "MZP2000",
          "a1": 225,
          "a1c": 237.5,
          "a2": 418,
          "a3": 20.445048300260872
         },
         {
          "a0": "MZP2000",
          "a1": 250,
          "a1c": 262.5,
          "a2": 367,
          "a3": 19.157244060668017
         },
         {
          "a0": "MZP2000",
          "a1": 275,
          "a1c": 287.5,
          "a2": 362,
          "a3": 19.026297590440446
         },
         {
          "a0": "MZP2000",
          "a1": 300,
          "a1c": 312.5,
          "a2": 325,
          "a3": 18.027756377319946
         },
         {
          "a0": "MZP2000",
          "a1": 325,
          "a1c": 337.5,
          "a2": 270,
          "a3": 16.431676725154983
         },
         {
          "a0": "MZP2000",
          "a1": 350,
          "a1c": 362.5,
          "a2": 229,
          "a3": 15.132745950421556
         },
         {
          "a0": "MZP2000",
          "a1": 375,
          "a1c": 387.5,
          "a2": 183,
          "a3": 13.527749258468683
         },
         {
          "a0": "MZP2000",
          "a1": 400,
          "a1c": 412.5,
          "a2": 145,
          "a3": 12.041594578792296
         },
         {
          "a0": "MZP2000",
          "a1": 425,
          "a1c": 437.5,
          "a2": 127,
          "a3": 11.269427669584644
         },
         {
          "a0": "MZP2000",
          "a1": 450,
          "a1c": 462.5,
          "a2": 105,
          "a3": 10.246950765959598
         },
         {
          "a0": "MZP2000",
          "a1": 475,
          "a1c": 487.5,
          "a2": 119,
          "a3": 10.908712114635714
         },
         {
          "a0": "MZP2000",
          "a1": 500,
          "a1c": 500,
          "a2": 0,
          "a3": 0
         },
         {
          "a0": "MZP2000From1500",
          "a1": 0,
          "a1c": 0,
          "a2": 0,
          "a3": 0
         },
         {
          "a0": "MZP2000From1500",
          "a1": 5.0000000000000004e-08,
          "a1c": 12.5,
          "a2": 0,
          "a3": 0
         },
         {
          "a0": "MZP2000From1500",
          "a1": 25,
          "a1c": 37.5,
          "a2": 544.6539268987475,
          "a3": 21.47626017238202
         },
         {
          "a0": "MZP2000From1500",
          "a1": 50,
          "a1c": 62.5,
          "a2": 1300.7315569502412,
          "a3": 33.677829597905756
         },
         {
          "a0": "MZP2000From1500",
          "a1": 75,
          "a1c": 87.5,
          "a2": 1478.1224903228751,
          "a3": 250.20416133726584
         },
         {
          "a0": "MZP2000From1500",
          "a1": 100,
          "a1c": 112.5,
          "a2": 987.0442309753131,
          "a3": 30.227780979438744
         },
         {
          "a0": "MZP2000From1500",
          "a1": 125,
          "a1c": 137.5,
          "a2": 781.7364290681616,
          "a3": 27.3373145321634
         },
         {
          "a0": "MZP2000From1500",
          "a1": 150,
          "a1c": 162.5,
          "a2": 690.2383399074374,
          "a3": 26.14982673653455
         },
         {
          "a0": "MZP2000From1500",
          "a1": 175,
          "a1c": 187.5,
          "a2": 552.0765532641833,
          "a3": 23.535440982270583
         },
         {
          "a0": "MZP2000From1500",
          "a1": 200,
          "a1c": 212.5,
          "a2": 511.0216485148265,
          "a3": 22.92631179957393
         },
         {
          "a0": "MZP2000From1500",
          "a1": 225,
          "a1c": 237.5,
          "a2": 420.00181857349645,
          "a3": 21.17294195422197
         },
         {
          "a0": "MZP2000From1500",
          "a1": 250,
          "a1c": 262.5,
          "a2": 440.19396882732013,
          "a3": 22.43029869092171
         },
         {
          "a0": "MZP2000From1500",
          "a1": 275,
          "a1c": 287.5,
          "a2": 353.08678643862214,
          "a3": 20.981150864304777
         },
         {
          "a0": "MZP2000From1500",
          "a1": 300,
          "a1c": 312.5,
          "a2": 335.7892049361948,
          "a3": 20.75270304059451
         },
         {
          "a0": "MZP2000From1500",
          "a1": 325,
          "a1c": 337.5,
          "a2": 285.7221635745907,
          "a3": 19.889564463880607
         },
         {
          "a0": "MZP2000From1500",
          "a1": 350,
          "a1c": 362.5,
          "a2": 215.87608898317285,
          "a3": 17.66031856893499
         },
         {
          "a0": "MZP2000From1500",
          "a1": 375,
          "a1c": 387.5,
          "a2": 184.4540524053628,
          "a3": 16.374470524992663
         },
         {
          "a0": "MZP2000From1500",
          "a1": 400,
          "a1c": 412.5,
          "a2": 176.8721503177439,
          "a3": 16.792519712386255
         },
         {
          "a0": "MZP2000From1500",
          "a1": 425,
          "a1c": 437.5,
          "a2": 125.48013856616878,
          "a3": 14.293097221526175
         },
         {
          "a0": "MZP2000From1500",
          "a1": 450,
          "a1c": 462.5,
          "a2": 96.8038156324901,
          "a3": 12.28576469056281
         },
         {
          "a0": "MZP2000From1500",
          "a1": 475,
          "a1c": 487.5,
          "a2": 141.19107755926677,
          "a3": 15.826727695494347
         },
         {
          "a0": "MZP2000From1500",
          "a1": 500,
          "a1c": 500,
          "a2": 0,
          "a3": 0
         }
        ]
       },
       "layer": [
        {
         "encoding": {
          "color": {
           "field": "a0",
           "legend": {
            "title": "type"
           },
           "scale": {
            "domain": [
             "MZP1500",
             "MZP2000",
             "MZP2000From1500"
            ]
           },
           "type": "nominal"
          },
          "x": {
           "axis": {
            "title": "JET1PT"
           },
           "field": "a1",
           "scale": {
            "zero": false
           },
           "type": "quantitative"
          },
          "y": {
           "axis": {
            "title": "entries per bin"
           },
           "field": "a2",
           "type": "quantitative"
          }
         },
         "mark": {
          "clip": true,
          "interpolate": "step-before",
          "type": "line"
         },
         "transform": []
        },
        {
         "encoding": {
          "x": {
           "field": "a1c",
           "type": "quantitative"
          },
          "y": {
           "field": "error-down",
           "type": "quantitative"
          },
          "y2": {
           "field": "error-up",
           "type": "quantitative"
          }
         },
         "mark": "rule",
         "transform": [
          {
           "as": "error-down",
           "calculate": "datum.a2 - datum.a3"
          },
          {
           "as": "error-up",
           "calculate": "datum.a2 + datum.a3"
          }
         ]
        }
       ]
      },
      "image/png": "[encoded data removed]",
      "text/plain": [
       "Hist(groupby('type'), bin('JET1PT', 20, 0.0, 500.0), weight='w').overlay(groupby('type')).step(bin('JET1PT', 20, 0.0, 500.0)error=True)"
      ]
     },
     "execution_count": 10,
     "metadata": {},
     "output_type": "execute_result"
    }
   ],
   "source": [
    "variable = 'LeadingJetPt'\n",
    "histogram = Hist(bin(\"JET1PT\", 20, 0, 500), groupby('type'), weight=\"w\")\n",
    "histogram.fill(JET1PT=arr_MZp1p5[variable]*0.001, type=\"MZP1500\", w=np.ones(10000))\n",
    "histogram.fill(JET1PT=arr_MZp2p0[variable]*0.001, type=\"MZP2000\", w=np.ones(10000))\n",
    "histogram.fill(JET1PT=arr_MZp1p5[variable]*0.001, w=weights_MZp1500to2000, type=\"MZP2000From1500\")\n",
    "histogram.overlay(\"type\").step(\"JET1PT\", error=True)"
   ]
  },
  {
   "cell_type": "markdown",
   "metadata": {},
   "source": [
    "### Reweighting from Z' mass of 1500 GeV to 2500 GeV \n",
    "Now we are trying to reweight the sample with Z' mass of 1500 GeV to Z' mass of 2500 GeV.\n",
    "\n",
    "As above we first plot the **MET** distributions (in GeV) for the 1500 \"start\" sample, the simulated 2500 \"target\" sample and the reweighted sample. \n",
    "\n",
    "Since by reweighting in MET by definition the simulated and the re-weighted distributions should agree, also the leading jet pt distribution **JETPT1** (in GeV) is shown for the three samples mentioned above.\n",
    "\n",
    "The agreement between the simulated and reweighted sample is quite good for the **MET** distributions, however in the lower part of the **JETPT1** distribution there are some non-negligible differences."
   ]
  },
  {
   "cell_type": "code",
   "execution_count": 11,
   "metadata": {},
   "outputs": [],
   "source": [
    "weights_MZp1500to2500 = np.array([getSF(m_reweight_MZp_1p5_to_2p5, 'hMET_SF', value) for value in arr_MZp1p5['TruthMET_met']*0.001])"
   ]
  },
  {
   "cell_type": "code",
   "execution_count": 12,
   "metadata": {},
   "outputs": [
    {
     "data": {
      "application/vnd.vegalite.v2+json": {
       "$schema": "https://vega.github.io/schema/vega-lite/v2.json",
       "data": {
        "values": [
         {
          "a0": "MZP1500",
          "a1": 0,
          "a1c": 0,
          "a2": 0,
          "a3": 0
         },
         {
          "a0": "MZP1500",
          "a1": 1.0000000000000001e-07,
          "a1c": 25,
          "a2": 471,
          "a3": 21.702534414210707
         },
         {
          "a0": "MZP1500",
          "a1": 50,
          "a1c": 75,
          "a2": 1272,
          "a3": 35.66510900025401
         },
         {
          "a0": "MZP1500",
          "a1": 100,
          "a1c": 125,
          "a2": 1476,
          "a3": 38.41874542459709
         },
         {
          "a0": "MZP1500",
          "a1": 150,
          "a1c": 175,
          "a2": 1534,
          "a3": 39.16631205513228
         },
         {
          "a0": "MZP1500",
          "a1": 200,
          "a1c": 225,
          "a2": 1279,
          "a3": 35.76310948449533
         },
         {
          "a0": "MZP1500",
          "a1": 250,
          "a1c": 275,
          "a2": 986,
          "a3": 31.400636936215164
         },
         {
          "a0": "MZP1500",
          "a1": 300,
          "a1c": 325,
          "a2": 817,
          "a3": 28.583211855912904
         },
         {
          "a0": "MZP1500",
          "a1": 350,
          "a1c": 375,
          "a2": 610,
          "a3": 24.698178070456937
         },
         {
          "a0": "MZP1500",
          "a1": 400,
          "a1c": 425,
          "a2": 454,
          "a3": 21.307275752662516
         },
         {
          "a0": "MZP1500",
          "a1": 450,
          "a1c": 475,
          "a2": 323,
          "a3": 17.97220075561143
         },
         {
          "a0": "MZP1500",
          "a1": 500,
          "a1c": 525,
          "a2": 241,
          "a3": 15.524174696260024
         },
         {
          "a0": "MZP1500",
          "a1": 550,
          "a1c": 575,
          "a2": 167,
          "a3": 12.922847983320086
         },
         {
          "a0": "MZP1500",
          "a1": 600,
          "a1c": 625,
          "a2": 118,
          "a3": 10.862780491200215
         },
         {
          "a0": "MZP1500",
          "a1": 650,
          "a1c": 675,
          "a2": 72,
          "a3": 8.48528137423857
         },
         {
          "a0": "MZP1500",
          "a1": 700,
          "a1c": 725,
          "a2": 43,
          "a3": 6.557438524302
         },
         {
          "a0": "MZP1500",
          "a1": 750,
          "a1c": 775,
          "a2": 36,
          "a3": 6
         },
         {
          "a0": "MZP1500",
          "a1": 800,
          "a1c": 825,
          "a2": 21,
          "a3": 4.58257569495584
         },
         {
          "a0": "MZP1500",
          "a1": 850,
          "a1c": 875,
          "a2": 26,
          "a3": 5.0990195135927845
         },
         {
          "a0": "MZP1500",
          "a1": 900,
          "a1c": 925,
          "a2": 10,
          "a3": 3.1622776601683795
         },
         {
          "a0": "MZP1500",
          "a1": 950,
          "a1c": 975,
          "a2": 12,
          "a3": 3.4641016151377544
         },
         {
          "a0": "MZP1500",
          "a1": 1000,
          "a1c": 1000,
          "a2": 0,
          "a3": 0
         },
         {
          "a0": "MZP2500",
          "a1": 0,
          "a1c": 0,
          "a2": 0,
          "a3": 0
         },
         {
          "a0": "MZP2500",
          "a1": 1.0000000000000001e-07,
          "a1c": 25,
          "a2": 310,
          "a3": 17.60681686165901
         },
         {
          "a0": "MZP2500",
          "a1": 50,
          "a1c": 75,
          "a2": 817,
          "a3": 28.583211855912904
         },
         {
          "a0": "MZP2500",
          "a1": 100,
          "a1c": 125,
          "a2": 1101,
          "a3": 33.18132004607411
         },
         {
          "a0": "MZP2500",
          "a1": 150,
          "a1c": 175,
          "a2": 1165,
          "a3": 34.132096331752024
         },
         {
          "a0": "MZP2500",
          "a1": 200,
          "a1c": 225,
          "a2": 1073,
          "a3": 32.7566787083184
         },
         {
          "a0": "MZP2500",
          "a1": 250,
          "a1c": 275,
          "a2": 929,
          "a3": 30.479501308256342
         },
         {
          "a0": "MZP2500",
          "a1": 300,
          "a1c": 325,
          "a2": 788,
          "a3": 28.071337695236398
         },
         {
          "a0": "MZP2500",
          "a1": 350,
          "a1c": 375,
          "a2": 646,
          "a3": 25.41653005427767
         },
         {
          "a0": "MZP2500",
          "a1": 400,
          "a1c": 425,
          "a2": 612,
          "a3": 24.73863375370596
         },
         {
          "a0": "MZP2500",
          "a1": 450,
          "a1c": 475,
          "a2": 498,
          "a3": 22.315913604421397
         },
         {
          "a0": "MZP2500",
          "a1": 500,
          "a1c": 525,
          "a2": 393,
          "a3": 19.82422760159901
         },
         {
          "a0": "MZP2500",
          "a1": 550,
          "a1c": 575,
          "a2": 339,
          "a3": 18.411952639521967
         },
         {
          "a0": "MZP2500",
          "a1": 600,
          "a1c": 625,
          "a2": 277,
          "a3": 16.64331697709324
         },
         {
          "a0": "MZP2500",
          "a1": 650,
          "a1c": 675,
          "a2": 218,
          "a3": 14.7648230602334
         },
         {
          "a0": "MZP2500",
          "a1": 700,
          "a1c": 725,
          "a2": 167,
          "a3": 12.922847983320086
         },
         {
          "a0": "MZP2500",
          "a1": 750,
          "a1c": 775,
          "a2": 146,
          "a3": 12.083045973594572
         },
         {
          "a0": "MZP2500",
          "a1": 800,
          "a1c": 825,
          "a2": 117,
          "a3": 10.816653826391969
         },
         {
          "a0": "MZP2500",
          "a1": 850,
          "a1c": 875,
          "a2": 88,
          "a3": 9.38083151964686
         },
         {
          "a0": "MZP2500",
          "a1": 900,
          "a1c": 925,
          "a2": 79,
          "a3": 8.888194417315589
         },
         {
          "a0": "MZP2500",
          "a1": 950,
          "a1c": 975,
          "a2": 66,
          "a3": 8.12403840463596
         },
         {
          "a0": "MZP2500",
          "a1": 1000,
          "a1c": 1000,
          "a2": 0,
          "a3": 0
         },
         {
          "a0": "MZP2500From1500",
          "a1": 0,
          "a1c": 0,
          "a2": 0,
          "a3": 0
         },
         {
          "a0": "MZP2500From1500",
          "a1": 1.0000000000000001e-07,
          "a1c": 25,
          "a2": 310.6789294901021,
          "a3": 14.323778618972494
         },
         {
          "a0": "MZP2500From1500",
          "a1": 50,
          "a1c": 75,
          "a2": 870.8097647761113,
          "a3": 24.424000470399346
         },
         {
          "a0": "MZP2500From1500",
          "a1": 100,
          "a1c": 125,
          "a2": 1130.728864405828,
          "a3": 29.44392825175457
         },
         {
          "a0": "MZP2500From1500",
          "a1": 150,
          "a1c": 175,
          "a2": 1267.9678159634868,
          "a3": 32.39054932382314
         },
         {
          "a0": "MZP2500From1500",
          "a1": 200,
          "a1c": 225,
          "a2": 1120.5897674389603,
          "a3": 31.34925901653257
         },
         {
          "a0": "MZP2500From1500",
          "a1": 250,
          "a1c": 275,
          "a2": 922.6151159993296,
          "a3": 29.38318582588152
         },
         {
          "a0": "MZP2500From1500",
          "a1": 300,
          "a1c": 325,
          "a2": 845.7378223570911,
          "a3": 29.625998589291274
         },
         {
          "a0": "MZP2500From1500",
          "a1": 350,
          "a1c": 375,
          "a2": 710.4015074325555,
          "a3": 28.778943213785652
         },
         {
          "a0": "MZP2500From1500",
          "a1": 400,
          "a1c": 425,
          "a2": 580.6210073748376,
          "a3": 27.25610429177493
         },
         {
          "a0": "MZP2500From1500",
          "a1": 450,
          "a1c": 475,
          "a2": 474.90597963364377,
          "a3": 26.473730935425657
         },
         {
          "a0": "MZP2500From1500",
          "a1": 500,
          "a1c": 525,
          "a2": 427.7404048744928,
          "a3": 27.604841610684122
         },
         {
          "a0": "MZP2500From1500",
          "a1": 550,
          "a1c": 575,
          "a2": 351.29192037456824,
          "a3": 27.218292566992684
         },
         {
          "a0": "MZP2500From1500",
          "a1": 600,
          "a1c": 625,
          "a2": 286.9404011201407,
          "a3": 26.671445449085418
         },
         {
          "a0": "MZP2500From1500",
          "a1": 650,
          "a1c": 675,
          "a2": 288.3261288597737,
          "a3": 34.261849923069526
         },
         {
          "a0": "MZP2500From1500",
          "a1": 700,
          "a1c": 725,
          "a2": 219.69836522150982,
          "a3": 33.51292129668957
         },
         {
          "a0": "MZP2500From1500",
          "a1": 750,
          "a1c": 775,
          "a2": 192.29703220678823,
          "a3": 32.12243607633674
         },
         {
          "a0": "MZP2500From1500",
          "a1": 800,
          "a1c": 825,
          "a2": 119.82312252964425,
          "a3": 26.2619750019726
         },
         {
          "a0": "MZP2500From1500",
          "a1": 850,
          "a1c": 875,
          "a2": 187.20715772432936,
          "a3": 36.809012408667925
         },
         {
          "a0": "MZP2500From1500",
          "a1": 900,
          "a1c": 925,
          "a2": 76.43846153846152,
          "a3": 24.440391197636163
         },
         {
          "a0": "MZP2500From1500",
          "a1": 950,
          "a1c": 975,
          "a2": 100.30869565217392,
          "a3": 28.965677166021862
         },
         {
          "a0": "MZP2500From1500",
          "a1": 1000,
          "a1c": 1000,
          "a2": 0,
          "a3": 0
         }
        ]
       },
       "layer": [
        {
         "encoding": {
          "color": {
           "field": "a0",
           "legend": {
            "title": "type"
           },
           "scale": {
            "domain": [
             "MZP1500",
             "MZP2500",
             "MZP2500From1500"
            ]
           },
           "type": "nominal"
          },
          "x": {
           "axis": {
            "title": "MET"
           },
           "field": "a1",
           "scale": {
            "zero": false
           },
           "type": "quantitative"
          },
          "y": {
           "axis": {
            "title": "entries per bin"
           },
           "field": "a2",
           "type": "quantitative"
          }
         },
         "mark": {
          "clip": true,
          "interpolate": "step-before",
          "type": "line"
         },
         "transform": []
        },
        {
         "encoding": {
          "x": {
           "field": "a1c",
           "type": "quantitative"
          },
          "y": {
           "field": "error-down",
           "type": "quantitative"
          },
          "y2": {
           "field": "error-up",
           "type": "quantitative"
          }
         },
         "mark": "rule",
         "transform": [
          {
           "as": "error-down",
           "calculate": "datum.a2 - datum.a3"
          },
          {
           "as": "error-up",
           "calculate": "datum.a2 + datum.a3"
          }
         ]
        }
       ]
      },
      "image/png": "[encoded data removed]",
      "text/plain": [
       "Hist(groupby('type'), bin('MET', 20, 0.0, 1000.0), weight='w').overlay(groupby('type')).step(bin('MET', 20, 0.0, 1000.0)error=True)"
      ]
     },
     "execution_count": 12,
     "metadata": {},
     "output_type": "execute_result"
    }
   ],
   "source": [
    "variable = 'TruthMET_met'\n",
    "histogram = Hist(bin(\"MET\", 20, 0, 1000), groupby('type'), weight=\"w\")\n",
    "histogram.fill(MET=arr_MZp1p5[variable]*0.001, type=\"MZP1500\", w=np.ones(10000))\n",
    "histogram.fill(MET=arr_MZp2p5[variable]*0.001, type=\"MZP2500\", w=np.ones(10000))\n",
    "histogram.fill(MET=arr_MZp1p5[variable]*0.001, w=weights_MZp1500to2500, type=\"MZP2500From1500\")\n",
    "histogram.overlay(\"type\").step(\"MET\", error=True)"
   ]
  },
  {
   "cell_type": "code",
   "execution_count": 13,
   "metadata": {},
   "outputs": [
    {
     "data": {
      "application/vnd.vegalite.v2+json": {
       "$schema": "https://vega.github.io/schema/vega-lite/v2.json",
       "data": {
        "values": [
         {
          "a0": "MZP1500",
          "a1": 0,
          "a1c": 0,
          "a2": 0,
          "a3": 0
         },
         {
          "a0": "MZP1500",
          "a1": 5.0000000000000004e-08,
          "a1c": 12.5,
          "a2": 0,
          "a3": 0
         },
         {
          "a0": "MZP1500",
          "a1": 25,
          "a1c": 37.5,
          "a2": 659,
          "a3": 25.67099530598687
         },
         {
          "a0": "MZP1500",
          "a1": 50,
          "a1c": 62.5,
          "a2": 1518,
          "a3": 38.961519477556315
         },
         {
          "a0": "MZP1500",
          "a1": 75,
          "a1c": 87.5,
          "a2": 1386,
          "a3": 37.22902093797257
         },
         {
          "a0": "MZP1500",
          "a1": 100,
          "a1c": 112.5,
          "a2": 1074,
          "a3": 32.77193921634788
         },
         {
          "a0": "MZP1500",
          "a1": 125,
          "a1c": 137.5,
          "a2": 828,
          "a3": 28.77498913987632
         },
         {
          "a0": "MZP1500",
          "a1": 150,
          "a1c": 162.5,
          "a2": 710,
          "a3": 26.645825188948457
         },
         {
          "a0": "MZP1500",
          "a1": 175,
          "a1c": 187.5,
          "a2": 558,
          "a3": 23.62202362203543
         },
         {
          "a0": "MZP1500",
          "a1": 200,
          "a1c": 212.5,
          "a2": 504,
          "a3": 22.44994432064365
         },
         {
          "a0": "MZP1500",
          "a1": 225,
          "a1c": 237.5,
          "a2": 401,
          "a3": 20.024984394500787
         },
         {
          "a0": "MZP1500",
          "a1": 250,
          "a1c": 262.5,
          "a2": 400,
          "a3": 20
         },
         {
          "a0": "MZP1500",
          "a1": 275,
          "a1c": 287.5,
          "a2": 305,
          "a3": 17.46424919657298
         },
         {
          "a0": "MZP1500",
          "a1": 300,
          "a1c": 312.5,
          "a2": 282,
          "a3": 16.792855623746664
         },
         {
          "a0": "MZP1500",
          "a1": 325,
          "a1c": 337.5,
          "a2": 224,
          "a3": 14.966629547095765
         },
         {
          "a0": "MZP1500",
          "a1": 350,
          "a1c": 362.5,
          "a2": 166,
          "a3": 12.884098726725126
         },
         {
          "a0": "MZP1500",
          "a1": 375,
          "a1c": 387.5,
          "a2": 138,
          "a3": 11.74734012447073
         },
         {
          "a0": "MZP1500",
          "a1": 400,
          "a1c": 412.5,
          "a2": 124,
          "a3": 11.135528725660043
         },
         {
          "a0": "MZP1500",
          "a1": 425,
          "a1c": 437.5,
          "a2": 86,
          "a3": 9.273618495495704
         },
         {
          "a0": "MZP1500",
          "a1": 450,
          "a1c": 462.5,
          "a2": 67,
          "a3": 8.18535277187245
         },
         {
          "a0": "MZP1500",
          "a1": 475,
          "a1c": 487.5,
          "a2": 90,
          "a3": 9.486832980505138
         },
         {
          "a0": "MZP1500",
          "a1": 500,
          "a1c": 500,
          "a2": 0,
          "a3": 0
         },
         {
          "a0": "MZP2500",
          "a1": 0,
          "a1c": 0,
          "a2": 0,
          "a3": 0
         },
         {
          "a0": "MZP2500",
          "a1": 5.0000000000000004e-08,
          "a1c": 12.5,
          "a2": 0,
          "a3": 0
         },
         {
          "a0": "MZP2500",
          "a1": 25,
          "a1c": 37.5,
          "a2": 430,
          "a3": 20.73644135332772
         },
         {
          "a0": "MZP2500",
          "a1": 50,
          "a1c": 62.5,
          "a2": 1023,
          "a3": 31.984371183438952
         },
         {
          "a0": "MZP2500",
          "a1": 75,
          "a1c": 87.5,
          "a2": 1041,
          "a3": 32.264531609803356
         },
         {
          "a0": "MZP2500",
          "a1": 100,
          "a1c": 112.5,
          "a2": 872,
          "a3": 29.5296461204668
         },
         {
          "a0": "MZP2500",
          "a1": 125,
          "a1c": 137.5,
          "a2": 708,
          "a3": 26.60826939130014
         },
         {
          "a0": "MZP2500",
          "a1": 150,
          "a1c": 162.5,
          "a2": 628,
          "a3": 25.059928172283335
         },
         {
          "a0": "MZP2500",
          "a1": 175,
          "a1c": 187.5,
          "a2": 594,
          "a3": 24.372115213907882
         },
         {
          "a0": "MZP2500",
          "a1": 200,
          "a1c": 212.5,
          "a2": 508,
          "a3": 22.538855339169288
         },
         {
          "a0": "MZP2500",
          "a1": 225,
          "a1c": 237.5,
          "a2": 430,
          "a3": 20.73644135332772
         },
         {
          "a0": "MZP2500",
          "a1": 250,
          "a1c": 262.5,
          "a2": 412,
          "a3": 20.29778313018444
         },
         {
          "a0": "MZP2500",
          "a1": 275,
          "a1c": 287.5,
          "a2": 351,
          "a3": 18.734993995195193
         },
         {
          "a0": "MZP2500",
          "a1": 300,
          "a1c": 312.5,
          "a2": 329,
          "a3": 18.138357147217054
         },
         {
          "a0": "MZP2500",
          "a1": 325,
          "a1c": 337.5,
          "a2": 266,
          "a3": 16.30950643030009
         },
         {
          "a0": "MZP2500",
          "a1": 350,
          "a1c": 362.5,
          "a2": 240,
          "a3": 15.491933384829668
         },
         {
          "a0": "MZP2500",
          "a1": 375,
          "a1c": 387.5,
          "a2": 192,
          "a3": 13.856406460551018
         },
         {
          "a0": "MZP2500",
          "a1": 400,
          "a1c": 412.5,
          "a2": 201,
          "a3": 14.177446878757825
         },
         {
          "a0": "MZP2500",
          "a1": 425,
          "a1c": 437.5,
          "a2": 170,
          "a3": 13.038404810405298
         },
         {
          "a0": "MZP2500",
          "a1": 450,
          "a1c": 462.5,
          "a2": 124,
          "a3": 11.135528725660043
         },
         {
          "a0": "MZP2500",
          "a1": 475,
          "a1c": 487.5,
          "a2": 134,
          "a3": 11.575836902790225
         },
         {
          "a0": "MZP2500",
          "a1": 500,
          "a1c": 500,
          "a2": 0,
          "a3": 0
         },
         {
          "a0": "MZP2500From1500",
          "a1": 0,
          "a1c": 0,
          "a2": 0,
          "a3": 0
         },
         {
          "a0": "MZP2500From1500",
          "a1": 5.0000000000000004e-08,
          "a1c": 12.5,
          "a2": 0,
          "a3": 0
         },
         {
          "a0": "MZP2500From1500",
          "a1": 25,
          "a1c": 37.5,
          "a2": 467.4425694495415,
          "a3": 19.05079403470881
         },
         {
          "a0": "MZP2500From1500",
          "a1": 50,
          "a1c": 62.5,
          "a2": 1149.1132897590064,
          "a3": 30.767803217783236
         },
         {
          "a0": "MZP2500From1500",
          "a1": 75,
          "a1c": 87.5,
          "a2": 1357.034397197894,
          "a3": 249.81026363911195
         },
         {
          "a0": "MZP2500From1500",
          "a1": 100,
          "a1c": 112.5,
          "a2": 909.9978300838371,
          "a3": 28.025988328623086
         },
         {
          "a0": "MZP2500From1500",
          "a1": 125,
          "a1c": 137.5,
          "a2": 732.5044150413214,
          "a3": 25.870204237943526
         },
         {
          "a0": "MZP2500From1500",
          "a1": 150,
          "a1c": 162.5,
          "a2": 660.5342311586483,
          "a3": 25.610416289235808
         },
         {
          "a0": "MZP2500From1500",
          "a1": 175,
          "a1c": 187.5,
          "a2": 531.0077367813659,
          "a3": 22.878801893440624
         },
         {
          "a0": "MZP2500From1500",
          "a1": 200,
          "a1c": 212.5,
          "a2": 501.15433712393866,
          "a3": 22.733620627049195
         },
         {
          "a0": "MZP2500From1500",
          "a1": 225,
          "a1c": 237.5,
          "a2": 419.5952776054574,
          "a3": 21.432371436965774
         },
         {
          "a0": "MZP2500From1500",
          "a1": 250,
          "a1c": 262.5,
          "a2": 453.876317676975,
          "a3": 23.829941132540576
         },
         {
          "a0": "MZP2500From1500",
          "a1": 275,
          "a1c": 287.5,
          "a2": 376.2980134571642,
          "a3": 23.796074083133835
         },
         {
          "a0": "MZP2500From1500",
          "a1": 300,
          "a1c": 312.5,
          "a2": 362.99449599783344,
          "a3": 23.616826625962908
         },
         {
          "a0": "MZP2500From1500",
          "a1": 325,
          "a1c": 337.5,
          "a2": 317.9260712953135,
          "a3": 23.135699325257992
         },
         {
          "a0": "MZP2500From1500",
          "a1": 350,
          "a1c": 362.5,
          "a2": 243.2267662748244,
          "a3": 21.106087308689546
         },
         {
          "a0": "MZP2500From1500",
          "a1": 375,
          "a1c": 387.5,
          "a2": 214.65959541766168,
          "a3": 20.53950538726099
         },
         {
          "a0": "MZP2500From1500",
          "a1": 400,
          "a1c": 412.5,
          "a2": 208.58763383977308,
          "a3": 20.916927746936015
         },
         {
          "a0": "MZP2500From1500",
          "a1": 425,
          "a1c": 437.5,
          "a2": 153.22315228200355,
          "a3": 19.97245486788274
         },
         {
          "a0": "MZP2500From1500",
          "a1": 450,
          "a1c": 462.5,
          "a2": 113.91598027561142,
          "a3": 14.975155308159588
         },
         {
          "a0": "MZP2500From1500",
          "a1": 475,
          "a1c": 487.5,
          "a2": 171.9904126032768,
          "a3": 20.373211243189953
         },
         {
          "a0": "MZP2500From1500",
          "a1": 500,
          "a1c": 500,
          "a2": 0,
          "a3": 0
         }
        ]
       },
       "layer": [
        {
         "encoding": {
          "color": {
           "field": "a0",
           "legend": {
            "title": "type"
           },
           "scale": {
            "domain": [
             "MZP1500",
             "MZP2500",
             "MZP2500From1500"
            ]
           },
           "type": "nominal"
          },
          "x": {
           "axis": {
            "title": "JET1PT"
           },
           "field": "a1",
           "scale": {
            "zero": false
           },
           "type": "quantitative"
          },
          "y": {
           "axis": {
            "title": "entries per bin"
           },
           "field": "a2",
           "type": "quantitative"
          }
         },
         "mark": {
          "clip": true,
          "interpolate": "step-before",
          "type": "line"
         },
         "transform": []
        },
        {
         "encoding": {
          "x": {
           "field": "a1c",
           "type": "quantitative"
          },
          "y": {
           "field": "error-down",
           "type": "quantitative"
          },
          "y2": {
           "field": "error-up",
           "type": "quantitative"
          }
         },
         "mark": "rule",
         "transform": [
          {
           "as": "error-down",
           "calculate": "datum.a2 - datum.a3"
          },
          {
           "as": "error-up",
           "calculate": "datum.a2 + datum.a3"
          }
         ]
        }
       ]
      },
      "image/png": "[encoded data removed]",
      "text/plain": [
       "Hist(groupby('type'), bin('JET1PT', 20, 0.0, 500.0), weight='w').overlay(groupby('type')).step(bin('JET1PT', 20, 0.0, 500.0)error=True)"
      ]
     },
     "execution_count": 13,
     "metadata": {},
     "output_type": "execute_result"
    }
   ],
   "source": [
    "variable = 'LeadingJetPt'\n",
    "histogram = Hist(bin(\"JET1PT\", 20, 0, 500), groupby('type'), weight=\"w\")\n",
    "histogram.fill(JET1PT=arr_MZp1p5[variable]*0.001, type=\"MZP1500\", w=np.ones(10000))\n",
    "histogram.fill(JET1PT=arr_MZp2p5[variable]*0.001, type=\"MZP2500\", w=np.ones(10000))\n",
    "histogram.fill(JET1PT=arr_MZp1p5[variable]*0.001, w=weights_MZp1500to2500, type=\"MZP2500From1500\")\n",
    "histogram.overlay(\"type\").step(\"JET1PT\", error=True)"
   ]
  },
  {
   "cell_type": "markdown",
   "metadata": {},
   "source": [
    "### Reweighting from Z' mass of 2000 GeV to 2500 GeV \n",
    "Now we are trying to reweight the sample with Z' mass of 2000 GeV to Z' mass of 2500 GeV.\n",
    "\n",
    "As above we first plot the **MET** distributions (in GeV) for the 2000 \"start\" sample, the simulated 2500 \"target\" sample and the reweighted sample. \n",
    "\n",
    "Since by reweighting in MET by definition the simulated and the re-weighted distributions should agree, also the leading jet pt distribution **JETPT1** (in GeV) is shown for the three samples mentioned above.\n",
    "\n",
    "Except two outliers in the reweighted **JETPT1** distribution, the agreement is quite good both in **MET** and **JETPT1**. The fact that the agreement between simulation and reweighting is better for reweighting from 2000 GeV to 2500 GeV than for reweighting from 1500 GeV to 2000 GeV could be because of the larger kinematic differences for a larger difference in Z' mass."
   ]
  },
  {
   "cell_type": "code",
   "execution_count": 14,
   "metadata": {},
   "outputs": [],
   "source": [
    "weights_MZp2000to2500 = np.array([getSF(m_reweight_MZp_2p0_to_2p5, 'hMET_SF', value) for value in arr_MZp2p0['TruthMET_met']*0.001])"
   ]
  },
  {
   "cell_type": "code",
   "execution_count": 15,
   "metadata": {},
   "outputs": [
    {
     "data": {
      "application/vnd.vegalite.v2+json": {
       "$schema": "https://vega.github.io/schema/vega-lite/v2.json",
       "data": {
        "values": [
         {
          "a0": "MZP2000",
          "a1": 0,
          "a1c": 0,
          "a2": 0,
          "a3": 0
         },
         {
          "a0": "MZP2000",
          "a1": 1.0000000000000001e-07,
          "a1c": 25,
          "a2": 401,
          "a3": 20.024984394500787
         },
         {
          "a0": "MZP2000",
          "a1": 50,
          "a1c": 75,
          "a2": 1012,
          "a3": 31.811947441173732
         },
         {
          "a0": "MZP2000",
          "a1": 100,
          "a1c": 125,
          "a2": 1246,
          "a3": 35.298725189445584
         },
         {
          "a0": "MZP2000",
          "a1": 150,
          "a1c": 175,
          "a2": 1270,
          "a3": 35.63705936241092
         },
         {
          "a0": "MZP2000",
          "a1": 200,
          "a1c": 225,
          "a2": 1206,
          "a3": 34.72751070837067
         },
         {
          "a0": "MZP2000",
          "a1": 250,
          "a1c": 275,
          "a2": 954,
          "a3": 30.886890422961002
         },
         {
          "a0": "MZP2000",
          "a1": 300,
          "a1c": 325,
          "a2": 846,
          "a3": 29.086079144497972
         },
         {
          "a0": "MZP2000",
          "a1": 350,
          "a1c": 375,
          "a2": 664,
          "a3": 25.768197453450252
         },
         {
          "a0": "MZP2000",
          "a1": 400,
          "a1c": 425,
          "a2": 569,
          "a3": 23.853720883753127
         },
         {
          "a0": "MZP2000",
          "a1": 450,
          "a1c": 475,
          "a2": 409,
          "a3": 20.223748416156685
         },
         {
          "a0": "MZP2000",
          "a1": 500,
          "a1c": 525,
          "a2": 331,
          "a3": 18.193405398660254
         },
         {
          "a0": "MZP2000",
          "a1": 550,
          "a1c": 575,
          "a2": 270,
          "a3": 16.431676725154983
         },
         {
          "a0": "MZP2000",
          "a1": 600,
          "a1c": 625,
          "a2": 211,
          "a3": 14.52583904633395
         },
         {
          "a0": "MZP2000",
          "a1": 650,
          "a1c": 675,
          "a2": 166,
          "a3": 12.884098726725126
         },
         {
          "a0": "MZP2000",
          "a1": 700,
          "a1c": 725,
          "a2": 114,
          "a3": 10.677078252031311
         },
         {
          "a0": "MZP2000",
          "a1": 750,
          "a1c": 775,
          "a2": 88,
          "a3": 9.38083151964686
         },
         {
          "a0": "MZP2000",
          "a1": 800,
          "a1c": 825,
          "a2": 73,
          "a3": 8.54400374531753
         },
         {
          "a0": "MZP2000",
          "a1": 850,
          "a1c": 875,
          "a2": 43,
          "a3": 6.557438524302
         },
         {
          "a0": "MZP2000",
          "a1": 900,
          "a1c": 925,
          "a2": 38,
          "a3": 6.164414002968976
         },
         {
          "a0": "MZP2000",
          "a1": 950,
          "a1c": 975,
          "a2": 17,
          "a3": 4.123105625617661
         },
         {
          "a0": "MZP2000",
          "a1": 1000,
          "a1c": 1000,
          "a2": 0,
          "a3": 0
         },
         {
          "a0": "MZP2500",
          "a1": 0,
          "a1c": 0,
          "a2": 0,
          "a3": 0
         },
         {
          "a0": "MZP2500",
          "a1": 1.0000000000000001e-07,
          "a1c": 25,
          "a2": 310,
          "a3": 17.60681686165901
         },
         {
          "a0": "MZP2500",
          "a1": 50,
          "a1c": 75,
          "a2": 817,
          "a3": 28.583211855912904
         },
         {
          "a0": "MZP2500",
          "a1": 100,
          "a1c": 125,
          "a2": 1101,
          "a3": 33.18132004607411
         },
         {
          "a0": "MZP2500",
          "a1": 150,
          "a1c": 175,
          "a2": 1165,
          "a3": 34.132096331752024
         },
         {
          "a0": "MZP2500",
          "a1": 200,
          "a1c": 225,
          "a2": 1073,
          "a3": 32.7566787083184
         },
         {
          "a0": "MZP2500",
          "a1": 250,
          "a1c": 275,
          "a2": 929,
          "a3": 30.479501308256342
         },
         {
          "a0": "MZP2500",
          "a1": 300,
          "a1c": 325,
          "a2": 788,
          "a3": 28.071337695236398
         },
         {
          "a0": "MZP2500",
          "a1": 350,
          "a1c": 375,
          "a2": 646,
          "a3": 25.41653005427767
         },
         {
          "a0": "MZP2500",
          "a1": 400,
          "a1c": 425,
          "a2": 612,
          "a3": 24.73863375370596
         },
         {
          "a0": "MZP2500",
          "a1": 450,
          "a1c": 475,
          "a2": 498,
          "a3": 22.315913604421397
         },
         {
          "a0": "MZP2500",
          "a1": 500,
          "a1c": 525,
          "a2": 393,
          "a3": 19.82422760159901
         },
         {
          "a0": "MZP2500",
          "a1": 550,
          "a1c": 575,
          "a2": 339,
          "a3": 18.411952639521967
         },
         {
          "a0": "MZP2500",
          "a1": 600,
          "a1c": 625,
          "a2": 277,
          "a3": 16.64331697709324
         },
         {
          "a0": "MZP2500",
          "a1": 650,
          "a1c": 675,
          "a2": 218,
          "a3": 14.7648230602334
         },
         {
          "a0": "MZP2500",
          "a1": 700,
          "a1c": 725,
          "a2": 167,
          "a3": 12.922847983320086
         },
         {
          "a0": "MZP2500",
          "a1": 750,
          "a1c": 775,
          "a2": 146,
          "a3": 12.083045973594572
         },
         {
          "a0": "MZP2500",
          "a1": 800,
          "a1c": 825,
          "a2": 117,
          "a3": 10.816653826391969
         },
         {
          "a0": "MZP2500",
          "a1": 850,
          "a1c": 875,
          "a2": 88,
          "a3": 9.38083151964686
         },
         {
          "a0": "MZP2500",
          "a1": 900,
          "a1c": 925,
          "a2": 79,
          "a3": 8.888194417315589
         },
         {
          "a0": "MZP2500",
          "a1": 950,
          "a1c": 975,
          "a2": 66,
          "a3": 8.12403840463596
         },
         {
          "a0": "MZP2500",
          "a1": 1000,
          "a1c": 1000,
          "a2": 0,
          "a3": 0
         },
         {
          "a0": "MZP2500From2000",
          "a1": 0,
          "a1c": 0,
          "a2": 0,
          "a3": 0
         },
         {
          "a0": "MZP2500From2000",
          "a1": 1.0000000000000001e-07,
          "a1c": 25,
          "a2": 332.401478880207,
          "a3": 16.605517455247572
         },
         {
          "a0": "MZP2500From2000",
          "a1": 50,
          "a1c": 75,
          "a2": 864.5819676075009,
          "a3": 27.19479995809287
         },
         {
          "a0": "MZP2500From2000",
          "a1": 100,
          "a1c": 125,
          "a2": 1095.431799530472,
          "a3": 31.039855814366156
         },
         {
          "a0": "MZP2500From2000",
          "a1": 150,
          "a1c": 175,
          "a2": 1162.6270757621292,
          "a3": 32.64649365065643
         },
         {
          "a0": "MZP2500From2000",
          "a1": 200,
          "a1c": 225,
          "a2": 1122.703081534722,
          "a3": 32.34106715573699
         },
         {
          "a0": "MZP2500From2000",
          "a1": 250,
          "a1c": 275,
          "a2": 921.5213375520527,
          "a3": 29.83606910168046
         },
         {
          "a0": "MZP2500From2000",
          "a1": 300,
          "a1c": 325,
          "a2": 824.8908669721962,
          "a3": 28.4028265893871
         },
         {
          "a0": "MZP2500From2000",
          "a1": 350,
          "a1c": 375,
          "a2": 688.4969727143533,
          "a3": 26.736330231854065
         },
         {
          "a0": "MZP2500From2000",
          "a1": 400,
          "a1c": 425,
          "a2": 617.4188538614713,
          "a3": 25.885613599503486
         },
         {
          "a0": "MZP2500From2000",
          "a1": 450,
          "a1c": 475,
          "a2": 455.46973095631347,
          "a3": 22.540870903972316
         },
         {
          "a0": "MZP2500From2000",
          "a1": 500,
          "a1c": 525,
          "a2": 401.90247924526267,
          "a3": 22.113447771250836
         },
         {
          "a0": "MZP2500From2000",
          "a1": 550,
          "a1c": 575,
          "a2": 332.4036253556728,
          "a3": 20.25195185067637
         },
         {
          "a0": "MZP2500From2000",
          "a1": 600,
          "a1c": 625,
          "a2": 265.44638820709434,
          "a3": 18.289074806441814
         },
         {
          "a0": "MZP2500From2000",
          "a1": 650,
          "a1c": 675,
          "a2": 234.87928208439848,
          "a3": 18.274016330079522
         },
         {
          "a0": "MZP2500From2000",
          "a1": 700,
          "a1c": 725,
          "a2": 171.5258252284114,
          "a3": 16.066435611146414
         },
         {
          "a0": "MZP2500From2000",
          "a1": 750,
          "a1c": 775,
          "a2": 132.56907781454473,
          "a3": 14.133858892303964
         },
         {
          "a0": "MZP2500From2000",
          "a1": 800,
          "a1c": 825,
          "a2": 129.38989878258988,
          "a3": 15.174143021700774
         },
         {
          "a0": "MZP2500From2000",
          "a1": 850,
          "a1c": 875,
          "a2": 97.57298871496178,
          "a3": 15.031019237155276
         },
         {
          "a0": "MZP2500From2000",
          "a1": 900,
          "a1c": 925,
          "a2": 112.68012704174225,
          "a3": 18.93189042782205
         },
         {
          "a0": "MZP2500From2000",
          "a1": 950,
          "a1c": 975,
          "a2": 66.35894027999291,
          "a3": 16.142069123728014
         },
         {
          "a0": "MZP2500From2000",
          "a1": 1000,
          "a1c": 1000,
          "a2": 0,
          "a3": 0
         }
        ]
       },
       "layer": [
        {
         "encoding": {
          "color": {
           "field": "a0",
           "legend": {
            "title": "type"
           },
           "scale": {
            "domain": [
             "MZP2000",
             "MZP2500",
             "MZP2500From2000"
            ]
           },
           "type": "nominal"
          },
          "x": {
           "axis": {
            "title": "MET"
           },
           "field": "a1",
           "scale": {
            "zero": false
           },
           "type": "quantitative"
          },
          "y": {
           "axis": {
            "title": "entries per bin"
           },
           "field": "a2",
           "type": "quantitative"
          }
         },
         "mark": {
          "clip": true,
          "interpolate": "step-before",
          "type": "line"
         },
         "transform": []
        },
        {
         "encoding": {
          "x": {
           "field": "a1c",
           "type": "quantitative"
          },
          "y": {
           "field": "error-down",
           "type": "quantitative"
          },
          "y2": {
           "field": "error-up",
           "type": "quantitative"
          }
         },
         "mark": "rule",
         "transform": [
          {
           "as": "error-down",
           "calculate": "datum.a2 - datum.a3"
          },
          {
           "as": "error-up",
           "calculate": "datum.a2 + datum.a3"
          }
         ]
        }
       ]
      },
      "image/png": "[encoded data removed]",
      "text/plain": [
       "Hist(groupby('type'), bin('MET', 20, 0.0, 1000.0), weight='w').overlay(groupby('type')).step(bin('MET', 20, 0.0, 1000.0)error=True)"
      ]
     },
     "execution_count": 15,
     "metadata": {},
     "output_type": "execute_result"
    }
   ],
   "source": [
    "variable = 'TruthMET_met'\n",
    "histogram = Hist(bin(\"MET\", 20, 0, 1000), groupby('type'), weight=\"w\")\n",
    "histogram.fill(MET=arr_MZp2p0[variable]*0.001, type=\"MZP2000\", w=np.ones(10000))\n",
    "histogram.fill(MET=arr_MZp2p5[variable]*0.001, type=\"MZP2500\", w=np.ones(10000))\n",
    "histogram.fill(MET=arr_MZp2p0[variable]*0.001, w=weights_MZp2000to2500, type=\"MZP2500From2000\")\n",
    "histogram.overlay(\"type\").step(\"MET\", error=True)"
   ]
  },
  {
   "cell_type": "code",
   "execution_count": 16,
   "metadata": {},
   "outputs": [
    {
     "data": {
      "application/vnd.vegalite.v2+json": {
       "$schema": "https://vega.github.io/schema/vega-lite/v2.json",
       "data": {
        "values": [
         {
          "a0": "MZP2000",
          "a1": 0,
          "a1c": 0,
          "a2": 0,
          "a3": 0
         },
         {
          "a0": "MZP2000",
          "a1": 5.0000000000000004e-08,
          "a1c": 12.5,
          "a2": 0,
          "a3": 0
         },
         {
          "a0": "MZP2000",
          "a1": 25,
          "a1c": 37.5,
          "a2": 563,
          "a3": 23.727621035409346
         },
         {
          "a0": "MZP2000",
          "a1": 50,
          "a1c": 62.5,
          "a2": 1195,
          "a3": 34.56877203488721
         },
         {
          "a0": "MZP2000",
          "a1": 75,
          "a1c": 87.5,
          "a2": 1241,
          "a3": 35.22782990761707
         },
         {
          "a0": "MZP2000",
          "a1": 100,
          "a1c": 112.5,
          "a2": 949,
          "a3": 30.805843601498726
         },
         {
          "a0": "MZP2000",
          "a1": 125,
          "a1c": 137.5,
          "a2": 808,
          "a3": 28.42534080710379
         },
         {
          "a0": "MZP2000",
          "a1": 150,
          "a1c": 162.5,
          "a2": 627,
          "a3": 25.03996805109783
         },
         {
          "a0": "MZP2000",
          "a1": 175,
          "a1c": 187.5,
          "a2": 554,
          "a3": 23.53720459187964
         },
         {
          "a0": "MZP2000",
          "a1": 200,
          "a1c": 212.5,
          "a2": 526,
          "a3": 22.93468988235943
         },
         {
          "a0": "MZP2000",
          "a1": 225,
          "a1c": 237.5,
          "a2": 418,
          "a3": 20.445048300260872
         },
         {
          "a0": "MZP2000",
          "a1": 250,
          "a1c": 262.5,
          "a2": 367,
          "a3": 19.157244060668017
         },
         {
          "a0": "MZP2000",
          "a1": 275,
          "a1c": 287.5,
          "a2": 362,
          "a3": 19.026297590440446
         },
         {
          "a0": "MZP2000",
          "a1": 300,
          "a1c": 312.5,
          "a2": 325,
          "a3": 18.027756377319946
         },
         {
          "a0": "MZP2000",
          "a1": 325,
          "a1c": 337.5,
          "a2": 270,
          "a3": 16.431676725154983
         },
         {
          "a0": "MZP2000",
          "a1": 350,
          "a1c": 362.5,
          "a2": 229,
          "a3": 15.132745950421556
         },
         {
          "a0": "MZP2000",
          "a1": 375,
          "a1c": 387.5,
          "a2": 183,
          "a3": 13.527749258468683
         },
         {
          "a0": "MZP2000",
          "a1": 400,
          "a1c": 412.5,
          "a2": 145,
          "a3": 12.041594578792296
         },
         {
          "a0": "MZP2000",
          "a1": 425,
          "a1c": 437.5,
          "a2": 127,
          "a3": 11.269427669584644
         },
         {
          "a0": "MZP2000",
          "a1": 450,
          "a1c": 462.5,
          "a2": 105,
          "a3": 10.246950765959598
         },
         {
          "a0": "MZP2000",
          "a1": 475,
          "a1c": 487.5,
          "a2": 119,
          "a3": 10.908712114635714
         },
         {
          "a0": "MZP2000",
          "a1": 500,
          "a1c": 500,
          "a2": 0,
          "a3": 0
         },
         {
          "a0": "MZP2500",
          "a1": 0,
          "a1c": 0,
          "a2": 0,
          "a3": 0
         },
         {
          "a0": "MZP2500",
          "a1": 5.0000000000000004e-08,
          "a1c": 12.5,
          "a2": 0,
          "a3": 0
         },
         {
          "a0": "MZP2500",
          "a1": 25,
          "a1c": 37.5,
          "a2": 430,
          "a3": 20.73644135332772
         },
         {
          "a0": "MZP2500",
          "a1": 50,
          "a1c": 62.5,
          "a2": 1023,
          "a3": 31.984371183438952
         },
         {
          "a0": "MZP2500",
          "a1": 75,
          "a1c": 87.5,
          "a2": 1041,
          "a3": 32.264531609803356
         },
         {
          "a0": "MZP2500",
          "a1": 100,
          "a1c": 112.5,
          "a2": 872,
          "a3": 29.5296461204668
         },
         {
          "a0": "MZP2500",
          "a1": 125,
          "a1c": 137.5,
          "a2": 708,
          "a3": 26.60826939130014
         },
         {
          "a0": "MZP2500",
          "a1": 150,
          "a1c": 162.5,
          "a2": 628,
          "a3": 25.059928172283335
         },
         {
          "a0": "MZP2500",
          "a1": 175,
          "a1c": 187.5,
          "a2": 594,
          "a3": 24.372115213907882
         },
         {
          "a0": "MZP2500",
          "a1": 200,
          "a1c": 212.5,
          "a2": 508,
          "a3": 22.538855339169288
         },
         {
          "a0": "MZP2500",
          "a1": 225,
          "a1c": 237.5,
          "a2": 430,
          "a3": 20.73644135332772
         },
         {
          "a0": "MZP2500",
          "a1": 250,
          "a1c": 262.5,
          "a2": 412,
          "a3": 20.29778313018444
         },
         {
          "a0": "MZP2500",
          "a1": 275,
          "a1c": 287.5,
          "a2": 351,
          "a3": 18.734993995195193
         },
         {
          "a0": "MZP2500",
          "a1": 300,
          "a1c": 312.5,
          "a2": 329,
          "a3": 18.138357147217054
         },
         {
          "a0": "MZP2500",
          "a1": 325,
          "a1c": 337.5,
          "a2": 266,
          "a3": 16.30950643030009
         },
         {
          "a0": "MZP2500",
          "a1": 350,
          "a1c": 362.5,
          "a2": 240,
          "a3": 15.491933384829668
         },
         {
          "a0": "MZP2500",
          "a1": 375,
          "a1c": 387.5,
          "a2": 192,
          "a3": 13.856406460551018
         },
         {
          "a0": "MZP2500",
          "a1": 400,
          "a1c": 412.5,
          "a2": 201,
          "a3": 14.177446878757825
         },
         {
          "a0": "MZP2500",
          "a1": 425,
          "a1c": 437.5,
          "a2": 170,
          "a3": 13.038404810405298
         },
         {
          "a0": "MZP2500",
          "a1": 450,
          "a1c": 462.5,
          "a2": 124,
          "a3": 11.135528725660043
         },
         {
          "a0": "MZP2500",
          "a1": 475,
          "a1c": 487.5,
          "a2": 134,
          "a3": 11.575836902790225
         },
         {
          "a0": "MZP2500",
          "a1": 500,
          "a1c": 500,
          "a2": 0,
          "a3": 0
         },
         {
          "a0": "MZP2500From1500",
          "a1": 0,
          "a1c": 0,
          "a2": 0,
          "a3": 0
         },
         {
          "a0": "MZP2500From1500",
          "a1": 5.0000000000000004e-08,
          "a1c": 12.5,
          "a2": 0,
          "a3": 0
         },
         {
          "a0": "MZP2500From1500",
          "a1": 25,
          "a1c": 37.5,
          "a2": 483.9904805212665,
          "a3": 20.501181753874935
         },
         {
          "a0": "MZP2500From1500",
          "a1": 50,
          "a1c": 62.5,
          "a2": 1050.340478017705,
          "a3": 30.42896477026713
         },
         {
          "a0": "MZP2500From1500",
          "a1": 75,
          "a1c": 87.5,
          "a2": 1121.9827021088086,
          "a3": 31.913253869772255
         },
         {
          "a0": "MZP2500From1500",
          "a1": 100,
          "a1c": 112.5,
          "a2": 875.9177512012628,
          "a3": 28.49059242287747
         },
         {
          "a0": "MZP2500From1500",
          "a1": 125,
          "a1c": 137.5,
          "a2": 1516.5810702208366,
          "a3": 538.0649128746859
         },
         {
          "a0": "MZP2500From1500",
          "a1": 150,
          "a1c": 162.5,
          "a2": 595.5808094029134,
          "a3": 23.84070037998404
         },
         {
          "a0": "MZP2500From1500",
          "a1": 175,
          "a1c": 187.5,
          "a2": 534.5735731475576,
          "a3": 22.78433761801329
         },
         {
          "a0": "MZP2500From1500",
          "a1": 200,
          "a1c": 212.5,
          "a2": 518.5683921604807,
          "a3": 22.684067188532023
         },
         {
          "a0": "MZP2500From1500",
          "a1": 225,
          "a1c": 237.5,
          "a2": 420.4547398239192,
          "a3": 20.65375814224234
         },
         {
          "a0": "MZP2500From1500",
          "a1": 250,
          "a1c": 262.5,
          "a2": 374.7935758298872,
          "a3": 19.646695747086767
         },
         {
          "a0": "MZP2500From1500",
          "a1": 275,
          "a1c": 287.5,
          "a2": 376.6027470084527,
          "a3": 19.988256815726242
         },
         {
          "a0": "MZP2500From1500",
          "a1": 300,
          "a1c": 312.5,
          "a2": 346.6131960901805,
          "a3": 19.33737703063411
         },
         {
          "a0": "MZP2500From1500",
          "a1": 325,
          "a1c": 337.5,
          "a2": 293.97159048289825,
          "a3": 17.998576959174862
         },
         {
          "a0": "MZP2500From1500",
          "a1": 350,
          "a1c": 362.5,
          "a2": 255.18997925505198,
          "a3": 16.96281200657856
         },
         {
          "a0": "MZP2500From1500",
          "a1": 375,
          "a1c": 387.5,
          "a2": 211.62215454597205,
          "a3": 15.894048992262698
         },
         {
          "a0": "MZP2500From1500",
          "a1": 400,
          "a1c": 412.5,
          "a2": 167.44215896227547,
          "a3": 14.011050152832533
         },
         {
          "a0": "MZP2500From1500",
          "a1": 425,
          "a1c": 437.5,
          "a2": 527.6431283338337,
          "a3": 380.2319058023819
         },
         {
          "a0": "MZP2500From1500",
          "a1": 450,
          "a1c": 462.5,
          "a2": 125.91522935924051,
          "a3": 12.37809118653714
         },
         {
          "a0": "MZP2500From1500",
          "a1": 475,
          "a1c": 487.5,
          "a2": 147.36786247635405,
          "a3": 13.725937994178608
         },
         {
          "a0": "MZP2500From1500",
          "a1": 500,
          "a1c": 500,
          "a2": 0,
          "a3": 0
         }
        ]
       },
       "layer": [
        {
         "encoding": {
          "color": {
           "field": "a0",
           "legend": {
            "title": "type"
           },
           "scale": {
            "domain": [
             "MZP2000",
             "MZP2500",
             "MZP2500From1500"
            ]
           },
           "type": "nominal"
          },
          "x": {
           "axis": {
            "title": "JET1PT"
           },
           "field": "a1",
           "scale": {
            "zero": false
           },
           "type": "quantitative"
          },
          "y": {
           "axis": {
            "title": "entries per bin"
           },
           "field": "a2",
           "type": "quantitative"
          }
         },
         "mark": {
          "clip": true,
          "interpolate": "step-before",
          "type": "line"
         },
         "transform": []
        },
        {
         "encoding": {
          "x": {
           "field": "a1c",
           "type": "quantitative"
          },
          "y": {
           "field": "error-down",
           "type": "quantitative"
          },
          "y2": {
           "field": "error-up",
           "type": "quantitative"
          }
         },
         "mark": "rule",
         "transform": [
          {
           "as": "error-down",
           "calculate": "datum.a2 - datum.a3"
          },
          {
           "as": "error-up",
           "calculate": "datum.a2 + datum.a3"
          }
         ]
        }
       ]
      },
      "image/png": "[encoded data removed]",
      "text/plain": [
       "Hist(groupby('type'), bin('JET1PT', 20, 0.0, 500.0), weight='w').overlay(groupby('type')).step(bin('JET1PT', 20, 0.0, 500.0)error=True)"
      ]
     },
     "execution_count": 16,
     "metadata": {},
     "output_type": "execute_result"
    }
   ],
   "source": [
    "variable = 'LeadingJetPt'\n",
    "histogram = Hist(bin(\"JET1PT\", 20, 0, 500), groupby('type'), weight=\"w\")\n",
    "histogram.fill(JET1PT=arr_MZp2p0[variable]*0.001, type=\"MZP2000\", w=np.ones(10000))\n",
    "histogram.fill(JET1PT=arr_MZp2p5[variable]*0.001, type=\"MZP2500\", w=np.ones(10000))\n",
    "histogram.fill(JET1PT=arr_MZp2p0[variable]*0.001, w=weights_MZp2000to2500, type=\"MZP2500From1500\")\n",
    "histogram.overlay(\"type\").step(\"JET1PT\", error=True)"
   ]
  },
  {
   "cell_type": "markdown",
   "metadata": {},
   "source": [
    "## JETPT1 based reweighting\n",
    "In addition to the reweighting strategy discussed above, a second strategy based on a reweighting in JETPT1 is presented."
   ]
  },
  {
   "cell_type": "markdown",
   "metadata": {},
   "source": [
    "### Reweighting from Z' mass of 1500 GeV to 2000 GeV \n",
    "Now we are trying to reweight the sample with Z' mass of 1500 GeV to Z' mass of 2000 GeV.\n",
    "\n",
    "We first plot the **MET** distributions (in GeV) for the 1500 \"start\" sample, the simulated 2000 \"target\" sample and the reweighted sample.\n",
    "\n",
    "While the reweighted **JETPT1** distribution looks similar to the simulated distribution (albeit there are some discrepancies), the reweighted **MET** distribution does not agree at all."
   ]
  },
  {
   "cell_type": "code",
   "execution_count": 17,
   "metadata": {},
   "outputs": [],
   "source": [
    "weights_MZp1500to2000 = np.array([getSF(m_reweight_MZp_1p5_to_2p0, 'hJet1Pt_SF', value) for value in arr_MZp1p5['LeadingJetPt']*0.001])"
   ]
  },
  {
   "cell_type": "code",
   "execution_count": 18,
   "metadata": {},
   "outputs": [
    {
     "data": {
      "application/vnd.vegalite.v2+json": {
       "$schema": "https://vega.github.io/schema/vega-lite/v2.json",
       "data": {
        "values": [
         {
          "a0": "MZP1500",
          "a1": 0,
          "a1c": 0,
          "a2": 0,
          "a3": 0
         },
         {
          "a0": "MZP1500",
          "a1": 1.0000000000000001e-07,
          "a1c": 25,
          "a2": 471,
          "a3": 21.702534414210707
         },
         {
          "a0": "MZP1500",
          "a1": 50,
          "a1c": 75,
          "a2": 1272,
          "a3": 35.66510900025401
         },
         {
          "a0": "MZP1500",
          "a1": 100,
          "a1c": 125,
          "a2": 1476,
          "a3": 38.41874542459709
         },
         {
          "a0": "MZP1500",
          "a1": 150,
          "a1c": 175,
          "a2": 1534,
          "a3": 39.16631205513228
         },
         {
          "a0": "MZP1500",
          "a1": 200,
          "a1c": 225,
          "a2": 1279,
          "a3": 35.76310948449533
         },
         {
          "a0": "MZP1500",
          "a1": 250,
          "a1c": 275,
          "a2": 986,
          "a3": 31.400636936215164
         },
         {
          "a0": "MZP1500",
          "a1": 300,
          "a1c": 325,
          "a2": 817,
          "a3": 28.583211855912904
         },
         {
          "a0": "MZP1500",
          "a1": 350,
          "a1c": 375,
          "a2": 610,
          "a3": 24.698178070456937
         },
         {
          "a0": "MZP1500",
          "a1": 400,
          "a1c": 425,
          "a2": 454,
          "a3": 21.307275752662516
         },
         {
          "a0": "MZP1500",
          "a1": 450,
          "a1c": 475,
          "a2": 323,
          "a3": 17.97220075561143
         },
         {
          "a0": "MZP1500",
          "a1": 500,
          "a1c": 525,
          "a2": 241,
          "a3": 15.524174696260024
         },
         {
          "a0": "MZP1500",
          "a1": 550,
          "a1c": 575,
          "a2": 167,
          "a3": 12.922847983320086
         },
         {
          "a0": "MZP1500",
          "a1": 600,
          "a1c": 625,
          "a2": 118,
          "a3": 10.862780491200215
         },
         {
          "a0": "MZP1500",
          "a1": 650,
          "a1c": 675,
          "a2": 72,
          "a3": 8.48528137423857
         },
         {
          "a0": "MZP1500",
          "a1": 700,
          "a1c": 725,
          "a2": 43,
          "a3": 6.557438524302
         },
         {
          "a0": "MZP1500",
          "a1": 750,
          "a1c": 775,
          "a2": 36,
          "a3": 6
         },
         {
          "a0": "MZP1500",
          "a1": 800,
          "a1c": 825,
          "a2": 21,
          "a3": 4.58257569495584
         },
         {
          "a0": "MZP1500",
          "a1": 850,
          "a1c": 875,
          "a2": 26,
          "a3": 5.0990195135927845
         },
         {
          "a0": "MZP1500",
          "a1": 900,
          "a1c": 925,
          "a2": 10,
          "a3": 3.1622776601683795
         },
         {
          "a0": "MZP1500",
          "a1": 950,
          "a1c": 975,
          "a2": 12,
          "a3": 3.4641016151377544
         },
         {
          "a0": "MZP1500",
          "a1": 1000,
          "a1c": 1000,
          "a2": 0,
          "a3": 0
         },
         {
          "a0": "MZP2000",
          "a1": 0,
          "a1c": 0,
          "a2": 0,
          "a3": 0
         },
         {
          "a0": "MZP2000",
          "a1": 1.0000000000000001e-07,
          "a1c": 25,
          "a2": 401,
          "a3": 20.024984394500787
         },
         {
          "a0": "MZP2000",
          "a1": 50,
          "a1c": 75,
          "a2": 1012,
          "a3": 31.811947441173732
         },
         {
          "a0": "MZP2000",
          "a1": 100,
          "a1c": 125,
          "a2": 1246,
          "a3": 35.298725189445584
         },
         {
          "a0": "MZP2000",
          "a1": 150,
          "a1c": 175,
          "a2": 1270,
          "a3": 35.63705936241092
         },
         {
          "a0": "MZP2000",
          "a1": 200,
          "a1c": 225,
          "a2": 1206,
          "a3": 34.72751070837067
         },
         {
          "a0": "MZP2000",
          "a1": 250,
          "a1c": 275,
          "a2": 954,
          "a3": 30.886890422961002
         },
         {
          "a0": "MZP2000",
          "a1": 300,
          "a1c": 325,
          "a2": 846,
          "a3": 29.086079144497972
         },
         {
          "a0": "MZP2000",
          "a1": 350,
          "a1c": 375,
          "a2": 664,
          "a3": 25.768197453450252
         },
         {
          "a0": "MZP2000",
          "a1": 400,
          "a1c": 425,
          "a2": 569,
          "a3": 23.853720883753127
         },
         {
          "a0": "MZP2000",
          "a1": 450,
          "a1c": 475,
          "a2": 409,
          "a3": 20.223748416156685
         },
         {
          "a0": "MZP2000",
          "a1": 500,
          "a1c": 525,
          "a2": 331,
          "a3": 18.193405398660254
         },
         {
          "a0": "MZP2000",
          "a1": 550,
          "a1c": 575,
          "a2": 270,
          "a3": 16.431676725154983
         },
         {
          "a0": "MZP2000",
          "a1": 600,
          "a1c": 625,
          "a2": 211,
          "a3": 14.52583904633395
         },
         {
          "a0": "MZP2000",
          "a1": 650,
          "a1c": 675,
          "a2": 166,
          "a3": 12.884098726725126
         },
         {
          "a0": "MZP2000",
          "a1": 700,
          "a1c": 725,
          "a2": 114,
          "a3": 10.677078252031311
         },
         {
          "a0": "MZP2000",
          "a1": 750,
          "a1c": 775,
          "a2": 88,
          "a3": 9.38083151964686
         },
         {
          "a0": "MZP2000",
          "a1": 800,
          "a1c": 825,
          "a2": 73,
          "a3": 8.54400374531753
         },
         {
          "a0": "MZP2000",
          "a1": 850,
          "a1c": 875,
          "a2": 43,
          "a3": 6.557438524302
         },
         {
          "a0": "MZP2000",
          "a1": 900,
          "a1c": 925,
          "a2": 38,
          "a3": 6.164414002968976
         },
         {
          "a0": "MZP2000",
          "a1": 950,
          "a1c": 975,
          "a2": 17,
          "a3": 4.123105625617661
         },
         {
          "a0": "MZP2000",
          "a1": 1000,
          "a1c": 1000,
          "a2": 0,
          "a3": 0
         },
         {
          "a0": "MZP2000From1500",
          "a1": 0,
          "a1c": 0,
          "a2": 0,
          "a3": 0
         },
         {
          "a0": "MZP2000From1500",
          "a1": 1.0000000000000001e-07,
          "a1c": 25,
          "a2": 420.04581188041857,
          "a3": 19.851857559007332
         },
         {
          "a0": "MZP2000From1500",
          "a1": 50,
          "a1c": 75,
          "a2": 1291.2362532573466,
          "a3": 171.01742065323916
         },
         {
          "a0": "MZP2000From1500",
          "a1": 100,
          "a1c": 125,
          "a2": 1374.8729652004067,
          "a3": 36.434046425795756
         },
         {
          "a0": "MZP2000From1500",
          "a1": 150,
          "a1c": 175,
          "a2": 2220.404249211042,
          "a3": 338.4897405837322
         },
         {
          "a0": "MZP2000From1500",
          "a1": 200,
          "a1c": 225,
          "a2": 2263.7423913936072,
          "a3": 377.97160068270415
         },
         {
          "a0": "MZP2000From1500",
          "a1": 250,
          "a1c": 275,
          "a2": 2080.3664327179767,
          "a3": 377.9423171741635
         },
         {
          "a0": "MZP2000From1500",
          "a1": 300,
          "a1c": 325,
          "a2": 1876.5978035713633,
          "a3": 338.9868061272474
         },
         {
          "a0": "MZP2000From1500",
          "a1": 350,
          "a1c": 375,
          "a2": 1921.045359768877,
          "a3": 378.58341010613424
         },
         {
          "a0": "MZP2000From1500",
          "a1": 400,
          "a1c": 425,
          "a2": 4579.129717947783,
          "a3": 789.296434870522
         },
         {
          "a0": "MZP2000From1500",
          "a1": 450,
          "a1c": 475,
          "a2": 5512.954050565294,
          "a3": 905.5651183764829
         },
         {
          "a0": "MZP2000From1500",
          "a1": 500,
          "a1c": 525,
          "a2": 6177.713779124962,
          "a3": 980.1826339264901
         },
         {
          "a0": "MZP2000From1500",
          "a1": 550,
          "a1c": 575,
          "a2": 9007.388913464716,
          "a3": 1211.7583238545526
         },
         {
          "a0": "MZP2000From1500",
          "a1": 600,
          "a1c": 625,
          "a2": 11197.152071408455,
          "a3": 1364.932413404749
         },
         {
          "a0": "MZP2000From1500",
          "a1": 650,
          "a1c": 675,
          "a2": 8120.36483258229,
          "a3": 1163.9996826884858
         },
         {
          "a0": "MZP2000From1500",
          "a1": 700,
          "a1c": 725,
          "a2": 5237.343462546919,
          "a3": 935.4266050320671
         },
         {
          "a0": "MZP2000From1500",
          "a1": 750,
          "a1c": 775,
          "a2": 4390.586925324893,
          "a3": 856.6717506441413
         },
         {
          "a0": "MZP2000From1500",
          "a1": 800,
          "a1c": 825,
          "a2": 2697.4407961687843,
          "a3": 672.0140508094113
         },
         {
          "a0": "MZP2000From1500",
          "a1": 850,
          "a1c": 875,
          "a2": 4035.5618040699524,
          "a3": 823.0334001501327
         },
         {
          "a0": "MZP2000From1500",
          "a1": 900,
          "a1c": 925,
          "a2": 1514.5757575757575,
          "a3": 504.00658182913554
         },
         {
          "a0": "MZP2000From1500",
          "a1": 950,
          "a1c": 975,
          "a2": 2016,
          "a3": 581.9690713431428
         },
         {
          "a0": "MZP2000From1500",
          "a1": 1000,
          "a1c": 1000,
          "a2": 0,
          "a3": 0
         }
        ]
       },
       "layer": [
        {
         "encoding": {
          "color": {
           "field": "a0",
           "legend": {
            "title": "type"
           },
           "scale": {
            "domain": [
             "MZP1500",
             "MZP2000",
             "MZP2000From1500"
            ]
           },
           "type": "nominal"
          },
          "x": {
           "axis": {
            "title": "MET"
           },
           "field": "a1",
           "scale": {
            "zero": false
           },
           "type": "quantitative"
          },
          "y": {
           "axis": {
            "title": "entries per bin"
           },
           "field": "a2",
           "type": "quantitative"
          }
         },
         "mark": {
          "clip": true,
          "interpolate": "step-before",
          "type": "line"
         },
         "transform": []
        },
        {
         "encoding": {
          "x": {
           "field": "a1c",
           "type": "quantitative"
          },
          "y": {
           "field": "error-down",
           "type": "quantitative"
          },
          "y2": {
           "field": "error-up",
           "type": "quantitative"
          }
         },
         "mark": "rule",
         "transform": [
          {
           "as": "error-down",
           "calculate": "datum.a2 - datum.a3"
          },
          {
           "as": "error-up",
           "calculate": "datum.a2 + datum.a3"
          }
         ]
        }
       ]
      },
      "image/png": "[encoded data removed]",
      "text/plain": [
       "Hist(groupby('type'), bin('MET', 20, 0.0, 1000.0), weight='w').overlay(groupby('type')).step(bin('MET', 20, 0.0, 1000.0)error=True)"
      ]
     },
     "execution_count": 18,
     "metadata": {},
     "output_type": "execute_result"
    }
   ],
   "source": [
    "variable = 'TruthMET_met'\n",
    "histogram = Hist(bin(\"MET\", 20, 0, 1000), groupby('type'), weight=\"w\")\n",
    "histogram.fill(MET=arr_MZp1p5[variable]*0.001, type=\"MZP1500\", w=np.ones(10000))\n",
    "histogram.fill(MET=arr_MZp2p0[variable]*0.001, type=\"MZP2000\", w=np.ones(10000))\n",
    "histogram.fill(MET=arr_MZp1p5[variable]*0.001, w=weights_MZp1500to2000, type=\"MZP2000From1500\")\n",
    "histogram.overlay(\"type\").step(\"MET\", error=True)"
   ]
  },
  {
   "cell_type": "code",
   "execution_count": 19,
   "metadata": {},
   "outputs": [
    {
     "data": {
      "application/vnd.vegalite.v2+json": {
       "$schema": "https://vega.github.io/schema/vega-lite/v2.json",
       "data": {
        "values": [
         {
          "a0": "MZP1500",
          "a1": 0,
          "a1c": 0,
          "a2": 0,
          "a3": 0
         },
         {
          "a0": "MZP1500",
          "a1": 5.0000000000000004e-08,
          "a1c": 12.5,
          "a2": 0,
          "a3": 0
         },
         {
          "a0": "MZP1500",
          "a1": 25,
          "a1c": 37.5,
          "a2": 659,
          "a3": 25.67099530598687
         },
         {
          "a0": "MZP1500",
          "a1": 50,
          "a1c": 62.5,
          "a2": 1518,
          "a3": 38.961519477556315
         },
         {
          "a0": "MZP1500",
          "a1": 75,
          "a1c": 87.5,
          "a2": 1386,
          "a3": 37.22902093797257
         },
         {
          "a0": "MZP1500",
          "a1": 100,
          "a1c": 112.5,
          "a2": 1074,
          "a3": 32.77193921634788
         },
         {
          "a0": "MZP1500",
          "a1": 125,
          "a1c": 137.5,
          "a2": 828,
          "a3": 28.77498913987632
         },
         {
          "a0": "MZP1500",
          "a1": 150,
          "a1c": 162.5,
          "a2": 710,
          "a3": 26.645825188948457
         },
         {
          "a0": "MZP1500",
          "a1": 175,
          "a1c": 187.5,
          "a2": 558,
          "a3": 23.62202362203543
         },
         {
          "a0": "MZP1500",
          "a1": 200,
          "a1c": 212.5,
          "a2": 504,
          "a3": 22.44994432064365
         },
         {
          "a0": "MZP1500",
          "a1": 225,
          "a1c": 237.5,
          "a2": 401,
          "a3": 20.024984394500787
         },
         {
          "a0": "MZP1500",
          "a1": 250,
          "a1c": 262.5,
          "a2": 400,
          "a3": 20
         },
         {
          "a0": "MZP1500",
          "a1": 275,
          "a1c": 287.5,
          "a2": 305,
          "a3": 17.46424919657298
         },
         {
          "a0": "MZP1500",
          "a1": 300,
          "a1c": 312.5,
          "a2": 282,
          "a3": 16.792855623746664
         },
         {
          "a0": "MZP1500",
          "a1": 325,
          "a1c": 337.5,
          "a2": 224,
          "a3": 14.966629547095765
         },
         {
          "a0": "MZP1500",
          "a1": 350,
          "a1c": 362.5,
          "a2": 166,
          "a3": 12.884098726725126
         },
         {
          "a0": "MZP1500",
          "a1": 375,
          "a1c": 387.5,
          "a2": 138,
          "a3": 11.74734012447073
         },
         {
          "a0": "MZP1500",
          "a1": 400,
          "a1c": 412.5,
          "a2": 124,
          "a3": 11.135528725660043
         },
         {
          "a0": "MZP1500",
          "a1": 425,
          "a1c": 437.5,
          "a2": 86,
          "a3": 9.273618495495704
         },
         {
          "a0": "MZP1500",
          "a1": 450,
          "a1c": 462.5,
          "a2": 67,
          "a3": 8.18535277187245
         },
         {
          "a0": "MZP1500",
          "a1": 475,
          "a1c": 487.5,
          "a2": 90,
          "a3": 9.486832980505138
         },
         {
          "a0": "MZP1500",
          "a1": 500,
          "a1c": 500,
          "a2": 0,
          "a3": 0
         },
         {
          "a0": "MZP2500",
          "a1": 0,
          "a1c": 0,
          "a2": 0,
          "a3": 0
         },
         {
          "a0": "MZP2500",
          "a1": 5.0000000000000004e-08,
          "a1c": 12.5,
          "a2": 0,
          "a3": 0
         },
         {
          "a0": "MZP2500",
          "a1": 25,
          "a1c": 37.5,
          "a2": 430,
          "a3": 20.73644135332772
         },
         {
          "a0": "MZP2500",
          "a1": 50,
          "a1c": 62.5,
          "a2": 1023,
          "a3": 31.984371183438952
         },
         {
          "a0": "MZP2500",
          "a1": 75,
          "a1c": 87.5,
          "a2": 1041,
          "a3": 32.264531609803356
         },
         {
          "a0": "MZP2500",
          "a1": 100,
          "a1c": 112.5,
          "a2": 872,
          "a3": 29.5296461204668
         },
         {
          "a0": "MZP2500",
          "a1": 125,
          "a1c": 137.5,
          "a2": 708,
          "a3": 26.60826939130014
         },
         {
          "a0": "MZP2500",
          "a1": 150,
          "a1c": 162.5,
          "a2": 628,
          "a3": 25.059928172283335
         },
         {
          "a0": "MZP2500",
          "a1": 175,
          "a1c": 187.5,
          "a2": 594,
          "a3": 24.372115213907882
         },
         {
          "a0": "MZP2500",
          "a1": 200,
          "a1c": 212.5,
          "a2": 508,
          "a3": 22.538855339169288
         },
         {
          "a0": "MZP2500",
          "a1": 225,
          "a1c": 237.5,
          "a2": 430,
          "a3": 20.73644135332772
         },
         {
          "a0": "MZP2500",
          "a1": 250,
          "a1c": 262.5,
          "a2": 412,
          "a3": 20.29778313018444
         },
         {
          "a0": "MZP2500",
          "a1": 275,
          "a1c": 287.5,
          "a2": 351,
          "a3": 18.734993995195193
         },
         {
          "a0": "MZP2500",
          "a1": 300,
          "a1c": 312.5,
          "a2": 329,
          "a3": 18.138357147217054
         },
         {
          "a0": "MZP2500",
          "a1": 325,
          "a1c": 337.5,
          "a2": 266,
          "a3": 16.30950643030009
         },
         {
          "a0": "MZP2500",
          "a1": 350,
          "a1c": 362.5,
          "a2": 240,
          "a3": 15.491933384829668
         },
         {
          "a0": "MZP2500",
          "a1": 375,
          "a1c": 387.5,
          "a2": 192,
          "a3": 13.856406460551018
         },
         {
          "a0": "MZP2500",
          "a1": 400,
          "a1c": 412.5,
          "a2": 201,
          "a3": 14.177446878757825
         },
         {
          "a0": "MZP2500",
          "a1": 425,
          "a1c": 437.5,
          "a2": 170,
          "a3": 13.038404810405298
         },
         {
          "a0": "MZP2500",
          "a1": 450,
          "a1c": 462.5,
          "a2": 124,
          "a3": 11.135528725660043
         },
         {
          "a0": "MZP2500",
          "a1": 475,
          "a1c": 487.5,
          "a2": 134,
          "a3": 11.575836902790225
         },
         {
          "a0": "MZP2500",
          "a1": 500,
          "a1c": 500,
          "a2": 0,
          "a3": 0
         },
         {
          "a0": "MZP2500From1500",
          "a1": 0,
          "a1c": 0,
          "a2": 0,
          "a3": 0
         },
         {
          "a0": "MZP2500From1500",
          "a1": 5.0000000000000004e-08,
          "a1c": 12.5,
          "a2": 0,
          "a3": 0
         },
         {
          "a0": "MZP2500From1500",
          "a1": 25,
          "a1c": 37.5,
          "a2": 467.4425694495415,
          "a3": 19.05079403470881
         },
         {
          "a0": "MZP2500From1500",
          "a1": 50,
          "a1c": 62.5,
          "a2": 1149.1132897590064,
          "a3": 30.767803217783236
         },
         {
          "a0": "MZP2500From1500",
          "a1": 75,
          "a1c": 87.5,
          "a2": 1357.034397197894,
          "a3": 249.81026363911195
         },
         {
          "a0": "MZP2500From1500",
          "a1": 100,
          "a1c": 112.5,
          "a2": 909.9978300838371,
          "a3": 28.025988328623086
         },
         {
          "a0": "MZP2500From1500",
          "a1": 125,
          "a1c": 137.5,
          "a2": 732.5044150413214,
          "a3": 25.870204237943526
         },
         {
          "a0": "MZP2500From1500",
          "a1": 150,
          "a1c": 162.5,
          "a2": 660.5342311586483,
          "a3": 25.610416289235808
         },
         {
          "a0": "MZP2500From1500",
          "a1": 175,
          "a1c": 187.5,
          "a2": 531.0077367813659,
          "a3": 22.878801893440624
         },
         {
          "a0": "MZP2500From1500",
          "a1": 200,
          "a1c": 212.5,
          "a2": 501.15433712393866,
          "a3": 22.733620627049195
         },
         {
          "a0": "MZP2500From1500",
          "a1": 225,
          "a1c": 237.5,
          "a2": 419.5952776054574,
          "a3": 21.432371436965774
         },
         {
          "a0": "MZP2500From1500",
          "a1": 250,
          "a1c": 262.5,
          "a2": 453.876317676975,
          "a3": 23.829941132540576
         },
         {
          "a0": "MZP2500From1500",
          "a1": 275,
          "a1c": 287.5,
          "a2": 376.2980134571642,
          "a3": 23.796074083133835
         },
         {
          "a0": "MZP2500From1500",
          "a1": 300,
          "a1c": 312.5,
          "a2": 362.99449599783344,
          "a3": 23.616826625962908
         },
         {
          "a0": "MZP2500From1500",
          "a1": 325,
          "a1c": 337.5,
          "a2": 317.9260712953135,
          "a3": 23.135699325257992
         },
         {
          "a0": "MZP2500From1500",
          "a1": 350,
          "a1c": 362.5,
          "a2": 243.2267662748244,
          "a3": 21.106087308689546
         },
         {
          "a0": "MZP2500From1500",
          "a1": 375,
          "a1c": 387.5,
          "a2": 214.65959541766168,
          "a3": 20.53950538726099
         },
         {
          "a0": "MZP2500From1500",
          "a1": 400,
          "a1c": 412.5,
          "a2": 208.58763383977308,
          "a3": 20.916927746936015
         },
         {
          "a0": "MZP2500From1500",
          "a1": 425,
          "a1c": 437.5,
          "a2": 153.22315228200355,
          "a3": 19.97245486788274
         },
         {
          "a0": "MZP2500From1500",
          "a1": 450,
          "a1c": 462.5,
          "a2": 113.91598027561142,
          "a3": 14.975155308159588
         },
         {
          "a0": "MZP2500From1500",
          "a1": 475,
          "a1c": 487.5,
          "a2": 171.9904126032768,
          "a3": 20.373211243189953
         },
         {
          "a0": "MZP2500From1500",
          "a1": 500,
          "a1c": 500,
          "a2": 0,
          "a3": 0
         }
        ]
       },
       "layer": [
        {
         "encoding": {
          "color": {
           "field": "a0",
           "legend": {
            "title": "type"
           },
           "scale": {
            "domain": [
             "MZP1500",
             "MZP2500",
             "MZP2500From1500"
            ]
           },
           "type": "nominal"
          },
          "x": {
           "axis": {
            "title": "JET1PT"
           },
           "field": "a1",
           "scale": {
            "zero": false
           },
           "type": "quantitative"
          },
          "y": {
           "axis": {
            "title": "entries per bin"
           },
           "field": "a2",
           "type": "quantitative"
          }
         },
         "mark": {
          "clip": true,
          "interpolate": "step-before",
          "type": "line"
         },
         "transform": []
        },
        {
         "encoding": {
          "x": {
           "field": "a1c",
           "type": "quantitative"
          },
          "y": {
           "field": "error-down",
           "type": "quantitative"
          },
          "y2": {
           "field": "error-up",
           "type": "quantitative"
          }
         },
         "mark": "rule",
         "transform": [
          {
           "as": "error-down",
           "calculate": "datum.a2 - datum.a3"
          },
          {
           "as": "error-up",
           "calculate": "datum.a2 + datum.a3"
          }
         ]
        }
       ]
      },
      "image/png": "[encoded data removed]",
      "text/plain": [
       "Hist(groupby('type'), bin('JET1PT', 20, 0.0, 500.0), weight='w').overlay(groupby('type')).step(bin('JET1PT', 20, 0.0, 500.0)error=True)"
      ]
     },
     "execution_count": 19,
     "metadata": {},
     "output_type": "execute_result"
    }
   ],
   "source": [
    "variable = 'LeadingJetPt'\n",
    "histogram = Hist(bin(\"JET1PT\", 20, 0, 500), groupby('type'), weight=\"w\")\n",
    "histogram.fill(JET1PT=arr_MZp1p5[variable]*0.001, type=\"MZP1500\", w=np.ones(10000))\n",
    "histogram.fill(JET1PT=arr_MZp2p5[variable]*0.001, type=\"MZP2500\", w=np.ones(10000))\n",
    "histogram.fill(JET1PT=arr_MZp1p5[variable]*0.001, w=weights_MZp1500to2500, type=\"MZP2500From1500\")\n",
    "histogram.overlay(\"type\").step(\"JET1PT\", error=True)"
   ]
  },
  {
   "cell_type": "markdown",
   "metadata": {},
   "source": [
    "### Reweighting from Z' mass of 1500 GeV to 2500 GeV \n",
    "Now we are trying to reweight the sample with Z' mass of 1500 GeV to Z' mass of 2500 GeV.\n",
    "\n",
    "As above we first plot the **MET** distributions (in GeV) for the 1500 \"start\" sample, the simulated 2500 \"target\" sample and the reweighted sample. \n",
    "\n",
    "Both in the reweighted **MET** and the reweighted **JETPT1** distributions there are strong differences to the simulated distributions."
   ]
  },
  {
   "cell_type": "code",
   "execution_count": 20,
   "metadata": {},
   "outputs": [],
   "source": [
    "weights_MZp1500to2500 = np.array([getSF(m_reweight_MZp_1p5_to_2p5, 'hJet1Pt_SF', value) for value in arr_MZp1p5['LeadingJetPt']*0.001])"
   ]
  },
  {
   "cell_type": "code",
   "execution_count": 21,
   "metadata": {},
   "outputs": [
    {
     "data": {
      "application/vnd.vegalite.v2+json": {
       "$schema": "https://vega.github.io/schema/vega-lite/v2.json",
       "data": {
        "values": [
         {
          "a0": "MZP1500",
          "a1": 0,
          "a1c": 0,
          "a2": 0,
          "a3": 0
         },
         {
          "a0": "MZP1500",
          "a1": 1.0000000000000001e-07,
          "a1c": 25,
          "a2": 471,
          "a3": 21.702534414210707
         },
         {
          "a0": "MZP1500",
          "a1": 50,
          "a1c": 75,
          "a2": 1272,
          "a3": 35.66510900025401
         },
         {
          "a0": "MZP1500",
          "a1": 100,
          "a1c": 125,
          "a2": 1476,
          "a3": 38.41874542459709
         },
         {
          "a0": "MZP1500",
          "a1": 150,
          "a1c": 175,
          "a2": 1534,
          "a3": 39.16631205513228
         },
         {
          "a0": "MZP1500",
          "a1": 200,
          "a1c": 225,
          "a2": 1279,
          "a3": 35.76310948449533
         },
         {
          "a0": "MZP1500",
          "a1": 250,
          "a1c": 275,
          "a2": 986,
          "a3": 31.400636936215164
         },
         {
          "a0": "MZP1500",
          "a1": 300,
          "a1c": 325,
          "a2": 817,
          "a3": 28.583211855912904
         },
         {
          "a0": "MZP1500",
          "a1": 350,
          "a1c": 375,
          "a2": 610,
          "a3": 24.698178070456937
         },
         {
          "a0": "MZP1500",
          "a1": 400,
          "a1c": 425,
          "a2": 454,
          "a3": 21.307275752662516
         },
         {
          "a0": "MZP1500",
          "a1": 450,
          "a1c": 475,
          "a2": 323,
          "a3": 17.97220075561143
         },
         {
          "a0": "MZP1500",
          "a1": 500,
          "a1c": 525,
          "a2": 241,
          "a3": 15.524174696260024
         },
         {
          "a0": "MZP1500",
          "a1": 550,
          "a1c": 575,
          "a2": 167,
          "a3": 12.922847983320086
         },
         {
          "a0": "MZP1500",
          "a1": 600,
          "a1c": 625,
          "a2": 118,
          "a3": 10.862780491200215
         },
         {
          "a0": "MZP1500",
          "a1": 650,
          "a1c": 675,
          "a2": 72,
          "a3": 8.48528137423857
         },
         {
          "a0": "MZP1500",
          "a1": 700,
          "a1c": 725,
          "a2": 43,
          "a3": 6.557438524302
         },
         {
          "a0": "MZP1500",
          "a1": 750,
          "a1c": 775,
          "a2": 36,
          "a3": 6
         },
         {
          "a0": "MZP1500",
          "a1": 800,
          "a1c": 825,
          "a2": 21,
          "a3": 4.58257569495584
         },
         {
          "a0": "MZP1500",
          "a1": 850,
          "a1c": 875,
          "a2": 26,
          "a3": 5.0990195135927845
         },
         {
          "a0": "MZP1500",
          "a1": 900,
          "a1c": 925,
          "a2": 10,
          "a3": 3.1622776601683795
         },
         {
          "a0": "MZP1500",
          "a1": 950,
          "a1c": 975,
          "a2": 12,
          "a3": 3.4641016151377544
         },
         {
          "a0": "MZP1500",
          "a1": 1000,
          "a1c": 1000,
          "a2": 0,
          "a3": 0
         },
         {
          "a0": "MZP2500",
          "a1": 0,
          "a1c": 0,
          "a2": 0,
          "a3": 0
         },
         {
          "a0": "MZP2500",
          "a1": 1.0000000000000001e-07,
          "a1c": 25,
          "a2": 310,
          "a3": 17.60681686165901
         },
         {
          "a0": "MZP2500",
          "a1": 50,
          "a1c": 75,
          "a2": 817,
          "a3": 28.583211855912904
         },
         {
          "a0": "MZP2500",
          "a1": 100,
          "a1c": 125,
          "a2": 1101,
          "a3": 33.18132004607411
         },
         {
          "a0": "MZP2500",
          "a1": 150,
          "a1c": 175,
          "a2": 1165,
          "a3": 34.132096331752024
         },
         {
          "a0": "MZP2500",
          "a1": 200,
          "a1c": 225,
          "a2": 1073,
          "a3": 32.7566787083184
         },
         {
          "a0": "MZP2500",
          "a1": 250,
          "a1c": 275,
          "a2": 929,
          "a3": 30.479501308256342
         },
         {
          "a0": "MZP2500",
          "a1": 300,
          "a1c": 325,
          "a2": 788,
          "a3": 28.071337695236398
         },
         {
          "a0": "MZP2500",
          "a1": 350,
          "a1c": 375,
          "a2": 646,
          "a3": 25.41653005427767
         },
         {
          "a0": "MZP2500",
          "a1": 400,
          "a1c": 425,
          "a2": 612,
          "a3": 24.73863375370596
         },
         {
          "a0": "MZP2500",
          "a1": 450,
          "a1c": 475,
          "a2": 498,
          "a3": 22.315913604421397
         },
         {
          "a0": "MZP2500",
          "a1": 500,
          "a1c": 525,
          "a2": 393,
          "a3": 19.82422760159901
         },
         {
          "a0": "MZP2500",
          "a1": 550,
          "a1c": 575,
          "a2": 339,
          "a3": 18.411952639521967
         },
         {
          "a0": "MZP2500",
          "a1": 600,
          "a1c": 625,
          "a2": 277,
          "a3": 16.64331697709324
         },
         {
          "a0": "MZP2500",
          "a1": 650,
          "a1c": 675,
          "a2": 218,
          "a3": 14.7648230602334
         },
         {
          "a0": "MZP2500",
          "a1": 700,
          "a1c": 725,
          "a2": 167,
          "a3": 12.922847983320086
         },
         {
          "a0": "MZP2500",
          "a1": 750,
          "a1c": 775,
          "a2": 146,
          "a3": 12.083045973594572
         },
         {
          "a0": "MZP2500",
          "a1": 800,
          "a1c": 825,
          "a2": 117,
          "a3": 10.816653826391969
         },
         {
          "a0": "MZP2500",
          "a1": 850,
          "a1c": 875,
          "a2": 88,
          "a3": 9.38083151964686
         },
         {
          "a0": "MZP2500",
          "a1": 900,
          "a1c": 925,
          "a2": 79,
          "a3": 8.888194417315589
         },
         {
          "a0": "MZP2500",
          "a1": 950,
          "a1c": 975,
          "a2": 66,
          "a3": 8.12403840463596
         },
         {
          "a0": "MZP2500",
          "a1": 1000,
          "a1c": 1000,
          "a2": 0,
          "a3": 0
         },
         {
          "a0": "MZP2500From1500",
          "a1": 0,
          "a1c": 0,
          "a2": 0,
          "a3": 0
         },
         {
          "a0": "MZP2500From1500",
          "a1": 1.0000000000000001e-07,
          "a1c": 25,
          "a2": 384.55320318860566,
          "a3": 19.817294295030283
         },
         {
          "a0": "MZP2500From1500",
          "a1": 50,
          "a1c": 75,
          "a2": 1177.6902137066372,
          "a3": 170.6302612787433
         },
         {
          "a0": "MZP2500From1500",
          "a1": 100,
          "a1c": 125,
          "a2": 1292.9581617835165,
          "a3": 38.162122161822495
         },
         {
          "a0": "MZP2500From1500",
          "a1": 150,
          "a1c": 175,
          "a2": 2233.2465560697556,
          "a3": 339.2963919031619
         },
         {
          "a0": "MZP2500From1500",
          "a1": 200,
          "a1c": 225,
          "a2": 2358.875333834301,
          "a3": 378.82840280451535
         },
         {
          "a0": "MZP2500From1500",
          "a1": 250,
          "a1c": 275,
          "a2": 2286.386305524218,
          "a3": 379.62673005205335
         },
         {
          "a0": "MZP2500From1500",
          "a1": 300,
          "a1c": 325,
          "a2": 2212.331750667373,
          "a3": 342.14729654541594
         },
         {
          "a0": "MZP2500From1500",
          "a1": 350,
          "a1c": 375,
          "a2": 2368.9410623041426,
          "a3": 382.7918668881004
         },
         {
          "a0": "MZP2500From1500",
          "a1": 400,
          "a1c": 425,
          "a2": 5078.274749487819,
          "a3": 791.9562301002666
         },
         {
          "a0": "MZP2500From1500",
          "a1": 450,
          "a1c": 475,
          "a2": 5976.10872159878,
          "a3": 907.7869453760621
         },
         {
          "a0": "MZP2500From1500",
          "a1": 500,
          "a1c": 525,
          "a2": 6599.770405763175,
          "a3": 982.0317613626714
         },
         {
          "a0": "MZP2500From1500",
          "a1": 550,
          "a1c": 575,
          "a2": 9272.822735005779,
          "a3": 1212.8827260990922
         },
         {
          "a0": "MZP2500From1500",
          "a1": 600,
          "a1c": 625,
          "a2": 11301.749191985848,
          "a3": 1365.2725547877355
         },
         {
          "a0": "MZP2500From1500",
          "a1": 650,
          "a1c": 675,
          "a2": 8171.287308981095,
          "a3": 1164.1639383040342
         },
         {
          "a0": "MZP2500From1500",
          "a1": 700,
          "a1c": 725,
          "a2": 5263.13571318048,
          "a3": 935.5303885249147
         },
         {
          "a0": "MZP2500From1500",
          "a1": 750,
          "a1c": 775,
          "a2": 4416.994764723986,
          "a3": 856.8774516331956
         },
         {
          "a0": "MZP2500From1500",
          "a1": 800,
          "a1c": 825,
          "a2": 2702.1356440137006,
          "a3": 672.0355943737175
         },
         {
          "a0": "MZP2500From1500",
          "a1": 850,
          "a1c": 875,
          "a2": 4037.225912140984,
          "a3": 823.0410820204369
         },
         {
          "a0": "MZP2500From1500",
          "a1": 900,
          "a1c": 925,
          "a2": 1518.6363636363635,
          "a3": 504.0436898943524
         },
         {
          "a0": "MZP2500From1500",
          "a1": 950,
          "a1c": 975,
          "a2": 2016,
          "a3": 581.9690713431428
         },
         {
          "a0": "MZP2500From1500",
          "a1": 1000,
          "a1c": 1000,
          "a2": 0,
          "a3": 0
         }
        ]
       },
       "layer": [
        {
         "encoding": {
          "color": {
           "field": "a0",
           "legend": {
            "title": "type"
           },
           "scale": {
            "domain": [
             "MZP1500",
             "MZP2500",
             "MZP2500From1500"
            ]
           },
           "type": "nominal"
          },
          "x": {
           "axis": {
            "title": "MET"
           },
           "field": "a1",
           "scale": {
            "zero": false
           },
           "type": "quantitative"
          },
          "y": {
           "axis": {
            "title": "entries per bin"
           },
           "field": "a2",
           "type": "quantitative"
          }
         },
         "mark": {
          "clip": true,
          "interpolate": "step-before",
          "type": "line"
         },
         "transform": []
        },
        {
         "encoding": {
          "x": {
           "field": "a1c",
           "type": "quantitative"
          },
          "y": {
           "field": "error-down",
           "type": "quantitative"
          },
          "y2": {
           "field": "error-up",
           "type": "quantitative"
          }
         },
         "mark": "rule",
         "transform": [
          {
           "as": "error-down",
           "calculate": "datum.a2 - datum.a3"
          },
          {
           "as": "error-up",
           "calculate": "datum.a2 + datum.a3"
          }
         ]
        }
       ]
      },
      "image/png": "[encoded data removed]",
      "text/plain": [
       "Hist(groupby('type'), bin('MET', 20, 0.0, 1000.0), weight='w').overlay(groupby('type')).step(bin('MET', 20, 0.0, 1000.0)error=True)"
      ]
     },
     "execution_count": 21,
     "metadata": {},
     "output_type": "execute_result"
    }
   ],
   "source": [
    "variable = 'TruthMET_met'\n",
    "histogram = Hist(bin(\"MET\", 20, 0, 1000), groupby('type'), weight=\"w\")\n",
    "histogram.fill(MET=arr_MZp1p5[variable]*0.001, type=\"MZP1500\", w=np.ones(10000))\n",
    "histogram.fill(MET=arr_MZp2p5[variable]*0.001, type=\"MZP2500\", w=np.ones(10000))\n",
    "histogram.fill(MET=arr_MZp1p5[variable]*0.001, w=weights_MZp1500to2500, type=\"MZP2500From1500\")\n",
    "histogram.overlay(\"type\").step(\"MET\", error=True)"
   ]
  },
  {
   "cell_type": "code",
   "execution_count": 22,
   "metadata": {},
   "outputs": [
    {
     "data": {
      "application/vnd.vegalite.v2+json": {
       "$schema": "https://vega.github.io/schema/vega-lite/v2.json",
       "data": {
        "values": [
         {
          "a0": "MZP1500",
          "a1": 0,
          "a1c": 0,
          "a2": 0,
          "a3": 0
         },
         {
          "a0": "MZP1500",
          "a1": 5.0000000000000004e-08,
          "a1c": 12.5,
          "a2": 0,
          "a3": 0
         },
         {
          "a0": "MZP1500",
          "a1": 25,
          "a1c": 37.5,
          "a2": 659,
          "a3": 25.67099530598687
         },
         {
          "a0": "MZP1500",
          "a1": 50,
          "a1c": 62.5,
          "a2": 1518,
          "a3": 38.961519477556315
         },
         {
          "a0": "MZP1500",
          "a1": 75,
          "a1c": 87.5,
          "a2": 1386,
          "a3": 37.22902093797257
         },
         {
          "a0": "MZP1500",
          "a1": 100,
          "a1c": 112.5,
          "a2": 1074,
          "a3": 32.77193921634788
         },
         {
          "a0": "MZP1500",
          "a1": 125,
          "a1c": 137.5,
          "a2": 828,
          "a3": 28.77498913987632
         },
         {
          "a0": "MZP1500",
          "a1": 150,
          "a1c": 162.5,
          "a2": 710,
          "a3": 26.645825188948457
         },
         {
          "a0": "MZP1500",
          "a1": 175,
          "a1c": 187.5,
          "a2": 558,
          "a3": 23.62202362203543
         },
         {
          "a0": "MZP1500",
          "a1": 200,
          "a1c": 212.5,
          "a2": 504,
          "a3": 22.44994432064365
         },
         {
          "a0": "MZP1500",
          "a1": 225,
          "a1c": 237.5,
          "a2": 401,
          "a3": 20.024984394500787
         },
         {
          "a0": "MZP1500",
          "a1": 250,
          "a1c": 262.5,
          "a2": 400,
          "a3": 20
         },
         {
          "a0": "MZP1500",
          "a1": 275,
          "a1c": 287.5,
          "a2": 305,
          "a3": 17.46424919657298
         },
         {
          "a0": "MZP1500",
          "a1": 300,
          "a1c": 312.5,
          "a2": 282,
          "a3": 16.792855623746664
         },
         {
          "a0": "MZP1500",
          "a1": 325,
          "a1c": 337.5,
          "a2": 224,
          "a3": 14.966629547095765
         },
         {
          "a0": "MZP1500",
          "a1": 350,
          "a1c": 362.5,
          "a2": 166,
          "a3": 12.884098726725126
         },
         {
          "a0": "MZP1500",
          "a1": 375,
          "a1c": 387.5,
          "a2": 138,
          "a3": 11.74734012447073
         },
         {
          "a0": "MZP1500",
          "a1": 400,
          "a1c": 412.5,
          "a2": 124,
          "a3": 11.135528725660043
         },
         {
          "a0": "MZP1500",
          "a1": 425,
          "a1c": 437.5,
          "a2": 86,
          "a3": 9.273618495495704
         },
         {
          "a0": "MZP1500",
          "a1": 450,
          "a1c": 462.5,
          "a2": 67,
          "a3": 8.18535277187245
         },
         {
          "a0": "MZP1500",
          "a1": 475,
          "a1c": 487.5,
          "a2": 90,
          "a3": 9.486832980505138
         },
         {
          "a0": "MZP1500",
          "a1": 500,
          "a1c": 500,
          "a2": 0,
          "a3": 0
         },
         {
          "a0": "MZP2500",
          "a1": 0,
          "a1c": 0,
          "a2": 0,
          "a3": 0
         },
         {
          "a0": "MZP2500",
          "a1": 5.0000000000000004e-08,
          "a1c": 12.5,
          "a2": 0,
          "a3": 0
         },
         {
          "a0": "MZP2500",
          "a1": 25,
          "a1c": 37.5,
          "a2": 430,
          "a3": 20.73644135332772
         },
         {
          "a0": "MZP2500",
          "a1": 50,
          "a1c": 62.5,
          "a2": 1023,
          "a3": 31.984371183438952
         },
         {
          "a0": "MZP2500",
          "a1": 75,
          "a1c": 87.5,
          "a2": 1041,
          "a3": 32.264531609803356
         },
         {
          "a0": "MZP2500",
          "a1": 100,
          "a1c": 112.5,
          "a2": 872,
          "a3": 29.5296461204668
         },
         {
          "a0": "MZP2500",
          "a1": 125,
          "a1c": 137.5,
          "a2": 708,
          "a3": 26.60826939130014
         },
         {
          "a0": "MZP2500",
          "a1": 150,
          "a1c": 162.5,
          "a2": 628,
          "a3": 25.059928172283335
         },
         {
          "a0": "MZP2500",
          "a1": 175,
          "a1c": 187.5,
          "a2": 594,
          "a3": 24.372115213907882
         },
         {
          "a0": "MZP2500",
          "a1": 200,
          "a1c": 212.5,
          "a2": 508,
          "a3": 22.538855339169288
         },
         {
          "a0": "MZP2500",
          "a1": 225,
          "a1c": 237.5,
          "a2": 430,
          "a3": 20.73644135332772
         },
         {
          "a0": "MZP2500",
          "a1": 250,
          "a1c": 262.5,
          "a2": 412,
          "a3": 20.29778313018444
         },
         {
          "a0": "MZP2500",
          "a1": 275,
          "a1c": 287.5,
          "a2": 351,
          "a3": 18.734993995195193
         },
         {
          "a0": "MZP2500",
          "a1": 300,
          "a1c": 312.5,
          "a2": 329,
          "a3": 18.138357147217054
         },
         {
          "a0": "MZP2500",
          "a1": 325,
          "a1c": 337.5,
          "a2": 266,
          "a3": 16.30950643030009
         },
         {
          "a0": "MZP2500",
          "a1": 350,
          "a1c": 362.5,
          "a2": 240,
          "a3": 15.491933384829668
         },
         {
          "a0": "MZP2500",
          "a1": 375,
          "a1c": 387.5,
          "a2": 192,
          "a3": 13.856406460551018
         },
         {
          "a0": "MZP2500",
          "a1": 400,
          "a1c": 412.5,
          "a2": 201,
          "a3": 14.177446878757825
         },
         {
          "a0": "MZP2500",
          "a1": 425,
          "a1c": 437.5,
          "a2": 170,
          "a3": 13.038404810405298
         },
         {
          "a0": "MZP2500",
          "a1": 450,
          "a1c": 462.5,
          "a2": 124,
          "a3": 11.135528725660043
         },
         {
          "a0": "MZP2500",
          "a1": 475,
          "a1c": 487.5,
          "a2": 134,
          "a3": 11.575836902790225
         },
         {
          "a0": "MZP2500",
          "a1": 500,
          "a1c": 500,
          "a2": 0,
          "a3": 0
         },
         {
          "a0": "MZP2500From1500",
          "a1": 0,
          "a1c": 0,
          "a2": 0,
          "a3": 0
         },
         {
          "a0": "MZP2500From1500",
          "a1": 5.0000000000000004e-08,
          "a1c": 12.5,
          "a2": 0,
          "a3": 0
         },
         {
          "a0": "MZP2500From1500",
          "a1": 25,
          "a1c": 37.5,
          "a2": 445.27789104488517,
          "a3": 17.345615942584377
         },
         {
          "a0": "MZP2500From1500",
          "a1": 50,
          "a1c": 62.5,
          "a2": 1109.536525434275,
          "a3": 28.511248347875153
         },
         {
          "a0": "MZP2500From1500",
          "a1": 75,
          "a1c": 87.5,
          "a2": 1129.6798548396039,
          "a3": 30.35728278909739
         },
         {
          "a0": "MZP2500From1500",
          "a1": 100,
          "a1c": 112.5,
          "a2": 968.763835246018,
          "a3": 29.569070112956123
         },
         {
          "a0": "MZP2500From1500",
          "a1": 125,
          "a1c": 137.5,
          "a2": 810.2751099502905,
          "a3": 28.1993726651761
         },
         {
          "a0": "MZP2500From1500",
          "a1": 150,
          "a1c": 162.5,
          "a2": 815.7405347110457,
          "a3": 30.614433196032675
         },
         {
          "a0": "MZP2500From1500",
          "a1": 175,
          "a1c": 187.5,
          "a2": 724.238614280455,
          "a3": 30.74785015153367
         },
         {
          "a0": "MZP2500From1500",
          "a1": 200,
          "a1c": 212.5,
          "a2": 760.1703335052491,
          "a3": 33.909044917554304
         },
         {
          "a0": "MZP2500From1500",
          "a1": 225,
          "a1c": 237.5,
          "a2": 695.1457097429062,
          "a3": 34.78284039951049
         },
         {
          "a0": "MZP2500From1500",
          "a1": 250,
          "a1c": 262.5,
          "a2": 811.049582756401,
          "a3": 40.558619942974985
         },
         {
          "a0": "MZP2500From1500",
          "a1": 275,
          "a1c": 287.5,
          "a2": 749.5290582049576,
          "a3": 43.19540321055397
         },
         {
          "a0": "MZP2500From1500",
          "a1": 300,
          "a1c": 312.5,
          "a2": 932.7483047663927,
          "a3": 55.607806852431565
         },
         {
          "a0": "MZP2500From1500",
          "a1": 325,
          "a1c": 337.5,
          "a2": 792.128552039194,
          "a3": 53.0356996426068
         },
         {
          "a0": "MZP2500From1500",
          "a1": 350,
          "a1c": 362.5,
          "a2": 879.7666666666663,
          "a3": 69.12307016738391
         },
         {
          "a0": "MZP2500From1500",
          "a1": 375,
          "a1c": 387.5,
          "a2": 653.4193694601126,
          "a3": 55.6901631931941
         },
         {
          "a0": "MZP2500From1500",
          "a1": 400,
          "a1c": 412.5,
          "a2": 684.2408016569207,
          "a3": 62.49867557545891
         },
         {
          "a0": "MZP2500From1500",
          "a1": 425,
          "a1c": 437.5,
          "a2": 533.373941847626,
          "a3": 57.92196638289266
         },
         {
          "a0": "MZP2500From1500",
          "a1": 450,
          "a1c": 462.5,
          "a2": 488.74102564102566,
          "a3": 64.27066845103349
         },
         {
          "a0": "MZP2500From1500",
          "a1": 475,
          "a1c": 487.5,
          "a2": 606.1059288537555,
          "a3": 76.211141192334
         },
         {
          "a0": "MZP2500From1500",
          "a1": 500,
          "a1c": 500,
          "a2": 0,
          "a3": 0
         }
        ]
       },
       "layer": [
        {
         "encoding": {
          "color": {
           "field": "a0",
           "legend": {
            "title": "type"
           },
           "scale": {
            "domain": [
             "MZP1500",
             "MZP2500",
             "MZP2500From1500"
            ]
           },
           "type": "nominal"
          },
          "x": {
           "axis": {
            "title": "JET1PT"
           },
           "field": "a1",
           "scale": {
            "zero": false
           },
           "type": "quantitative"
          },
          "y": {
           "axis": {
            "title": "entries per bin"
           },
           "field": "a2",
           "type": "quantitative"
          }
         },
         "mark": {
          "clip": true,
          "interpolate": "step-before",
          "type": "line"
         },
         "transform": []
        },
        {
         "encoding": {
          "x": {
           "field": "a1c",
           "type": "quantitative"
          },
          "y": {
           "field": "error-down",
           "type": "quantitative"
          },
          "y2": {
           "field": "error-up",
           "type": "quantitative"
          }
         },
         "mark": "rule",
         "transform": [
          {
           "as": "error-down",
           "calculate": "datum.a2 - datum.a3"
          },
          {
           "as": "error-up",
           "calculate": "datum.a2 + datum.a3"
          }
         ]
        }
       ]
      },
      "image/png": "[encoded data removed]",
      "text/plain": [
       "Hist(groupby('type'), bin('JET1PT', 20, 0.0, 500.0), weight='w').overlay(groupby('type')).step(bin('JET1PT', 20, 0.0, 500.0)error=True)"
      ]
     },
     "execution_count": 22,
     "metadata": {},
     "output_type": "execute_result"
    }
   ],
   "source": [
    "variable = 'LeadingJetPt'\n",
    "histogram = Hist(bin(\"JET1PT\", 20, 0, 500), groupby('type'), weight=\"w\")\n",
    "histogram.fill(JET1PT=arr_MZp1p5[variable]*0.001, type=\"MZP1500\", w=np.ones(10000))\n",
    "histogram.fill(JET1PT=arr_MZp2p5[variable]*0.001, type=\"MZP2500\", w=np.ones(10000))\n",
    "histogram.fill(JET1PT=arr_MZp1p5[variable]*0.001, w=weights_MZp1500to2500, type=\"MZP2500From1500\")\n",
    "histogram.overlay(\"type\").step(\"JET1PT\", error=True)"
   ]
  },
  {
   "cell_type": "markdown",
   "metadata": {},
   "source": [
    "### Reweighting from Z' mass of 2000 GeV to 2500 GeV \n",
    "Now we are trying to reweight the sample with Z' mass of 2000 GeV to Z' mass of 2500 GeV.\n",
    "\n",
    "As above we first plot the **MET** distributions (in GeV) for the 2000 \"start\" sample, the simulated 2500 \"target\" sample and the reweighted sample. \n",
    "\n",
    "Both in the reweighted **MET** and the reweighted **JETPT1** distributions there are strong differences to the simulated distributions."
   ]
  },
  {
   "cell_type": "code",
   "execution_count": 23,
   "metadata": {},
   "outputs": [],
   "source": [
    "weights_MZp2000to2500 = np.array([getSF(m_reweight_MZp_2p0_to_2p5, 'hJet1Pt_SF', value) for value in arr_MZp2p0['LeadingJetPt']*0.001])"
   ]
  },
  {
   "cell_type": "code",
   "execution_count": 24,
   "metadata": {},
   "outputs": [
    {
     "data": {
      "application/vnd.vegalite.v2+json": {
       "$schema": "https://vega.github.io/schema/vega-lite/v2.json",
       "data": {
        "values": [
         {
          "a0": "MZP2000",
          "a1": 0,
          "a1c": 0,
          "a2": 0,
          "a3": 0
         },
         {
          "a0": "MZP2000",
          "a1": 1.0000000000000001e-07,
          "a1c": 25,
          "a2": 401,
          "a3": 20.024984394500787
         },
         {
          "a0": "MZP2000",
          "a1": 50,
          "a1c": 75,
          "a2": 1012,
          "a3": 31.811947441173732
         },
         {
          "a0": "MZP2000",
          "a1": 100,
          "a1c": 125,
          "a2": 1246,
          "a3": 35.298725189445584
         },
         {
          "a0": "MZP2000",
          "a1": 150,
          "a1c": 175,
          "a2": 1270,
          "a3": 35.63705936241092
         },
         {
          "a0": "MZP2000",
          "a1": 200,
          "a1c": 225,
          "a2": 1206,
          "a3": 34.72751070837067
         },
         {
          "a0": "MZP2000",
          "a1": 250,
          "a1c": 275,
          "a2": 954,
          "a3": 30.886890422961002
         },
         {
          "a0": "MZP2000",
          "a1": 300,
          "a1c": 325,
          "a2": 846,
          "a3": 29.086079144497972
         },
         {
          "a0": "MZP2000",
          "a1": 350,
          "a1c": 375,
          "a2": 664,
          "a3": 25.768197453450252
         },
         {
          "a0": "MZP2000",
          "a1": 400,
          "a1c": 425,
          "a2": 569,
          "a3": 23.853720883753127
         },
         {
          "a0": "MZP2000",
          "a1": 450,
          "a1c": 475,
          "a2": 409,
          "a3": 20.223748416156685
         },
         {
          "a0": "MZP2000",
          "a1": 500,
          "a1c": 525,
          "a2": 331,
          "a3": 18.193405398660254
         },
         {
          "a0": "MZP2000",
          "a1": 550,
          "a1c": 575,
          "a2": 270,
          "a3": 16.431676725154983
         },
         {
          "a0": "MZP2000",
          "a1": 600,
          "a1c": 625,
          "a2": 211,
          "a3": 14.52583904633395
         },
         {
          "a0": "MZP2000",
          "a1": 650,
          "a1c": 675,
          "a2": 166,
          "a3": 12.884098726725126
         },
         {
          "a0": "MZP2000",
          "a1": 700,
          "a1c": 725,
          "a2": 114,
          "a3": 10.677078252031311
         },
         {
          "a0": "MZP2000",
          "a1": 750,
          "a1c": 775,
          "a2": 88,
          "a3": 9.38083151964686
         },
         {
          "a0": "MZP2000",
          "a1": 800,
          "a1c": 825,
          "a2": 73,
          "a3": 8.54400374531753
         },
         {
          "a0": "MZP2000",
          "a1": 850,
          "a1c": 875,
          "a2": 43,
          "a3": 6.557438524302
         },
         {
          "a0": "MZP2000",
          "a1": 900,
          "a1c": 925,
          "a2": 38,
          "a3": 6.164414002968976
         },
         {
          "a0": "MZP2000",
          "a1": 950,
          "a1c": 975,
          "a2": 17,
          "a3": 4.123105625617661
         },
         {
          "a0": "MZP2000",
          "a1": 1000,
          "a1c": 1000,
          "a2": 0,
          "a3": 0
         },
         {
          "a0": "MZP2500",
          "a1": 0,
          "a1c": 0,
          "a2": 0,
          "a3": 0
         },
         {
          "a0": "MZP2500",
          "a1": 1.0000000000000001e-07,
          "a1c": 25,
          "a2": 310,
          "a3": 17.60681686165901
         },
         {
          "a0": "MZP2500",
          "a1": 50,
          "a1c": 75,
          "a2": 817,
          "a3": 28.583211855912904
         },
         {
          "a0": "MZP2500",
          "a1": 100,
          "a1c": 125,
          "a2": 1101,
          "a3": 33.18132004607411
         },
         {
          "a0": "MZP2500",
          "a1": 150,
          "a1c": 175,
          "a2": 1165,
          "a3": 34.132096331752024
         },
         {
          "a0": "MZP2500",
          "a1": 200,
          "a1c": 225,
          "a2": 1073,
          "a3": 32.7566787083184
         },
         {
          "a0": "MZP2500",
          "a1": 250,
          "a1c": 275,
          "a2": 929,
          "a3": 30.479501308256342
         },
         {
          "a0": "MZP2500",
          "a1": 300,
          "a1c": 325,
          "a2": 788,
          "a3": 28.071337695236398
         },
         {
          "a0": "MZP2500",
          "a1": 350,
          "a1c": 375,
          "a2": 646,
          "a3": 25.41653005427767
         },
         {
          "a0": "MZP2500",
          "a1": 400,
          "a1c": 425,
          "a2": 612,
          "a3": 24.73863375370596
         },
         {
          "a0": "MZP2500",
          "a1": 450,
          "a1c": 475,
          "a2": 498,
          "a3": 22.315913604421397
         },
         {
          "a0": "MZP2500",
          "a1": 500,
          "a1c": 525,
          "a2": 393,
          "a3": 19.82422760159901
         },
         {
          "a0": "MZP2500",
          "a1": 550,
          "a1c": 575,
          "a2": 339,
          "a3": 18.411952639521967
         },
         {
          "a0": "MZP2500",
          "a1": 600,
          "a1c": 625,
          "a2": 277,
          "a3": 16.64331697709324
         },
         {
          "a0": "MZP2500",
          "a1": 650,
          "a1c": 675,
          "a2": 218,
          "a3": 14.7648230602334
         },
         {
          "a0": "MZP2500",
          "a1": 700,
          "a1c": 725,
          "a2": 167,
          "a3": 12.922847983320086
         },
         {
          "a0": "MZP2500",
          "a1": 750,
          "a1c": 775,
          "a2": 146,
          "a3": 12.083045973594572
         },
         {
          "a0": "MZP2500",
          "a1": 800,
          "a1c": 825,
          "a2": 117,
          "a3": 10.816653826391969
         },
         {
          "a0": "MZP2500",
          "a1": 850,
          "a1c": 875,
          "a2": 88,
          "a3": 9.38083151964686
         },
         {
          "a0": "MZP2500",
          "a1": 900,
          "a1c": 925,
          "a2": 79,
          "a3": 8.888194417315589
         },
         {
          "a0": "MZP2500",
          "a1": 950,
          "a1c": 975,
          "a2": 66,
          "a3": 8.12403840463596
         },
         {
          "a0": "MZP2500",
          "a1": 1000,
          "a1c": 1000,
          "a2": 0,
          "a3": 0
         },
         {
          "a0": "MZP2500From2000",
          "a1": 0,
          "a1c": 0,
          "a2": 0,
          "a3": 0
         },
         {
          "a0": "MZP2500From2000",
          "a1": 1.0000000000000001e-07,
          "a1c": 25,
          "a2": 355.4253324968473,
          "a3": 17.889062829302045
         },
         {
          "a0": "MZP2500From2000",
          "a1": 50,
          "a1c": 75,
          "a2": 1219.1549962694542,
          "a3": 317.2896947434733
         },
         {
          "a0": "MZP2500From2000",
          "a1": 100,
          "a1c": 125,
          "a2": 2101.7403576272386,
          "a3": 548.3236155837762
         },
         {
          "a0": "MZP2500From2000",
          "a1": 150,
          "a1c": 175,
          "a2": 2810.5608883045456,
          "a3": 707.4620520072702
         },
         {
          "a0": "MZP2500From2000",
          "a1": 200,
          "a1c": 225,
          "a2": 2811.3281827701835,
          "a3": 707.5176220174286
         },
         {
          "a0": "MZP2500From2000",
          "a1": 250,
          "a1c": 275,
          "a2": 2931.1277140925968,
          "a3": 774.7903438184935
         },
         {
          "a0": "MZP2500From2000",
          "a1": 300,
          "a1c": 325,
          "a2": 3207.629758918199,
          "a3": 836.7951724645624
         },
         {
          "a0": "MZP2500From2000",
          "a1": 350,
          "a1c": 375,
          "a2": 4963.483342816807,
          "a3": 1139.8804334122692
         },
         {
          "a0": "MZP2500From2000",
          "a1": 400,
          "a1c": 425,
          "a2": 7110.155522080712,
          "a3": 1413.630284738907
         },
         {
          "a0": "MZP2500From2000",
          "a1": 450,
          "a1c": 475,
          "a2": 6324.139598153336,
          "a3": 1341.1041538089794
         },
         {
          "a0": "MZP2500From2000",
          "a1": 500,
          "a1c": 525,
          "a2": 13806.688794143163,
          "a3": 2048.18667250143
         },
         {
          "a0": "MZP2500From2000",
          "a1": 550,
          "a1c": 575,
          "a2": 30067.060375965757,
          "a3": 3063.8703870577
         },
         {
          "a0": "MZP2500From2000",
          "a1": 600,
          "a1c": 625,
          "a2": 36223.75622396905,
          "a3": 3374.025532371875
         },
         {
          "a0": "MZP2500From2000",
          "a1": 650,
          "a1c": 675,
          "a2": 36744.7832805228,
          "a3": 3403.4503199928095
         },
         {
          "a0": "MZP2500From2000",
          "a1": 700,
          "a1c": 725,
          "a2": 26909.742648963165,
          "a3": 2913.392747289614
         },
         {
          "a0": "MZP2500From2000",
          "a1": 750,
          "a1c": 775,
          "a2": 22469.529246856488,
          "a3": 2662.677941973811
         },
         {
          "a0": "MZP2500From2000",
          "a1": 800,
          "a1c": 825,
          "a2": 20240.26260156992,
          "a3": 2528.0071891315806
         },
         {
          "a0": "MZP2500From2000",
          "a1": 850,
          "a1c": 875,
          "a2": 12961.140327695559,
          "a3": 2023.3911263622624
         },
         {
          "a0": "MZP2500From2000",
          "a1": 900,
          "a1c": 925,
          "a2": 10436.283625352804,
          "a3": 1815.2859818677896
         },
         {
          "a0": "MZP2500From2000",
          "a1": 950,
          "a1c": 975,
          "a2": 5372,
          "a3": 1302.9013776951808
         },
         {
          "a0": "MZP2500From2000",
          "a1": 1000,
          "a1c": 1000,
          "a2": 0,
          "a3": 0
         }
        ]
       },
       "layer": [
        {
         "encoding": {
          "color": {
           "field": "a0",
           "legend": {
            "title": "type"
           },
           "scale": {
            "domain": [
             "MZP2000",
             "MZP2500",
             "MZP2500From2000"
            ]
           },
           "type": "nominal"
          },
          "x": {
           "axis": {
            "title": "MET"
           },
           "field": "a1",
           "scale": {
            "zero": false
           },
           "type": "quantitative"
          },
          "y": {
           "axis": {
            "title": "entries per bin"
           },
           "field": "a2",
           "type": "quantitative"
          }
         },
         "mark": {
          "clip": true,
          "interpolate": "step-before",
          "type": "line"
         },
         "transform": []
        },
        {
         "encoding": {
          "x": {
           "field": "a1c",
           "type": "quantitative"
          },
          "y": {
           "field": "error-down",
           "type": "quantitative"
          },
          "y2": {
           "field": "error-up",
           "type": "quantitative"
          }
         },
         "mark": "rule",
         "transform": [
          {
           "as": "error-down",
           "calculate": "datum.a2 - datum.a3"
          },
          {
           "as": "error-up",
           "calculate": "datum.a2 + datum.a3"
          }
         ]
        }
       ]
      },
      "image/png": "[encoded data removed]",
      "text/plain": [
       "Hist(groupby('type'), bin('MET', 20, 0.0, 1000.0), weight='w').overlay(groupby('type')).step(bin('MET', 20, 0.0, 1000.0)error=True)"
      ]
     },
     "execution_count": 24,
     "metadata": {},
     "output_type": "execute_result"
    }
   ],
   "source": [
    "variable = 'TruthMET_met'\n",
    "histogram = Hist(bin(\"MET\", 20, 0, 1000), groupby('type'), weight=\"w\")\n",
    "histogram.fill(MET=arr_MZp2p0[variable]*0.001, type=\"MZP2000\", w=np.ones(10000))\n",
    "histogram.fill(MET=arr_MZp2p5[variable]*0.001, type=\"MZP2500\", w=np.ones(10000))\n",
    "histogram.fill(MET=arr_MZp2p0[variable]*0.001, w=weights_MZp2000to2500, type=\"MZP2500From2000\")\n",
    "histogram.overlay(\"type\").step(\"MET\", error=True)"
   ]
  },
  {
   "cell_type": "code",
   "execution_count": 25,
   "metadata": {},
   "outputs": [
    {
     "data": {
      "application/vnd.vegalite.v2+json": {
       "$schema": "https://vega.github.io/schema/vega-lite/v2.json",
       "data": {
        "values": [
         {
          "a0": "MZP1500",
          "a1": 0,
          "a1c": 0,
          "a2": 0,
          "a3": 0
         },
         {
          "a0": "MZP1500",
          "a1": 5.0000000000000004e-08,
          "a1c": 12.5,
          "a2": 0,
          "a3": 0
         },
         {
          "a0": "MZP1500",
          "a1": 25,
          "a1c": 37.5,
          "a2": 659,
          "a3": 25.67099530598687
         },
         {
          "a0": "MZP1500",
          "a1": 50,
          "a1c": 62.5,
          "a2": 1518,
          "a3": 38.961519477556315
         },
         {
          "a0": "MZP1500",
          "a1": 75,
          "a1c": 87.5,
          "a2": 1386,
          "a3": 37.22902093797257
         },
         {
          "a0": "MZP1500",
          "a1": 100,
          "a1c": 112.5,
          "a2": 1074,
          "a3": 32.77193921634788
         },
         {
          "a0": "MZP1500",
          "a1": 125,
          "a1c": 137.5,
          "a2": 828,
          "a3": 28.77498913987632
         },
         {
          "a0": "MZP1500",
          "a1": 150,
          "a1c": 162.5,
          "a2": 710,
          "a3": 26.645825188948457
         },
         {
          "a0": "MZP1500",
          "a1": 175,
          "a1c": 187.5,
          "a2": 558,
          "a3": 23.62202362203543
         },
         {
          "a0": "MZP1500",
          "a1": 200,
          "a1c": 212.5,
          "a2": 504,
          "a3": 22.44994432064365
         },
         {
          "a0": "MZP1500",
          "a1": 225,
          "a1c": 237.5,
          "a2": 401,
          "a3": 20.024984394500787
         },
         {
          "a0": "MZP1500",
          "a1": 250,
          "a1c": 262.5,
          "a2": 400,
          "a3": 20
         },
         {
          "a0": "MZP1500",
          "a1": 275,
          "a1c": 287.5,
          "a2": 305,
          "a3": 17.46424919657298
         },
         {
          "a0": "MZP1500",
          "a1": 300,
          "a1c": 312.5,
          "a2": 282,
          "a3": 16.792855623746664
         },
         {
          "a0": "MZP1500",
          "a1": 325,
          "a1c": 337.5,
          "a2": 224,
          "a3": 14.966629547095765
         },
         {
          "a0": "MZP1500",
          "a1": 350,
          "a1c": 362.5,
          "a2": 166,
          "a3": 12.884098726725126
         },
         {
          "a0": "MZP1500",
          "a1": 375,
          "a1c": 387.5,
          "a2": 138,
          "a3": 11.74734012447073
         },
         {
          "a0": "MZP1500",
          "a1": 400,
          "a1c": 412.5,
          "a2": 124,
          "a3": 11.135528725660043
         },
         {
          "a0": "MZP1500",
          "a1": 425,
          "a1c": 437.5,
          "a2": 86,
          "a3": 9.273618495495704
         },
         {
          "a0": "MZP1500",
          "a1": 450,
          "a1c": 462.5,
          "a2": 67,
          "a3": 8.18535277187245
         },
         {
          "a0": "MZP1500",
          "a1": 475,
          "a1c": 487.5,
          "a2": 90,
          "a3": 9.486832980505138
         },
         {
          "a0": "MZP1500",
          "a1": 500,
          "a1c": 500,
          "a2": 0,
          "a3": 0
         },
         {
          "a0": "MZP2500",
          "a1": 0,
          "a1c": 0,
          "a2": 0,
          "a3": 0
         },
         {
          "a0": "MZP2500",
          "a1": 5.0000000000000004e-08,
          "a1c": 12.5,
          "a2": 0,
          "a3": 0
         },
         {
          "a0": "MZP2500",
          "a1": 25,
          "a1c": 37.5,
          "a2": 430,
          "a3": 20.73644135332772
         },
         {
          "a0": "MZP2500",
          "a1": 50,
          "a1c": 62.5,
          "a2": 1023,
          "a3": 31.984371183438952
         },
         {
          "a0": "MZP2500",
          "a1": 75,
          "a1c": 87.5,
          "a2": 1041,
          "a3": 32.264531609803356
         },
         {
          "a0": "MZP2500",
          "a1": 100,
          "a1c": 112.5,
          "a2": 872,
          "a3": 29.5296461204668
         },
         {
          "a0": "MZP2500",
          "a1": 125,
          "a1c": 137.5,
          "a2": 708,
          "a3": 26.60826939130014
         },
         {
          "a0": "MZP2500",
          "a1": 150,
          "a1c": 162.5,
          "a2": 628,
          "a3": 25.059928172283335
         },
         {
          "a0": "MZP2500",
          "a1": 175,
          "a1c": 187.5,
          "a2": 594,
          "a3": 24.372115213907882
         },
         {
          "a0": "MZP2500",
          "a1": 200,
          "a1c": 212.5,
          "a2": 508,
          "a3": 22.538855339169288
         },
         {
          "a0": "MZP2500",
          "a1": 225,
          "a1c": 237.5,
          "a2": 430,
          "a3": 20.73644135332772
         },
         {
          "a0": "MZP2500",
          "a1": 250,
          "a1c": 262.5,
          "a2": 412,
          "a3": 20.29778313018444
         },
         {
          "a0": "MZP2500",
          "a1": 275,
          "a1c": 287.5,
          "a2": 351,
          "a3": 18.734993995195193
         },
         {
          "a0": "MZP2500",
          "a1": 300,
          "a1c": 312.5,
          "a2": 329,
          "a3": 18.138357147217054
         },
         {
          "a0": "MZP2500",
          "a1": 325,
          "a1c": 337.5,
          "a2": 266,
          "a3": 16.30950643030009
         },
         {
          "a0": "MZP2500",
          "a1": 350,
          "a1c": 362.5,
          "a2": 240,
          "a3": 15.491933384829668
         },
         {
          "a0": "MZP2500",
          "a1": 375,
          "a1c": 387.5,
          "a2": 192,
          "a3": 13.856406460551018
         },
         {
          "a0": "MZP2500",
          "a1": 400,
          "a1c": 412.5,
          "a2": 201,
          "a3": 14.177446878757825
         },
         {
          "a0": "MZP2500",
          "a1": 425,
          "a1c": 437.5,
          "a2": 170,
          "a3": 13.038404810405298
         },
         {
          "a0": "MZP2500",
          "a1": 450,
          "a1c": 462.5,
          "a2": 124,
          "a3": 11.135528725660043
         },
         {
          "a0": "MZP2500",
          "a1": 475,
          "a1c": 487.5,
          "a2": 134,
          "a3": 11.575836902790225
         },
         {
          "a0": "MZP2500",
          "a1": 500,
          "a1c": 500,
          "a2": 0,
          "a3": 0
         },
         {
          "a0": "MZP2500From1500",
          "a1": 0,
          "a1c": 0,
          "a2": 0,
          "a3": 0
         },
         {
          "a0": "MZP2500From1500",
          "a1": 5.0000000000000004e-08,
          "a1c": 12.5,
          "a2": 0,
          "a3": 0
         },
         {
          "a0": "MZP2500From1500",
          "a1": 25,
          "a1c": 37.5,
          "a2": 445.27789104488517,
          "a3": 17.345615942584377
         },
         {
          "a0": "MZP2500From1500",
          "a1": 50,
          "a1c": 62.5,
          "a2": 1109.536525434275,
          "a3": 28.511248347875153
         },
         {
          "a0": "MZP2500From1500",
          "a1": 75,
          "a1c": 87.5,
          "a2": 1129.6798548396039,
          "a3": 30.35728278909739
         },
         {
          "a0": "MZP2500From1500",
          "a1": 100,
          "a1c": 112.5,
          "a2": 968.763835246018,
          "a3": 29.569070112956123
         },
         {
          "a0": "MZP2500From1500",
          "a1": 125,
          "a1c": 137.5,
          "a2": 810.2751099502905,
          "a3": 28.1993726651761
         },
         {
          "a0": "MZP2500From1500",
          "a1": 150,
          "a1c": 162.5,
          "a2": 815.7405347110457,
          "a3": 30.614433196032675
         },
         {
          "a0": "MZP2500From1500",
          "a1": 175,
          "a1c": 187.5,
          "a2": 724.238614280455,
          "a3": 30.74785015153367
         },
         {
          "a0": "MZP2500From1500",
          "a1": 200,
          "a1c": 212.5,
          "a2": 760.1703335052491,
          "a3": 33.909044917554304
         },
         {
          "a0": "MZP2500From1500",
          "a1": 225,
          "a1c": 237.5,
          "a2": 695.1457097429062,
          "a3": 34.78284039951049
         },
         {
          "a0": "MZP2500From1500",
          "a1": 250,
          "a1c": 262.5,
          "a2": 811.049582756401,
          "a3": 40.558619942974985
         },
         {
          "a0": "MZP2500From1500",
          "a1": 275,
          "a1c": 287.5,
          "a2": 749.5290582049576,
          "a3": 43.19540321055397
         },
         {
          "a0": "MZP2500From1500",
          "a1": 300,
          "a1c": 312.5,
          "a2": 932.7483047663927,
          "a3": 55.607806852431565
         },
         {
          "a0": "MZP2500From1500",
          "a1": 325,
          "a1c": 337.5,
          "a2": 792.128552039194,
          "a3": 53.0356996426068
         },
         {
          "a0": "MZP2500From1500",
          "a1": 350,
          "a1c": 362.5,
          "a2": 879.7666666666663,
          "a3": 69.12307016738391
         },
         {
          "a0": "MZP2500From1500",
          "a1": 375,
          "a1c": 387.5,
          "a2": 653.4193694601126,
          "a3": 55.6901631931941
         },
         {
          "a0": "MZP2500From1500",
          "a1": 400,
          "a1c": 412.5,
          "a2": 684.2408016569207,
          "a3": 62.49867557545891
         },
         {
          "a0": "MZP2500From1500",
          "a1": 425,
          "a1c": 437.5,
          "a2": 533.373941847626,
          "a3": 57.92196638289266
         },
         {
          "a0": "MZP2500From1500",
          "a1": 450,
          "a1c": 462.5,
          "a2": 488.74102564102566,
          "a3": 64.27066845103349
         },
         {
          "a0": "MZP2500From1500",
          "a1": 475,
          "a1c": 487.5,
          "a2": 606.1059288537555,
          "a3": 76.211141192334
         },
         {
          "a0": "MZP2500From1500",
          "a1": 500,
          "a1c": 500,
          "a2": 0,
          "a3": 0
         }
        ]
       },
       "layer": [
        {
         "encoding": {
          "color": {
           "field": "a0",
           "legend": {
            "title": "type"
           },
           "scale": {
            "domain": [
             "MZP1500",
             "MZP2500",
             "MZP2500From1500"
            ]
           },
           "type": "nominal"
          },
          "x": {
           "axis": {
            "title": "JET1PT"
           },
           "field": "a1",
           "scale": {
            "zero": false
           },
           "type": "quantitative"
          },
          "y": {
           "axis": {
            "title": "entries per bin"
           },
           "field": "a2",
           "type": "quantitative"
          }
         },
         "mark": {
          "clip": true,
          "interpolate": "step-before",
          "type": "line"
         },
         "transform": []
        },
        {
         "encoding": {
          "x": {
           "field": "a1c",
           "type": "quantitative"
          },
          "y": {
           "field": "error-down",
           "type": "quantitative"
          },
          "y2": {
           "field": "error-up",
           "type": "quantitative"
          }
         },
         "mark": "rule",
         "transform": [
          {
           "as": "error-down",
           "calculate": "datum.a2 - datum.a3"
          },
          {
           "as": "error-up",
           "calculate": "datum.a2 + datum.a3"
          }
         ]
        }
       ]
      },
      "image/png": "[encoded data removed]",
      "text/plain": [
       "Hist(groupby('type'), bin('JET1PT', 20, 0.0, 500.0), weight='w').overlay(groupby('type')).step(bin('JET1PT', 20, 0.0, 500.0)error=True)"
      ]
     },
     "execution_count": 25,
     "metadata": {},
     "output_type": "execute_result"
    }
   ],
   "source": [
    "variable = 'LeadingJetPt'\n",
    "histogram = Hist(bin(\"JET1PT\", 20, 0, 500), groupby('type'), weight=\"w\")\n",
    "histogram.fill(JET1PT=arr_MZp1p5[variable]*0.001, type=\"MZP1500\", w=np.ones(10000))\n",
    "histogram.fill(JET1PT=arr_MZp2p5[variable]*0.001, type=\"MZP2500\", w=np.ones(10000))\n",
    "histogram.fill(JET1PT=arr_MZp1p5[variable]*0.001, w=weights_MZp1500to2500, type=\"MZP2500From1500\")\n",
    "histogram.overlay(\"type\").step(\"JET1PT\", error=True)"
   ]
  },
  {
   "cell_type": "markdown",
   "metadata": {},
   "source": [
    "## Conclusion\n",
    "\n",
    "On particle level the MET-based reweighting looks promising, based on this limited exploratory study.\n",
    "The leading jet-pt reweighting seems problematic.\n",
    "\n",
    "Next steps:\n",
    "\n",
    "1. Try out 2-D reweighting in leading jet pt and MET\n",
    "2. Check reweighting with more variables (jet multiplicity, angular distributions like dPhi(W,W), ...)\n",
    "3. Improve implementation of re-weighting in framework and check with simulated + reconstructed samples."
   ]
  },
  {
   "cell_type": "code",
   "execution_count": null,
   "metadata": {},
   "outputs": [],
   "source": []
  }
 ],
 "metadata": {
  "kernelspec": {
   "display_name": "Python 3",
   "language": "python",
   "name": "python3"
  },
  "language_info": {
   "codemirror_mode": {
    "name": "ipython",
    "version": 3
   },
   "file_extension": ".py",
   "mimetype": "text/x-python",
   "name": "python",
   "nbconvert_exporter": "python",
   "pygments_lexer": "ipython3",
   "version": "3.5.2"
  }
 },
 "nbformat": 4,
 "nbformat_minor": 2
}
