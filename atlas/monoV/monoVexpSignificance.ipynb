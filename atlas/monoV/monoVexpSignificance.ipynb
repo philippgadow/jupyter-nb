{
 "cells": [
  {
   "cell_type": "markdown",
   "metadata": {},
   "source": [
    "# Mono-V Expected Significance"
   ]
  },
  {
   "cell_type": "code",
   "execution_count": 8,
   "metadata": {
    "collapsed": true
   },
   "outputs": [],
   "source": [
    "import matplotlib.pyplot as plt\n",
    "import numpy as np\n",
    "import pandas as pd\n",
    "import seaborn as sns"
   ]
  },
  {
   "cell_type": "code",
   "execution_count": 5,
   "metadata": {
    "collapsed": true
   },
   "outputs": [],
   "source": [
    "# specify data\n",
    "data = \"\"\"\n",
    "MedMass,DarkMatterMass,expSig\n",
    "995,500,0.259506\n",
    "1000,1,1.13\n",
    "500,1,3.46577\n",
    "10,150,0.159615\n",
    "300,1,6.551\n",
    "1995,1000,0.043366\n",
    "800,1,1.67854\n",
    "95,50,0.958943\n",
    "100,10,9.38781\n",
    "10,10,0.79991\n",
    "10000,500,0\n",
    "10,500,0.0158186\n",
    "2000,1,0.159801\n",
    "295,150,0.866894\n",
    "10000,10,0\n",
    "10,1,26.9701\n",
    "600,1,2.26244\n",
    "1000,1000,0.00152038\n",
    "700,1,1.98886\n",
    "2000,500,0.157274\n",
    "900,1,1.32943\n",
    "200,1,5.04126\n",
    "100,1,9.31036\n",
    "300,50,5.78226\n",
    "400,1,3.60359\n",
    "10,1000,0.00104653\n",
    "1000,150,1.22129\n",
    "10,50,0.328645\n",
    "\"\"\"\n",
    "with open('expSignificances.txt', 'w') as f:\n",
    "    f.write(data)"
   ]
  },
  {
   "cell_type": "code",
   "execution_count": 6,
   "metadata": {},
   "outputs": [],
   "source": [
    "df = pd.read_csv('expSignificances.txt')"
   ]
  },
  {
   "cell_type": "code",
   "execution_count": 7,
   "metadata": {},
   "outputs": [
    {
     "name": "stdout",
     "output_type": "stream",
     "text": [
      "    MedMass  DarkMatterMass     expSig\n",
      "0       995             500   0.259506\n",
      "1      1000               1   1.130000\n",
      "2       500               1   3.465770\n",
      "3        10             150   0.159615\n",
      "4       300               1   6.551000\n",
      "5      1995            1000   0.043366\n",
      "6       800               1   1.678540\n",
      "7        95              50   0.958943\n",
      "8       100              10   9.387810\n",
      "9        10              10   0.799910\n",
      "10    10000             500   0.000000\n",
      "11       10             500   0.015819\n",
      "12     2000               1   0.159801\n",
      "13      295             150   0.866894\n",
      "14    10000              10   0.000000\n",
      "15       10               1  26.970100\n",
      "16      600               1   2.262440\n",
      "17     1000            1000   0.001520\n",
      "18      700               1   1.988860\n",
      "19     2000             500   0.157274\n",
      "20      900               1   1.329430\n",
      "21      200               1   5.041260\n",
      "22      100               1   9.310360\n",
      "23      300              50   5.782260\n",
      "24      400               1   3.603590\n",
      "25       10            1000   0.001047\n",
      "26     1000             150   1.221290\n",
      "27       10              50   0.328645\n"
     ]
    }
   ],
   "source": [
    "print(df)"
   ]
  },
  {
   "cell_type": "code",
   "execution_count": null,
   "metadata": {},
   "outputs": [],
   "source": [
    "f, ax = plt.subplots(figsize=(9, 6))\n",
    "df.plot()\n",
    "plt.show()"
   ]
  },
  {
   "cell_type": "code",
   "execution_count": null,
   "metadata": {
    "collapsed": true
   },
   "outputs": [],
   "source": []
  }
 ],
 "metadata": {
  "kernelspec": {
   "display_name": "Python [default]",
   "language": "python",
   "name": "python3"
  },
  "language_info": {
   "codemirror_mode": {
    "name": "ipython",
    "version": 3
   },
   "file_extension": ".py",
   "mimetype": "text/x-python",
   "name": "python",
   "nbconvert_exporter": "python",
   "pygments_lexer": "ipython3",
   "version": "3.6.1"
  }
 },
 "nbformat": 4,
 "nbformat_minor": 2
}
