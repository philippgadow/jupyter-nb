{
 "cells": [
  {
   "cell_type": "markdown",
   "metadata": {},
   "source": [
    "### Matplotlib plots for LHCP poster"
   ]
  },
  {
   "cell_type": "markdown",
   "metadata": {},
   "source": [
    "This code generates the background composition diagrams I put on my LHCP poster about the monoZ' search in 2018."
   ]
  },
  {
   "cell_type": "code",
   "execution_count": 44,
   "metadata": {},
   "outputs": [],
   "source": [
    "# libraries\n",
    "import numpy as np\n",
    "import matplotlib.pyplot as plt\n",
    "from matplotlib import rc\n",
    "import pandas as pd\n",
    "\n",
    "\n",
    "def cm2inch(*tupl):\n",
    "    inch = 2.54\n",
    "    if isinstance(tupl[0], tuple):\n",
    "        return tuple(i/inch for i in tupl[0])\n",
    "    else:\n",
    "        return tuple(i/inch for i in tupl)"
   ]
  },
  {
   "cell_type": "code",
   "execution_count": 45,
   "metadata": {},
   "outputs": [],
   "source": [
    "# Data\n",
    "r = [0,1,2]\n",
    "raw_data = {\n",
    "    'wjets': [\n",
    "        68300, 4270, 115\n",
    "    ],\n",
    "    'zjets': [\n",
    "        72200, 7230, 1160\n",
    "    ],\n",
    "    'ttbar': [\n",
    "        3900, 10320, 4920\n",
    "    ],\n",
    "    'stop': [\n",
    "        752, 1530, 466\n",
    "    ], \n",
    "    'diboson': [\n",
    "        2000, 282, 14.6\n",
    "    ], \n",
    "    'multijet': [\n",
    "        17100, 7870, 880\n",
    "    ]}\n",
    "df = pd.DataFrame(raw_data)"
   ]
  },
  {
   "cell_type": "code",
   "execution_count": 38,
   "metadata": {},
   "outputs": [],
   "source": [
    "# From raw value to percentage\n",
    "totals = [i+j+k+l+m+n for i,j,k,l,m,n in zip(df['wjets'], df['zjets'], df['ttbar'], df['stop'], df['diboson'], df['multijet'])]\n",
    "wjets = [i / j * 100 for i,j in zip(df['wjets'], totals)]\n",
    "zjets = [i / j * 100 for i,j in zip(df['zjets'], totals)]\n",
    "ttbar = [i / j * 100 for i,j in zip(df['ttbar'], totals)]\n",
    "stop = [i / j * 100 for i,j in zip(df['stop'], totals)]\n",
    "diboson = [i / j * 100 for i,j in zip(df['diboson'], totals)]\n",
    "multijet = [i / j * 100 for i,j in zip(df['multijet'], totals)]"
   ]
  },
  {
   "cell_type": "code",
   "execution_count": 51,
   "metadata": {},
   "outputs": [
    {
     "data": {
      "image/png": "[encoded data removed]",
      "text/plain": [
       "<matplotlib.figure.Figure at 0x7ff4f3431518>"
      ]
     },
     "metadata": {},
     "output_type": "display_data"
    }
   ],
   "source": [
    "# plot\n",
    "fig = plt.figure(figsize=cm2inch(5,30.1))\n",
    "\n",
    "barWidth = 0.85\n",
    "names = ('0b','1b','2b')\n",
    "# Create green Bars\n",
    "plt.bar(r, wjets, color='#99ff99', width=barWidth, label=\"$W$ + jets\")\n",
    "# Create orange Bars\n",
    "plt.bar(r, zjets, bottom=wjets, color='#99ccff', width=barWidth, label=\"$Z$ + jets\")\n",
    "# Create blue Bars\n",
    "plt.bar(r, ttbar, bottom=[i+j for i,j in zip(wjets, zjets)], color='#ffcc00', width=barWidth, label=\"$t\\overline{t}$\")\n",
    "# Create single top\n",
    "plt.bar(r, stop, bottom=[i+j+k for i,j,k in zip(wjets, zjets, ttbar)], color='#ff9933', width=barWidth, label=\"Single-top quark\")\n",
    "# Create diboson\n",
    "plt.bar(r, diboson, bottom=[i+j+k+l for i,j,k,l in zip(wjets, zjets, ttbar, stop)], color='#999999', width=barWidth, label=\"Diboson\")\n",
    "# Create multijet\n",
    "plt.bar(r, multijet, bottom=[i+j+k+l+m for i,j,k,l,m in zip(wjets, zjets, ttbar, stop, diboson)], color='#cc99ff', width=barWidth, label=\"Multijet\")\n",
    " \n",
    "# Custom x axis\n",
    "plt.xticks(r, names)\n",
    "plt.xlabel(\"resolved region\")\n",
    " \n",
    "# Add a legend\n",
    "# plt.legend(loc='upper left', bbox_to_anchor=(1,1), ncol=1)\n",
    " \n",
    "# plt.tight_layout()\n",
    "    \n",
    "# Show graphic\n",
    "plt.show()"
   ]
  },
  {
   "cell_type": "code",
   "execution_count": null,
   "metadata": {},
   "outputs": [],
   "source": []
  }
 ],
 "metadata": {
  "kernelspec": {
   "display_name": "Python 3",
   "language": "python",
   "name": "python3"
  },
  "language_info": {
   "codemirror_mode": {
    "name": "ipython",
    "version": 3
   },
   "file_extension": ".py",
   "mimetype": "text/x-python",
   "name": "python",
   "nbconvert_exporter": "python",
   "pygments_lexer": "ipython3",
   "version": "3.5.2"
  }
 },
 "nbformat": 4,
 "nbformat_minor": 2
}
