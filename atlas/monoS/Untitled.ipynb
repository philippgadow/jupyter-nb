{
 "cells": [
  {
   "cell_type": "code",
   "execution_count": 12,
   "metadata": {},
   "outputs": [],
   "source": [
    "from numpythia import Pythia, hepmc_write\n",
    "from numpythia import STATUS, HAS_END_VERTEX, ABS_PDG_ID\n",
    "from pyjet import cluster"
   ]
  },
  {
   "cell_type": "code",
   "execution_count": 14,
   "metadata": {},
   "outputs": [
    {
     "name": "stdout",
     "output_type": "stream",
     "text": [
      "166.8310671795878\n"
     ]
    }
   ],
   "source": [
    "params = {\n",
    "\"HardQCD:all\": \"on\", \"Beams:eCM\": 13000, \"PhaseSpace:pTHatMin\": 100,\n",
    "}\n",
    "\n",
    "pythia = Pythia(params=params, random_state=1)\n",
    "\n",
    "selection = ((STATUS == 1) & ~HAS_END_VERTEX &\n",
    "             (ABS_PDG_ID != 12) & (ABS_PDG_ID != 14) & (ABS_PDG_ID != 16))\n",
    "\n",
    "# generate events while writing to ascii hepmc\n",
    "for event in hepmc_write('events.hepmc', pythia(events=1)):\n",
    "    jets = cluster(event.all(selection), R=1, p=-1, ep=True).inclusive_jets()\n",
    "    if jets:\n",
    "        print(jets[0].pt)"
   ]
  },
  {
   "cell_type": "code",
   "execution_count": null,
   "metadata": {},
   "outputs": [],
   "source": []
  }
 ],
 "metadata": {
  "kernelspec": {
   "display_name": "Python 3",
   "language": "python",
   "name": "python3"
  },
  "language_info": {
   "codemirror_mode": {
    "name": "ipython",
    "version": 3
   },
   "file_extension": ".py",
   "mimetype": "text/x-python",
   "name": "python",
   "nbconvert_exporter": "python",
   "pygments_lexer": "ipython3",
   "version": "3.5.2"
  }
 },
 "nbformat": 4,
 "nbformat_minor": 4
}
