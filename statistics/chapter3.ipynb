{
 "cells": [
  {
   "cell_type": "markdown",
   "metadata": {},
   "source": [
    "# chapter 3"
   ]
  },
  {
   "cell_type": "markdown",
   "metadata": {},
   "source": [
    "a defence system is 99.5 % efficienct in intercepting ballistic missiles. what is the probability that it will intercept all of 100 misiles launched against it?"
   ]
  },
  {
   "cell_type": "code",
   "execution_count": 3,
   "metadata": {},
   "outputs": [],
   "source": [
    "import math"
   ]
  },
  {
   "cell_type": "code",
   "execution_count": 11,
   "metadata": {},
   "outputs": [],
   "source": [
    "def factorial(n):\n",
    "    if n < 2:\n",
    "        return 1\n",
    "    else:\n",
    "        return n * factorial(n - 1)\n",
    "\n",
    "\n",
    "def binomial(r, n, p):\n",
    "    return p**r * (1. - p)**(n - r) * (factorial(n) / (factorial(r) * factorial(n - r)))"
   ]
  },
  {
   "cell_type": "code",
   "execution_count": 14,
   "metadata": {},
   "outputs": [
    {
     "name": "stdout",
     "output_type": "stream",
     "text": [
      "0.6057704364907279\n"
     ]
    }
   ],
   "source": [
    "p = 0.995\n",
    "n = 100\n",
    "r = 100\n",
    "print(binomial(r, n, p))"
   ]
  },
  {
   "cell_type": "code",
   "execution_count": 26,
   "metadata": {},
   "outputs": [
    {
     "name": "stdout",
     "output_type": "stream",
     "text": [
      "0.5017948372853762\n"
     ]
    }
   ],
   "source": [
    "p = 0.005\n",
    "n = 139\n",
    "r = 0\n",
    "print(1. - binomial(r, n, p))"
   ]
  },
  {
   "cell_type": "code",
   "execution_count": 59,
   "metadata": {},
   "outputs": [
    {
     "name": "stdout",
     "output_type": "stream",
     "text": [
      "0.5006487703811057\n"
     ]
    }
   ],
   "source": [
    "p = 0.995\n",
    "n = 535\n",
    "pr = 0.\n",
    "for r in range(0, n - 3 + 1):\n",
    "    pr += binomial(r, n, p)\n",
    "print(pr)"
   ]
  },
  {
   "cell_type": "code",
   "execution_count": 60,
   "metadata": {},
   "outputs": [],
   "source": [
    "def poisson(mu, n):\n",
    "    return mu**n * math.exp(-mu) / factorial(n)"
   ]
  },
  {
   "cell_type": "code",
   "execution_count": 61,
   "metadata": {},
   "outputs": [
    {
     "name": "stdout",
     "output_type": "stream",
     "text": [
      "0.10854834297002636\n"
     ]
    }
   ],
   "source": [
    "mu = 15.7 * 0.5\n",
    "pr = 0\n",
    "for n in range(0, 5):\n",
    "    pr += poisson(mu, n)\n",
    "print(pr)"
   ]
  },
  {
   "cell_type": "code",
   "execution_count": 63,
   "metadata": {},
   "outputs": [
    {
     "name": "stdout",
     "output_type": "stream",
     "text": [
      "0.11329999000696107\n"
     ]
    }
   ],
   "source": [
    "def gaussian(x, mu, sigma):\n",
    "    return math.exp(-(x - mu)**2 / (2 * sigma**2)) / math.sqrt(2 * math.pi * sigma**2)\n",
    "\n",
    "mu = 15.7 * 0.5\n",
    "sigma = math.sqrt(mu)\n",
    "\n",
    "pr = 0\n",
    "for n in range(0, 5):\n",
    "    pr += gaussian(n, mu, sigma)\n",
    "print(pr)"
   ]
  },
  {
   "cell_type": "code",
   "execution_count": null,
   "metadata": {},
   "outputs": [],
   "source": []
  }
 ],
 "metadata": {
  "kernelspec": {
   "display_name": "Python 3",
   "language": "python",
   "name": "python3"
  },
  "language_info": {
   "codemirror_mode": {
    "name": "ipython",
    "version": 3
   },
   "file_extension": ".py",
   "mimetype": "text/x-python",
   "name": "python",
   "nbconvert_exporter": "python",
   "pygments_lexer": "ipython3",
   "version": "3.5.2"
  }
 },
 "nbformat": 4,
 "nbformat_minor": 2
}
