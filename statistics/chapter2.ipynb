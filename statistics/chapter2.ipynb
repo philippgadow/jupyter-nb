{
 "cells": [
  {
   "cell_type": "markdown",
   "metadata": {},
   "source": [
    "# Probles for chapter 2"
   ]
  },
  {
   "cell_type": "code",
   "execution_count": 1,
   "metadata": {},
   "outputs": [],
   "source": [
    "import math"
   ]
  },
  {
   "cell_type": "code",
   "execution_count": 2,
   "metadata": {},
   "outputs": [],
   "source": [
    "def mean(numbers):\n",
    "    \"\"\"Calculate mean of list of numbers.\"\"\"\n",
    "    mean = 0.\n",
    "    for n in numbers:\n",
    "        mean += n\n",
    "    mean /= len(numbers)\n",
    "    return mean\n",
    "\n",
    "\n",
    "def stddev(numbers):\n",
    "    \"\"\"Calculate standard deviation of list of numbers\"\"\"\n",
    "    variance = 0.\n",
    "    m = mean(numbers)\n",
    "    for n in numbers:\n",
    "        variance += (n - m)**2\n",
    "    variance /= len(numbers)\n",
    "    return math.sqrt(variance)"
   ]
  },
  {
   "cell_type": "code",
   "execution_count": 3,
   "metadata": {},
   "outputs": [
    {
     "name": "stdout",
     "output_type": "stream",
     "text": [
      "19.264\n",
      "0.485699495573137\n"
     ]
    }
   ],
   "source": [
    "# exercise 1: calculate the mean of the students age\n",
    "ages = [19.0, 18.7, 19.3, 19.2, 18.9, 19.0, 20.2, 19.9, 18.6, 19.4, 19.3, 18.8, 19.3, 19.2, 18.7, 18.5, 18.6, 19.7, 19.9, 20.0, 19.5, 19.4, 19.6, 20.0, 18.9]\n",
    "print(mean(ages))\n",
    "print(stddev(ages))"
   ]
  },
  {
   "cell_type": "code",
   "execution_count": 4,
   "metadata": {},
   "outputs": [
    {
     "name": "stdout",
     "output_type": "stream",
     "text": [
      "19.94615384615384\n",
      "3.4438608442840573\n"
     ]
    }
   ],
   "source": [
    "# exercise 2: append age of lecturer and observe effect on mean and standard deviation\n",
    "ages.append(37.0)\n",
    "print(mean(ages))\n",
    "print(stddev(ages))"
   ]
  },
  {
   "cell_type": "code",
   "execution_count": 5,
   "metadata": {},
   "outputs": [
    {
     "name": "stdout",
     "output_type": "stream",
     "text": [
      "0.2259088610529652\n",
      "4.652201927870352\n"
     ]
    }
   ],
   "source": [
    "# exercise 3: repeat calculations above for skew\n",
    "def skew(numbers):\n",
    "    \"\"\"Calculate skew of list of numbers.\"\"\"\n",
    "    m = mean(numbers)\n",
    "    s = stddev(numbers)\n",
    "    skew = 0.\n",
    "    for n in numbers:\n",
    "        skew += (n - m)**3\n",
    "    skew /= len(numbers)\n",
    "    skew /= s**3\n",
    "    return skew\n",
    "\n",
    "ages = [19.0, 18.7, 19.3, 19.2, 18.9, 19.0, 20.2, 19.9, 18.6, 19.4, 19.3, 18.8, 19.3, 19.2, 18.7, 18.5, 18.6, 19.7, 19.9, 20.0, 19.5, 19.4, 19.6, 20.0, 18.9]\n",
    "print(skew(ages))\n",
    "ages.append(37.0)\n",
    "print(skew(ages))\n",
    "\n"
   ]
  },
  {
   "cell_type": "code",
   "execution_count": 6,
   "metadata": {},
   "outputs": [
    {
     "name": "stdout",
     "output_type": "stream",
     "text": [
      "37.5\n",
      "55.25\n",
      "207.45833333333334\n",
      "0.5651642265418636\n"
     ]
    }
   ],
   "source": [
    "# exercise 4: calculate average, covariance and correlation\n",
    "def covariance(n1, n2):\n",
    "    \"\"\"Calculate covariance matrix for two lists of numbers.\"\"\"\n",
    "    if len(n1) != len(n2):\n",
    "        return -1\n",
    "    covariance = 0.\n",
    "    mean_x = mean(n1)\n",
    "    mean_y = mean(n2)\n",
    "    for x, y in zip(n1, n2):\n",
    "        covariance += (x - mean_x) * (y - mean_y)\n",
    "    covariance /= len(n1)\n",
    "    return covariance\n",
    "\n",
    "classical = [22, 48, 76, 10, 22, 4, 68, 44, 10, 76, 14, 56]\n",
    "quantum = [63, 39, 61, 30, 51, 44, 74, 78, 55, 58, 41, 69]\n",
    "\n",
    "mean_classical = mean(classical)\n",
    "mean_quantum = mean(quantum)\n",
    "stddev_classical = stddev(classical)\n",
    "stddev_quantum = stddev(quantum)\n",
    "\n",
    "print(mean_classical)\n",
    "print(mean_quantum)\n",
    "\n",
    "print(covariance(classical, quantum))\n",
    "\n",
    "correlation = covariance(classical, quantum) / (stddev_classical * stddev_quantum)\n",
    "print(correlation)\n"
   ]
  },
  {
   "cell_type": "code",
   "execution_count": null,
   "metadata": {},
   "outputs": [],
   "source": []
  }
 ],
 "metadata": {
  "kernelspec": {
   "display_name": "Python 3",
   "language": "python",
   "name": "python3"
  },
  "language_info": {
   "codemirror_mode": {
    "name": "ipython",
    "version": 3
   },
   "file_extension": ".py",
   "mimetype": "text/x-python",
   "name": "python",
   "nbconvert_exporter": "python",
   "pygments_lexer": "ipython3",
   "version": "3.5.2"
  }
 },
 "nbformat": 4,
 "nbformat_minor": 2
}
